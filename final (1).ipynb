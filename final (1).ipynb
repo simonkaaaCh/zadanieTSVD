{
 "cells": [
  {
   "cell_type": "markdown",
   "metadata": {
    "ExecuteTime": {
     "end_time": "2024-04-30T20:56:56.882388Z",
     "start_time": "2024-04-30T20:56:37.647036Z"
    },
    "tags": []
   },
   "source": [
    "# Semestrálne zadanie \n",
    "#### Sebastián Hreško, Simona Chovancová"
   ]
  },
  {
   "cell_type": "markdown",
   "metadata": {},
   "source": [
    "##### Nainštalujeme a naimportujeme si potrebné knižnice"
   ]
  },
  {
   "cell_type": "code",
   "execution_count": 1,
   "metadata": {},
   "outputs": [
    {
     "name": "stdout",
     "output_type": "stream",
     "text": [
      "Requirement already satisfied: findspark in /opt/conda/lib/python3.10/site-packages (2.0.1)\n",
      "Requirement already satisfied: pyspark in /opt/conda/lib/python3.10/site-packages (3.4.0)\n",
      "Requirement already satisfied: py4j==0.10.9.7 in /opt/conda/lib/python3.10/site-packages (from pyspark) (0.10.9.7)\n",
      "Requirement already satisfied: matplotlib in /opt/conda/lib/python3.10/site-packages (3.5.3)\n",
      "Requirement already satisfied: pillow>=6.2.0 in /opt/conda/lib/python3.10/site-packages (from matplotlib) (9.2.0)\n",
      "Requirement already satisfied: pyparsing>=2.2.1 in /opt/conda/lib/python3.10/site-packages (from matplotlib) (3.0.9)\n",
      "Requirement already satisfied: packaging>=20.0 in /opt/conda/lib/python3.10/site-packages (from matplotlib) (21.3)\n",
      "Requirement already satisfied: numpy>=1.17 in /opt/conda/lib/python3.10/site-packages (from matplotlib) (1.22.4)\n",
      "Requirement already satisfied: cycler>=0.10 in /opt/conda/lib/python3.10/site-packages (from matplotlib) (0.11.0)\n",
      "Requirement already satisfied: kiwisolver>=1.0.1 in /opt/conda/lib/python3.10/site-packages (from matplotlib) (1.4.4)\n",
      "Requirement already satisfied: fonttools>=4.22.0 in /opt/conda/lib/python3.10/site-packages (from matplotlib) (4.37.1)\n",
      "Requirement already satisfied: python-dateutil>=2.7 in /opt/conda/lib/python3.10/site-packages (from matplotlib) (2.8.2)\n",
      "Requirement already satisfied: six>=1.5 in /opt/conda/lib/python3.10/site-packages (from python-dateutil>=2.7->matplotlib) (1.16.0)\n",
      "Requirement already satisfied: pandas in /opt/conda/lib/python3.10/site-packages (1.4.4)\n",
      "Requirement already satisfied: python-dateutil>=2.8.1 in /opt/conda/lib/python3.10/site-packages (from pandas) (2.8.2)\n",
      "Requirement already satisfied: pytz>=2020.1 in /opt/conda/lib/python3.10/site-packages (from pandas) (2022.2.1)\n",
      "Requirement already satisfied: numpy>=1.21.0 in /opt/conda/lib/python3.10/site-packages (from pandas) (1.22.4)\n",
      "Requirement already satisfied: six>=1.5 in /opt/conda/lib/python3.10/site-packages (from python-dateutil>=2.8.1->pandas) (1.16.0)\n"
     ]
    }
   ],
   "source": [
    "#instalacia a importovanie potrebnych kniznic\n",
    "!pip install findspark\n",
    "!pip install pyspark\n",
    "!pip install matplotlib\n",
    "\n",
    "import pyspark\n",
    "from pyspark.sql import SparkSession\n",
    "from pyspark.sql.functions import avg, dayofweek, lit, lower, month, to_date, upper, mean, when, col, sum, split, regexp_replace, trim\n",
    "!pip install pandas\n",
    "import pandas as pd\n",
    "import matplotlib.pyplot as plt\n",
    "from pyspark.ml.feature import StringIndexer, OneHotEncoder, VectorAssembler\n"
   ]
  },
  {
   "cell_type": "code",
   "execution_count": 2,
   "metadata": {
    "ExecuteTime": {
     "end_time": "2024-04-30T18:32:20.882948Z",
     "start_time": "2024-04-30T18:32:15.549842Z"
    },
    "collapsed": false,
    "jupyter": {
     "outputs_hidden": false
    }
   },
   "outputs": [
    {
     "name": "stderr",
     "output_type": "stream",
     "text": [
      "Setting default log level to \"WARN\".\n",
      "To adjust logging level use sc.setLogLevel(newLevel). For SparkR, use setLogLevel(newLevel).\n",
      "24/04/30 18:32:19 WARN NativeCodeLoader: Unable to load native-hadoop library for your platform... using builtin-java classes where applicable\n"
     ]
    }
   ],
   "source": [
    "spark = SparkSession.builder \\\n",
    "    .appName(\"tsvd_zadanie\") \\\n",
    "    .config(\"spark.driver.memory\", \"8g\") \\\n",
    "    .getOrCreate()"
   ]
  },
  {
   "cell_type": "markdown",
   "metadata": {},
   "source": [
    "#### V nasledujúcej časti si načítame súbory údajov"
   ]
  },
  {
   "cell_type": "code",
   "execution_count": 3,
   "metadata": {
    "ExecuteTime": {
     "end_time": "2024-04-30T17:50:25.720371Z",
     "start_time": "2024-04-30T17:50:19.080016Z"
    },
    "collapsed": false,
    "jupyter": {
     "outputs_hidden": false
    }
   },
   "outputs": [
    {
     "name": "stderr",
     "output_type": "stream",
     "text": [
      "24/04/30 17:50:25 WARN SparkStringUtils: Truncated the string representation of a plan since it was too large. This behavior can be adjusted by setting 'spark.sql.debug.maxToStringFields'.\n"
     ]
    },
    {
     "data": {
      "text/plain": [
       "Row(STATION='USW00013874', NAME='ATLANTA HARTSFIELD JACKSON INTERNATIONAL AIRPORT, GA US', DATE='1/1/2019', AWND='4.7', PGTM=None, PRCP='0.14', SNOW='0.0', SNWD='0.0', TAVG='64.0', TMAX='66.0', TMIN='57.0', WDF2='310.0', WDF5='310.0', WSF2='15.0', WSF5='19.0', WT01='1.0', WT02=None, WT03=None, WT04=None, WT05=None, WT06=None, WT07=None, WT08=None, WT09=None, WESD=None, WT10=None, PSUN=None, TSUN=None, SN32=None, SX32=None, TOBS=None, WT11=None)"
      ]
     },
     "execution_count": 3,
     "metadata": {},
     "output_type": "execute_result"
    }
   ],
   "source": [
    "#Načítanie datesetu\n",
    "weather_df = spark.read.csv(\"airport_weather_2019.csv\", header=True)\n",
    "weather_df.first()"
   ]
  },
  {
   "cell_type": "code",
   "execution_count": 4,
   "metadata": {
    "ExecuteTime": {
     "end_time": "2024-04-30T17:50:26.582586Z",
     "start_time": "2024-04-30T17:50:25.686773Z"
    },
    "collapsed": false,
    "jupyter": {
     "outputs_hidden": false
    }
   },
   "outputs": [
    {
     "data": {
      "text/plain": [
       "38675"
      ]
     },
     "execution_count": 4,
     "metadata": {},
     "output_type": "execute_result"
    }
   ],
   "source": [
    "#Počet riadkov datasetu airport_weather_2019.csv\n",
    "weather_df.count()"
   ]
  },
  {
   "cell_type": "code",
   "execution_count": 5,
   "metadata": {
    "ExecuteTime": {
     "end_time": "2024-04-30T17:50:26.974044Z",
     "start_time": "2024-04-30T17:50:26.582417Z"
    },
    "collapsed": false,
    "jupyter": {
     "outputs_hidden": false
    }
   },
   "outputs": [
    {
     "name": "stderr",
     "output_type": "stream",
     "text": [
      "24/04/30 17:50:26 WARN CSVHeaderChecker: CSV header does not conform to the schema.\n",
      " Header: , MONTH, DAY_OF_WEEK, DEP_DEL15, DEP_TIME_BLK, DISTANCE_GROUP, SEGMENT_NUMBER, CONCURRENT_FLIGHTS, NUMBER_OF_SEATS, CARRIER_NAME, AIRPORT_FLIGHTS_MONTH, AIRLINE_FLIGHTS_MONTH, AIRLINE_AIRPORT_FLIGHTS_MONTH, AVG_MONTHLY_PASS_AIRPORT, AVG_MONTHLY_PASS_AIRLINE, FLT_ATTENDANTS_PER_PASS, GROUND_SERV_PER_PASS, PLANE_AGE, DEPARTING_AIRPORT, LATITUDE, LONGITUDE, PREVIOUS_AIRPORT\n",
      " Schema: _c0, MONTH, DAY_OF_WEEK, DEP_DEL15, DEP_TIME_BLK, DISTANCE_GROUP, SEGMENT_NUMBER, CONCURRENT_FLIGHTS, NUMBER_OF_SEATS, CARRIER_NAME, AIRPORT_FLIGHTS_MONTH, AIRLINE_FLIGHTS_MONTH, AIRLINE_AIRPORT_FLIGHTS_MONTH, AVG_MONTHLY_PASS_AIRPORT, AVG_MONTHLY_PASS_AIRLINE, FLT_ATTENDANTS_PER_PASS, GROUND_SERV_PER_PASS, PLANE_AGE, DEPARTING_AIRPORT, LATITUDE, LONGITUDE, PREVIOUS_AIRPORT\n",
      "Expected: _c0 but found: \n",
      "CSV file: file:///Users/A117792292/Documents/School/sparkzadanie/full_data_flightdelay.csv\n"
     ]
    },
    {
     "data": {
      "text/plain": [
       "Row(_c0='0', MONTH='1', DAY_OF_WEEK='7', DEP_DEL15='0', DEP_TIME_BLK='0800-0859', DISTANCE_GROUP='2.0', SEGMENT_NUMBER='1', CONCURRENT_FLIGHTS='25', NUMBER_OF_SEATS='143', CARRIER_NAME='Southwest Airlines Co.', AIRPORT_FLIGHTS_MONTH='13056', AIRLINE_FLIGHTS_MONTH='107363', AIRLINE_AIRPORT_FLIGHTS_MONTH='5873.0', AVG_MONTHLY_PASS_AIRPORT='1903352', AVG_MONTHLY_PASS_AIRLINE='13382999', FLT_ATTENDANTS_PER_PASS='6.178236301460919e-05', GROUND_SERV_PER_PASS='9.88941230999822e-05', PLANE_AGE='8', DEPARTING_AIRPORT='McCarran International', LATITUDE='36.08', LONGITUDE='-115.152', PREVIOUS_AIRPORT='NONE')"
      ]
     },
     "execution_count": 5,
     "metadata": {},
     "output_type": "execute_result"
    }
   ],
   "source": [
    "#Načítanie druhého datasetu full_data_flightdelay.csv\n",
    "flight_delay_df = spark.read.csv(\"full_data_flightdelay.csv\", header=True)\n",
    "flight_delay_df.first()"
   ]
  },
  {
   "cell_type": "code",
   "execution_count": 6,
   "metadata": {
    "ExecuteTime": {
     "end_time": "2024-04-30T17:50:29.316899Z",
     "start_time": "2024-04-30T17:50:26.980250Z"
    },
    "collapsed": false,
    "jupyter": {
     "outputs_hidden": false
    }
   },
   "outputs": [
    {
     "name": "stderr",
     "output_type": "stream",
     "text": [
      "                                                                                \r"
     ]
    },
    {
     "data": {
      "text/plain": [
       "6489062"
      ]
     },
     "execution_count": 6,
     "metadata": {},
     "output_type": "execute_result"
    }
   ],
   "source": [
    "#Počet riadkov datasetu full_data_flightdelay.csv\n",
    "flight_delay_df.count()"
   ]
  },
  {
   "cell_type": "markdown",
   "metadata": {},
   "source": [
    "## V nasledujúcej časti sa zameriame na úravy v datasete weather\n",
    "###### Transformácia nominálnych atribútov na numerické\n",
    "###### Transformácia numerických atribútov na nominálne\n",
    "###### Vypočítanie pomerového kritéria – informačného zisku voči cieľovému atribútu (klasifikačná úloha), pre nominálne atribúty\n",
    "###### Vypočítanie štatistík pre numerické atribúty\n",
    "###### Vytvorenie histogramov pre nominálne atribúty\n",
    "###### Spracovanie chýbajúcich hodnôt (napr. ich nahradenie priemermi, atď.)"
   ]
  },
  {
   "cell_type": "code",
   "execution_count": 7,
   "metadata": {
    "ExecuteTime": {
     "end_time": "2024-04-30T17:50:29.371742Z",
     "start_time": "2024-04-30T17:50:28.941999Z"
    },
    "collapsed": false,
    "jupyter": {
     "outputs_hidden": false
    }
   },
   "outputs": [],
   "source": [
    "# úprava formátu dátumu v stĺpci \"DATE\" z lomitok na pomlcky\n",
    "weather_1 = weather_df.filter(col('DATE').rlike('\\/')).withColumn(\"DATE\", to_date(col(\"DATE\"), \"M/d/yyyy\"))\n",
    "weather_2 = weather_df.filter(col('DATE').rlike('\\-'))\n",
    "\n",
    "weather_df = weather_1.union(weather_2)"
   ]
  },
  {
   "cell_type": "code",
   "execution_count": 8,
   "metadata": {
    "ExecuteTime": {
     "end_time": "2024-04-30T17:50:29.867059Z",
     "start_time": "2024-04-30T17:50:29.277177Z"
    },
    "collapsed": false,
    "jupyter": {
     "outputs_hidden": false
    }
   },
   "outputs": [
    {
     "data": {
      "text/plain": [
       "Row(STATION='USW00013874', NAME='ATLANTA HARTSFIELD JACKSON INTERNATIONAL AIRPORT, GA US', DATE='2019-01-01', AWND='4.7', PGTM=None, PRCP='0.14', SNOW='0.0', SNWD='0.0', TAVG='64.0', TMAX='66.0', TMIN='57.0', WDF2='310.0', WDF5='310.0', WSF2='15.0', WSF5='19.0', WT01='1.0', WT02=None, WT03=None, WT04=None, WT05=None, WT06=None, WT07=None, WT08=None, WT09=None, WESD=None, WT10=None, PSUN=None, TSUN=None, SN32=None, SX32=None, TOBS=None, WT11=None)"
      ]
     },
     "execution_count": 8,
     "metadata": {},
     "output_type": "execute_result"
    }
   ],
   "source": [
    "weather_df.first()\n"
   ]
  },
  {
   "cell_type": "code",
   "execution_count": 9,
   "metadata": {
    "ExecuteTime": {
     "end_time": "2024-04-30T17:50:30.007185Z",
     "start_time": "2024-04-30T17:50:29.852273Z"
    },
    "collapsed": false,
    "jupyter": {
     "outputs_hidden": false
    }
   },
   "outputs": [],
   "source": [
    "# vytvorenie stĺpca \"MONTH\" s poradovým číslom mesiaca v roku z dátumu\n",
    "weather_df = weather_df.withColumn(\"MONTH\", month(\"DATE\"))\n",
    "# vytvorenie stĺpca \"DAYOFWEEK\" s poradovým číslom dňa v týždni z dátumu\n",
    "weather_df = weather_df.withColumn(\"DAY_OF_WEEK\", dayofweek(\"DATE\"))\n",
    "weather_df = weather_df.withColumn(\"DAY_OF_WEEK\", when(col(\"DAY_OF_WEEK\") == 1, 7).otherwise(col(\"DAY_OF_WEEK\") - 1))"
   ]
  },
  {
   "cell_type": "code",
   "execution_count": 10,
   "metadata": {
    "ExecuteTime": {
     "end_time": "2024-04-30T17:50:30.699626Z",
     "start_time": "2024-04-30T17:50:29.992132Z"
    },
    "collapsed": false,
    "jupyter": {
     "outputs_hidden": false
    }
   },
   "outputs": [
    {
     "data": {
      "text/plain": [
       "Row(STATION='USW00013874', NAME='ATLANTA HARTSFIELD JACKSON INTERNATIONAL AIRPORT, GA US', DATE='2019-01-01', AWND='4.7', PGTM=None, PRCP='0.14', SNOW='0.0', SNWD='0.0', TAVG='64.0', TMAX='66.0', TMIN='57.0', WDF2='310.0', WDF5='310.0', WSF2='15.0', WSF5='19.0', WT01='1.0', WT02=None, WT03=None, WT04=None, WT05=None, WT06=None, WT07=None, WT08=None, WT09=None, WESD=None, WT10=None, PSUN=None, TSUN=None, SN32=None, SX32=None, TOBS=None, WT11=None, MONTH=1, DAY_OF_WEEK=2)"
      ]
     },
     "execution_count": 10,
     "metadata": {},
     "output_type": "execute_result"
    }
   ],
   "source": [
    "weather_df.first()"
   ]
  },
  {
   "cell_type": "code",
   "execution_count": 11,
   "metadata": {
    "ExecuteTime": {
     "end_time": "2024-04-30T17:50:30.703992Z",
     "start_time": "2024-04-30T17:50:30.614085Z"
    },
    "collapsed": false,
    "jupyter": {
     "outputs_hidden": false
    }
   },
   "outputs": [],
   "source": [
    "#none hodnoty v týchto atribútoch nahradíme 0\n",
    "weather_df = weather_df.na.fill({'WT01': 0, 'WT02': 0, 'WT03': 0, 'WT04': 0, 'WT05': 0, 'WT06': 0, 'WT07': 0, 'WT08': 0, 'WT09': 0, 'WT10': 0, 'WT11': 0, 'SNOW': 0})"
   ]
  },
  {
   "cell_type": "code",
   "execution_count": 12,
   "metadata": {
    "ExecuteTime": {
     "end_time": "2024-04-30T17:50:31.417520Z",
     "start_time": "2024-04-30T17:50:30.667909Z"
    },
    "collapsed": false,
    "jupyter": {
     "outputs_hidden": false
    }
   },
   "outputs": [
    {
     "data": {
      "text/plain": [
       "Row(STATION='USW00013874', NAME='ATLANTA HARTSFIELD JACKSON INTERNATIONAL AIRPORT, GA US', DATE='2019-01-01', AWND='4.7', PGTM=None, PRCP='0.14', SNOW='0.0', SNWD='0.0', TAVG='64.0', TMAX='66.0', TMIN='57.0', WDF2='310.0', WDF5='310.0', WSF2='15.0', WSF5='19.0', WT01='1.0', WT02='0', WT03='0', WT04='0', WT05='0', WT06='0', WT07='0', WT08='0', WT09='0', WESD=None, WT10='0', PSUN=None, TSUN=None, SN32=None, SX32=None, TOBS=None, WT11='0', MONTH=1, DAY_OF_WEEK=2)"
      ]
     },
     "execution_count": 12,
     "metadata": {},
     "output_type": "execute_result"
    }
   ],
   "source": [
    "weather_df.first()"
   ]
  },
  {
   "cell_type": "code",
   "execution_count": 13,
   "metadata": {
    "ExecuteTime": {
     "end_time": "2024-04-30T17:50:33.429804Z",
     "start_time": "2024-04-30T17:50:31.396949Z"
    },
    "collapsed": false,
    "jupyter": {
     "outputs_hidden": false
    }
   },
   "outputs": [
    {
     "name": "stderr",
     "output_type": "stream",
     "text": [
      "[Stage 13:=============================>                            (2 + 2) / 4]\r"
     ]
    },
    {
     "name": "stdout",
     "output_type": "stream",
     "text": [
      "+-------+----+----+----+-----+----+----+-----+----+----+----+----+----+----+----+----+----+----+----+----+----+----+----+----+-----+----+-----+-----+-----+-----+-----+----+-----+-----------+\n",
      "|STATION|NAME|DATE|AWND| PGTM|PRCP|SNOW| SNWD|TAVG|TMAX|TMIN|WDF2|WDF5|WSF2|WSF5|WT01|WT02|WT03|WT04|WT05|WT06|WT07|WT08|WT09| WESD|WT10| PSUN| TSUN| SN32| SX32| TOBS|WT11|MONTH|DAY_OF_WEEK|\n",
      "+-------+----+----+----+-----+----+----+-----+----+----+----+----+----+----+----+----+----+----+----+----+----+----+----+----+-----+----+-----+-----+-----+-----+-----+----+-----+-----------+\n",
      "|      0|   0|   0| 381|34737|  26|   0|12290|9933|  20|  21| 370| 481| 370| 481|   0|   0|   0|   0|   0|   0|   0|   0|   0|38669|   0|38336|38337|38310|38310|38320|   0|    0|          0|\n",
      "+-------+----+----+----+-----+----+----+-----+----+----+----+----+----+----+----+----+----+----+----+----+----+----+----+----+-----+----+-----+-----+-----+-----+-----+----+-----+-----------+\n",
      "\n"
     ]
    },
    {
     "name": "stderr",
     "output_type": "stream",
     "text": [
      "                                                                                \r"
     ]
    }
   ],
   "source": [
    "#zobrazíme si početnosť null hodnôt v datasete weather\n",
    "null_count_weather = weather_df.select([sum(col(c).isNull().cast(\"int\")).alias(c) for c in weather_df.columns])\n",
    "null_count_weather.show()"
   ]
  },
  {
   "cell_type": "code",
   "execution_count": 14,
   "metadata": {
    "ExecuteTime": {
     "end_time": "2024-04-30T17:50:33.430279Z",
     "start_time": "2024-04-30T17:50:33.188894Z"
    },
    "collapsed": false,
    "jupyter": {
     "outputs_hidden": false
    }
   },
   "outputs": [],
   "source": [
    "#Stĺpce, ktoré majú prevažnu väčšinu svojích hodnôt nulových ostránime\n",
    "weather_df = weather_df.drop('PSUN', 'TSUN', 'WESD', 'SN32', 'SX32', 'TOBS', 'PGTM')"
   ]
  },
  {
   "cell_type": "code",
   "execution_count": 15,
   "metadata": {
    "ExecuteTime": {
     "end_time": "2024-04-30T17:50:33.657363Z",
     "start_time": "2024-04-30T17:50:33.210671Z"
    },
    "collapsed": false,
    "jupyter": {
     "outputs_hidden": false
    }
   },
   "outputs": [
    {
     "data": {
      "text/plain": [
       "Row(STATION='USW00013874', NAME='ATLANTA HARTSFIELD JACKSON INTERNATIONAL AIRPORT, GA US', DATE='2019-01-01', AWND='4.7', PRCP='0.14', SNOW='0.0', SNWD='0.0', TAVG='64.0', TMAX='66.0', TMIN='57.0', WDF2='310.0', WDF5='310.0', WSF2='15.0', WSF5='19.0', WT01='1.0', WT02='0', WT03='0', WT04='0', WT05='0', WT06='0', WT07='0', WT08='0', WT09='0', WT10='0', WT11='0', MONTH=1, DAY_OF_WEEK=2)"
      ]
     },
     "execution_count": 15,
     "metadata": {},
     "output_type": "execute_result"
    }
   ],
   "source": [
    "weather_df.first()"
   ]
  },
  {
   "cell_type": "code",
   "execution_count": 16,
   "metadata": {
    "ExecuteTime": {
     "end_time": "2024-04-30T17:50:35.316621Z",
     "start_time": "2024-04-30T17:50:33.508014Z"
    },
    "collapsed": false,
    "jupyter": {
     "outputs_hidden": false
    }
   },
   "outputs": [
    {
     "name": "stderr",
     "output_type": "stream",
     "text": [
      "[Stage 17:=============================>                            (2 + 2) / 4]\r"
     ]
    },
    {
     "name": "stdout",
     "output_type": "stream",
     "text": [
      "+-------+----+----+----+----+----+-----+----+----+----+----+----+----+----+----+----+----+----+----+----+----+----+----+----+----+-----+-----------+\n",
      "|STATION|NAME|DATE|AWND|PRCP|SNOW| SNWD|TAVG|TMAX|TMIN|WDF2|WDF5|WSF2|WSF5|WT01|WT02|WT03|WT04|WT05|WT06|WT07|WT08|WT09|WT10|WT11|MONTH|DAY_OF_WEEK|\n",
      "+-------+----+----+----+----+----+-----+----+----+----+----+----+----+----+----+----+----+----+----+----+----+----+----+----+----+-----+-----------+\n",
      "|      0|   0|   0| 381|  26|   0|12290|9933|  20|  21| 370| 481| 370| 481|   0|   0|   0|   0|   0|   0|   0|   0|   0|   0|   0|    0|          0|\n",
      "+-------+----+----+----+----+----+-----+----+----+----+----+----+----+----+----+----+----+----+----+----+----+----+----+----+----+-----+-----------+\n",
      "\n"
     ]
    },
    {
     "name": "stderr",
     "output_type": "stream",
     "text": [
      "                                                                                \r"
     ]
    }
   ],
   "source": [
    "#opäť si zobrazíme početnosť null hodnôt v datasete\n",
    "null_count_weather = weather_df.select([sum(col(c).isNull().cast(\"int\")).alias(c) for c in weather_df.columns])\n",
    "null_count_weather.show()"
   ]
  },
  {
   "cell_type": "markdown",
   "metadata": {},
   "source": [
    "##### NAHRADENIE NULL HODNOT V STĹPCI \"SNWD\" PRIEMERNÝMI HODNOTAMI podľa mesiaca\n"
   ]
  },
  {
   "cell_type": "code",
   "execution_count": 17,
   "metadata": {
    "ExecuteTime": {
     "end_time": "2024-04-30T17:50:35.652961Z",
     "start_time": "2024-04-30T17:50:35.315750Z"
    },
    "collapsed": false,
    "jupyter": {
     "outputs_hidden": false
    }
   },
   "outputs": [],
   "source": [
    "# definujte názvy stĺpcov\n",
    "groupby_column = \"MONTH\"\n",
    "replace_column = \"SNWD\"\n",
    "\n",
    "# vypočítajte priemer pre každú skupinu\n",
    "mean_df = weather_df.groupBy(groupby_column).agg(\n",
    "  mean(replace_column).alias('mean_' + replace_column)\n",
    ")\n",
    "\n",
    "weather_df = weather_df.join(mean_df, on=groupby_column)\n",
    "\n",
    "# replace NULL hodnoty hodnotou priemeru\n",
    "weather_df = weather_df.withColumn(\n",
    "  replace_column,\n",
    "  when(col(replace_column).isNull(), col('mean_' + replace_column)).otherwise(col(replace_column))\n",
    ")"
   ]
  },
  {
   "cell_type": "code",
   "execution_count": 18,
   "metadata": {
    "ExecuteTime": {
     "end_time": "2024-04-30T17:50:35.664472Z",
     "start_time": "2024-04-30T17:50:35.481109Z"
    },
    "collapsed": false,
    "jupyter": {
     "outputs_hidden": false
    }
   },
   "outputs": [],
   "source": [
    "#dropneme už nepotrebný stĺpec mean_SNWD\n",
    "weather_df = weather_df.drop('mean_SNWD')"
   ]
  },
  {
   "cell_type": "code",
   "execution_count": 19,
   "metadata": {
    "ExecuteTime": {
     "end_time": "2024-04-30T17:50:39.338883Z",
     "start_time": "2024-04-30T17:50:35.502172Z"
    },
    "collapsed": false,
    "jupyter": {
     "outputs_hidden": false
    }
   },
   "outputs": [
    {
     "name": "stderr",
     "output_type": "stream",
     "text": [
      "[Stage 23:===========================================>              (3 + 1) / 4]\r"
     ]
    },
    {
     "name": "stdout",
     "output_type": "stream",
     "text": [
      "+-----+-------+----+----+----+----+----+----+----+----+----+----+----+----+----+----+----+----+----+----+----+----+----+----+----+----+-----------+\n",
      "|MONTH|STATION|NAME|DATE|AWND|PRCP|SNOW|SNWD|TAVG|TMAX|TMIN|WDF2|WDF5|WSF2|WSF5|WT01|WT02|WT03|WT04|WT05|WT06|WT07|WT08|WT09|WT10|WT11|DAY_OF_WEEK|\n",
      "+-----+-------+----+----+----+----+----+----+----+----+----+----+----+----+----+----+----+----+----+----+----+----+----+----+----+----+-----------+\n",
      "|    0|      0|   0|   0| 381|  26|   0|   0|9933|  20|  21| 370| 481| 370| 481|   0|   0|   0|   0|   0|   0|   0|   0|   0|   0|   0|          0|\n",
      "+-----+-------+----+----+----+----+----+----+----+----+----+----+----+----+----+----+----+----+----+----+----+----+----+----+----+----+-----------+\n",
      "\n"
     ]
    },
    {
     "name": "stderr",
     "output_type": "stream",
     "text": [
      "                                                                                \r"
     ]
    }
   ],
   "source": [
    "#zobrazíme si početnosť null hodnôt v datasete - ELIMINOVALI SME NULL HODNOTY V STĹPCI \"SNWD\" (12000)\n",
    "null_count_weather = weather_df.select([sum(col(c).isNull().cast(\"int\")).alias(c) for c in weather_df.columns])\n",
    "null_count_weather.show()"
   ]
  },
  {
   "cell_type": "markdown",
   "metadata": {},
   "source": [
    "#### V nasledujúcej časti sa zameriame na vyplnenie NULL hodnôt v prípade atribútu TAVG"
   ]
  },
  {
   "cell_type": "code",
   "execution_count": 20,
   "metadata": {
    "ExecuteTime": {
     "end_time": "2024-04-30T17:50:39.466138Z",
     "start_time": "2024-04-30T17:50:39.343233Z"
    },
    "collapsed": false,
    "jupyter": {
     "outputs_hidden": false
    }
   },
   "outputs": [],
   "source": [
    "# Vyplnenie NULL hodnôt v stĺpci \"TAVG\" priemernou hodnotou z \"TMAX\" a \"TMIN\"\n",
    "weather_df = weather_df.withColumn(\"TAVG\", when(col(\"TAVG\").isNull(), (col(\"TMAX\") + col(\"TMIN\")) / 2).otherwise(col(\"TAVG\")))"
   ]
  },
  {
   "cell_type": "code",
   "execution_count": 21,
   "metadata": {
    "ExecuteTime": {
     "end_time": "2024-04-30T17:50:41.536797Z",
     "start_time": "2024-04-30T17:50:39.393606Z"
    },
    "collapsed": false,
    "jupyter": {
     "outputs_hidden": false
    }
   },
   "outputs": [
    {
     "name": "stdout",
     "output_type": "stream",
     "text": [
      "+-----+-------+----+----+----+----+----+----+----+----+----+----+----+----+----+----+----+----+----+----+----+----+----+----+----+----+-----------+\n",
      "|MONTH|STATION|NAME|DATE|AWND|PRCP|SNOW|SNWD|TAVG|TMAX|TMIN|WDF2|WDF5|WSF2|WSF5|WT01|WT02|WT03|WT04|WT05|WT06|WT07|WT08|WT09|WT10|WT11|DAY_OF_WEEK|\n",
      "+-----+-------+----+----+----+----+----+----+----+----+----+----+----+----+----+----+----+----+----+----+----+----+----+----+----+----+-----------+\n",
      "|    0|      0|   0|   0| 381|  26|   0|   0|  23|  20|  21| 370| 481| 370| 481|   0|   0|   0|   0|   0|   0|   0|   0|   0|   0|   0|          0|\n",
      "+-----+-------+----+----+----+----+----+----+----+----+----+----+----+----+----+----+----+----+----+----+----+----+----+----+----+----+-----------+\n",
      "\n"
     ]
    }
   ],
   "source": [
    "#zobrazime si pocetnost null hodnot v datasete - ELIMINOVALI SME NULL HODNOTY V STLPCE \"TAVG\"\n",
    "null_count_weather = weather_df.select([sum(col(c).isNull().cast(\"int\")).alias(c) for c in weather_df.columns])\n",
    "null_count_weather.show()"
   ]
  },
  {
   "cell_type": "markdown",
   "metadata": {},
   "source": [
    "#### Nahradenie NULL hodnôt v prípade atribútu PRCP"
   ]
  },
  {
   "cell_type": "code",
   "execution_count": 22,
   "metadata": {
    "ExecuteTime": {
     "end_time": "2024-04-30T17:50:42.666874Z",
     "start_time": "2024-04-30T17:50:41.522132Z"
    },
    "collapsed": false,
    "jupyter": {
     "outputs_hidden": false
    }
   },
   "outputs": [
    {
     "name": "stdout",
     "output_type": "stream",
     "text": [
      "0.11279153406297497\n"
     ]
    }
   ],
   "source": [
    "# nahradenie NULL hodnôt v stĺpci \"PRCP\" priemerom stĺpca\n",
    "column1_mean = weather_df.select(mean(\"PRCP\")).collect()[0][0]\n",
    "print(column1_mean)\n",
    "weather_df = weather_df.fillna(column1_mean, subset=[\"PRCP\"])"
   ]
  },
  {
   "cell_type": "markdown",
   "metadata": {},
   "source": [
    "#### Nahradenie NULL hodnôt v prípade atribútu AWND\n"
   ]
  },
  {
   "cell_type": "code",
   "execution_count": 23,
   "metadata": {
    "ExecuteTime": {
     "end_time": "2024-04-30T17:50:43.729960Z",
     "start_time": "2024-04-30T17:50:42.662955Z"
    },
    "collapsed": false,
    "jupyter": {
     "outputs_hidden": false
    }
   },
   "outputs": [
    {
     "name": "stdout",
     "output_type": "stream",
     "text": [
      "7.943165247819558\n"
     ]
    }
   ],
   "source": [
    "# nahradenie NULL hodnôt v stĺpci \"AWND\" priemerom stĺpca\n",
    "column1_mean = weather_df.select(mean(\"AWND\")).collect()[0][0]\n",
    "print(column1_mean)\n",
    "weather_df = weather_df.fillna(column1_mean, subset=[\"AWND\"])"
   ]
  },
  {
   "cell_type": "code",
   "execution_count": 24,
   "metadata": {
    "ExecuteTime": {
     "end_time": "2024-04-30T17:50:43.832792Z",
     "start_time": "2024-04-30T17:50:43.727295Z"
    },
    "collapsed": false,
    "jupyter": {
     "outputs_hidden": false
    }
   },
   "outputs": [],
   "source": [
    "#dropneme zvysne riadky\n",
    "weather_df = weather_df.na.drop(subset=[\"TAVG\",\"PRCP\", \"TMAX\", \"TMIN\", \"AWND\", \"WDF5\", \"WSF5\"])\n"
   ]
  },
  {
   "cell_type": "code",
   "execution_count": 25,
   "metadata": {
    "ExecuteTime": {
     "end_time": "2024-04-30T17:50:45.289199Z",
     "start_time": "2024-04-30T17:50:43.747611Z"
    },
    "collapsed": false,
    "jupyter": {
     "outputs_hidden": false
    }
   },
   "outputs": [
    {
     "name": "stdout",
     "output_type": "stream",
     "text": [
      "+-----+-------+----+----+----+----+----+----+----+----+----+----+----+----+----+----+----+----+----+----+----+----+----+----+----+----+-----------+\n",
      "|MONTH|STATION|NAME|DATE|AWND|PRCP|SNOW|SNWD|TAVG|TMAX|TMIN|WDF2|WDF5|WSF2|WSF5|WT01|WT02|WT03|WT04|WT05|WT06|WT07|WT08|WT09|WT10|WT11|DAY_OF_WEEK|\n",
      "+-----+-------+----+----+----+----+----+----+----+----+----+----+----+----+----+----+----+----+----+----+----+----+----+----+----+----+-----------+\n",
      "|    0|      0|   0|   0|   0|   0|   0|   0|   0|   0|   0|   0|   0|   0|   0|   0|   0|   0|   0|   0|   0|   0|   0|   0|   0|   0|          0|\n",
      "+-----+-------+----+----+----+----+----+----+----+----+----+----+----+----+----+----+----+----+----+----+----+----+----+----+----+----+-----------+\n",
      "\n"
     ]
    }
   ],
   "source": [
    "#zobrazime si pocetnost null hodnot v datasete\n",
    "null_count_weather = weather_df.select([sum(col(c).isNull().cast(\"int\")).alias(c) for c in weather_df.columns])\n",
    "null_count_weather.show()\n",
    "#NEMAME ZIADNE UZ NULL HODNOTY WUHUU"
   ]
  },
  {
   "cell_type": "code",
   "execution_count": 26,
   "metadata": {
    "ExecuteTime": {
     "end_time": "2024-04-30T17:50:46.506663Z",
     "start_time": "2024-04-30T17:50:45.275100Z"
    },
    "collapsed": false,
    "jupyter": {
     "outputs_hidden": false
    }
   },
   "outputs": [
    {
     "data": {
      "text/plain": [
       "38150"
      ]
     },
     "execution_count": 26,
     "metadata": {},
     "output_type": "execute_result"
    }
   ],
   "source": [
    "#výsledný počet riadkov, s ktorými budeme pracovať (po nahradení a odstréneni)\n",
    "weather_df.count()\n"
   ]
  },
  {
   "cell_type": "markdown",
   "metadata": {},
   "source": [
    "## V nasledujúcej časti sa zameriame na úravy v datasete flight_delay"
   ]
  },
  {
   "cell_type": "code",
   "execution_count": 27,
   "metadata": {
    "ExecuteTime": {
     "end_time": "2024-04-30T17:50:57.697480Z",
     "start_time": "2024-04-30T17:50:46.503909Z"
    },
    "collapsed": false,
    "jupyter": {
     "outputs_hidden": false
    }
   },
   "outputs": [
    {
     "name": "stderr",
     "output_type": "stream",
     "text": [
      "24/04/30 17:50:46 WARN CSVHeaderChecker: CSV header does not conform to the schema.\n",
      " Header: , MONTH, DAY_OF_WEEK, DEP_DEL15, DEP_TIME_BLK, DISTANCE_GROUP, SEGMENT_NUMBER, CONCURRENT_FLIGHTS, NUMBER_OF_SEATS, CARRIER_NAME, AIRPORT_FLIGHTS_MONTH, AIRLINE_FLIGHTS_MONTH, AIRLINE_AIRPORT_FLIGHTS_MONTH, AVG_MONTHLY_PASS_AIRPORT, AVG_MONTHLY_PASS_AIRLINE, FLT_ATTENDANTS_PER_PASS, GROUND_SERV_PER_PASS, PLANE_AGE, DEPARTING_AIRPORT, LATITUDE, LONGITUDE, PREVIOUS_AIRPORT\n",
      " Schema: _c0, MONTH, DAY_OF_WEEK, DEP_DEL15, DEP_TIME_BLK, DISTANCE_GROUP, SEGMENT_NUMBER, CONCURRENT_FLIGHTS, NUMBER_OF_SEATS, CARRIER_NAME, AIRPORT_FLIGHTS_MONTH, AIRLINE_FLIGHTS_MONTH, AIRLINE_AIRPORT_FLIGHTS_MONTH, AVG_MONTHLY_PASS_AIRPORT, AVG_MONTHLY_PASS_AIRLINE, FLT_ATTENDANTS_PER_PASS, GROUND_SERV_PER_PASS, PLANE_AGE, DEPARTING_AIRPORT, LATITUDE, LONGITUDE, PREVIOUS_AIRPORT\n",
      "Expected: _c0 but found: \n",
      "CSV file: file:///Users/A117792292/Documents/School/sparkzadanie/full_data_flightdelay.csv\n",
      "[Stage 56:==============================================>         (10 + 2) / 12]\r"
     ]
    },
    {
     "name": "stdout",
     "output_type": "stream",
     "text": [
      "+---+-----+-----------+---------+------------+--------------+--------------+------------------+---------------+------------+---------------------+---------------------+-----------------------------+------------------------+------------------------+-----------------------+--------------------+---------+-----------------+--------+---------+----------------+\n",
      "|_c0|MONTH|DAY_OF_WEEK|DEP_DEL15|DEP_TIME_BLK|DISTANCE_GROUP|SEGMENT_NUMBER|CONCURRENT_FLIGHTS|NUMBER_OF_SEATS|CARRIER_NAME|AIRPORT_FLIGHTS_MONTH|AIRLINE_FLIGHTS_MONTH|AIRLINE_AIRPORT_FLIGHTS_MONTH|AVG_MONTHLY_PASS_AIRPORT|AVG_MONTHLY_PASS_AIRLINE|FLT_ATTENDANTS_PER_PASS|GROUND_SERV_PER_PASS|PLANE_AGE|DEPARTING_AIRPORT|LATITUDE|LONGITUDE|PREVIOUS_AIRPORT|\n",
      "+---+-----+-----------+---------+------------+--------------+--------------+------------------+---------------+------------+---------------------+---------------------+-----------------------------+------------------------+------------------------+-----------------------+--------------------+---------+-----------------+--------+---------+----------------+\n",
      "|  0|    0|          0|        0|           0|         64890|             0|                 0|              0|           0|                    0|                    0|                        97335|                       0|                       0|                  32445|                   0|        0|                0|       0|        0|               0|\n",
      "+---+-----+-----------+---------+------------+--------------+--------------+------------------+---------------+------------+---------------------+---------------------+-----------------------------+------------------------+------------------------+-----------------------+--------------------+---------+-----------------+--------+---------+----------------+\n",
      "\n"
     ]
    },
    {
     "name": "stderr",
     "output_type": "stream",
     "text": [
      "                                                                                \r"
     ]
    }
   ],
   "source": [
    "#pozrieme sa koľko null hodnôt máme v datasete s letmi\n",
    "null_count_flights = flight_delay_df.select([sum(col(c).isNull().cast(\"int\")).alias(c) for c in flight_delay_df.columns])\n",
    "null_count_flights.show()"
   ]
  },
  {
   "cell_type": "code",
   "execution_count": 28,
   "metadata": {
    "ExecuteTime": {
     "end_time": "2024-04-30T17:50:57.717043Z",
     "start_time": "2024-04-30T17:50:57.676083Z"
    },
    "collapsed": false,
    "jupyter": {
     "outputs_hidden": false
    }
   },
   "outputs": [],
   "source": [
    "# odstránime duplicitné riadky bez ohľadu na stĺpec \"_c0\" lebo ten je jasne, že bude unikátny\n",
    "flight_delay_df = flight_delay_df.dropDuplicates(subset=[c for c in flight_delay_df.columns if c != \"_c0\"])"
   ]
  },
  {
   "cell_type": "code",
   "execution_count": 29,
   "metadata": {
    "ExecuteTime": {
     "end_time": "2024-04-30T17:51:34.291098Z",
     "start_time": "2024-04-30T17:50:57.704283Z"
    },
    "collapsed": false,
    "jupyter": {
     "outputs_hidden": false
    }
   },
   "outputs": [
    {
     "name": "stderr",
     "output_type": "stream",
     "text": [
      "                                                                                \r"
     ]
    },
    {
     "data": {
      "text/plain": [
       "6105929"
      ]
     },
     "execution_count": 29,
     "metadata": {},
     "output_type": "execute_result"
    }
   ],
   "source": [
    "flight_delay_df.count()\n",
    "#BOLO ICH DOST DUPLICITNYCH"
   ]
  },
  {
   "cell_type": "markdown",
   "metadata": {},
   "source": [
    "#### Prevod všetkých znakov hodnôt stĺpca \"DEPARTING_AIRPORT\" na veľké písmená"
   ]
  },
  {
   "cell_type": "code",
   "execution_count": 30,
   "metadata": {
    "ExecuteTime": {
     "end_time": "2024-04-30T17:51:34.305886Z",
     "start_time": "2024-04-30T17:51:34.076192Z"
    },
    "collapsed": false,
    "jupyter": {
     "outputs_hidden": false
    }
   },
   "outputs": [],
   "source": [
    "# prevod všetkých znakov hodnôt stĺpca \"DEPARTING_AIRPORT\" na veľké písmená\n",
    "flight_delay_df = flight_delay_df.withColumn(\"DEPARTING_AIRPORT\", upper(col(\"DEPARTING_AIRPORT\")))"
   ]
  },
  {
   "cell_type": "code",
   "execution_count": 31,
   "metadata": {
    "ExecuteTime": {
     "end_time": "2024-04-30T17:51:36.440121Z",
     "start_time": "2024-04-30T17:51:34.076339Z"
    },
    "collapsed": false,
    "jupyter": {
     "outputs_hidden": false
    }
   },
   "outputs": [
    {
     "name": "stderr",
     "output_type": "stream",
     "text": [
      "[Stage 68:=============================>                            (2 + 2) / 4]\r"
     ]
    },
    {
     "name": "stdout",
     "output_type": "stream",
     "text": [
      "+--------------------+-----+\n",
      "|                NAME|count|\n",
      "+--------------------+-----+\n",
      "|SEATTLE TACOMA AI...|  365|\n",
      "|AUSTIN BERGSTROM ...|  365|\n",
      "|MINNEAPOLIS ST. P...|  361|\n",
      "|PITTSBURGH ALLEGH...|  364|\n",
      "|NASHVILLE INTERNA...|  362|\n",
      "|SAN JOSE INTERNAT...|  360|\n",
      "|HONOLULU INTERNAT...|  364|\n",
      "|LAGUARDIA AIRPORT...|  364|\n",
      "|MIAMI INTERNATION...|  365|\n",
      "|SAN FRANCISCO INT...|  364|\n",
      "|NEW ORLEANS AIRPO...|  364|\n",
      "|RALEIGH AIRPORT, ...|  365|\n",
      "|ST LOUIS LAMBERT ...|  364|\n",
      "|KANSAS CITY INTER...|  365|\n",
      "|DENVER INTERNATIO...|  365|\n",
      "|MCCARRAN INTERNAT...|  365|\n",
      "|TAMPA INTERNATION...|  360|\n",
      "|DALLAS FAA AIRPOR...|  365|\n",
      "|FORT WORTH MEACHA...|  364|\n",
      "|CHARLOTTE DOUGLAS...|  365|\n",
      "+--------------------+-----+\n",
      "only showing top 20 rows\n",
      "\n"
     ]
    },
    {
     "name": "stderr",
     "output_type": "stream",
     "text": [
      "                                                                                \r"
     ]
    }
   ],
   "source": [
    "#Pozrieme pre ake letiska a v akom pocte mame dostupne udaje o pocasi\n",
    "name_counts = weather_df.groupBy('NAME').count()\n",
    "name_counts.show()"
   ]
  },
  {
   "cell_type": "code",
   "execution_count": 32,
   "metadata": {
    "ExecuteTime": {
     "end_time": "2024-04-30T17:51:44.980181Z",
     "start_time": "2024-04-30T17:51:36.320342Z"
    },
    "collapsed": false,
    "jupyter": {
     "outputs_hidden": false
    }
   },
   "outputs": [
    {
     "name": "stderr",
     "output_type": "stream",
     "text": [
      "[Stage 80:=======================>                                 (5 + 7) / 12]\r"
     ]
    },
    {
     "name": "stdout",
     "output_type": "stream",
     "text": [
      "Unique airport names in airport_weather: 105\n",
      "Unique departing airports in full_data_flightdelay: 96\n"
     ]
    },
    {
     "name": "stderr",
     "output_type": "stream",
     "text": [
      "                                                                                \r"
     ]
    }
   ],
   "source": [
    "# počty letísk v datasetoch weather_df a flight_delay_df\n",
    "unique_airport_names = weather_df.select('NAME').distinct().count()\n",
    "unique_departing_airports = flight_delay_df.select('DEPARTING_AIRPORT').distinct().count()\n",
    "\n",
    "print(f'Unique airport names in airport_weather: {unique_airport_names}')\n",
    "print(f'Unique departing airports in full_data_flightdelay: {unique_departing_airports}')"
   ]
  },
  {
   "cell_type": "code",
   "execution_count": 33,
   "metadata": {
    "ExecuteTime": {
     "end_time": "2024-04-30T17:51:53.382628Z",
     "start_time": "2024-04-30T17:51:44.978430Z"
    },
    "collapsed": false,
    "jupyter": {
     "outputs_hidden": false
    }
   },
   "outputs": [
    {
     "name": "stderr",
     "output_type": "stream",
     "text": [
      "                                                                                \r"
     ]
    },
    {
     "data": {
      "text/html": [
       "<div>\n",
       "<style scoped>\n",
       "    .dataframe tbody tr th:only-of-type {\n",
       "        vertical-align: middle;\n",
       "    }\n",
       "\n",
       "    .dataframe tbody tr th {\n",
       "        vertical-align: top;\n",
       "    }\n",
       "\n",
       "    .dataframe thead th {\n",
       "        text-align: right;\n",
       "    }\n",
       "</style>\n",
       "<table border=\"1\" class=\"dataframe\">\n",
       "  <thead>\n",
       "    <tr style=\"text-align: right;\">\n",
       "      <th></th>\n",
       "      <th>Airport Names</th>\n",
       "      <th>Departing Airports</th>\n",
       "    </tr>\n",
       "  </thead>\n",
       "  <tbody>\n",
       "    <tr>\n",
       "      <th>0</th>\n",
       "      <td>ALBANY INTERNATIONAL AIRPORT, NY US</td>\n",
       "      <td>ADAMS FIELD</td>\n",
       "    </tr>\n",
       "    <tr>\n",
       "      <th>1</th>\n",
       "      <td>ALBUQUERQUE INTERNATIONAL AIRPORT, NM US</td>\n",
       "      <td>ALBANY INTERNATIONAL</td>\n",
       "    </tr>\n",
       "    <tr>\n",
       "      <th>2</th>\n",
       "      <td>ANCHORAGE TED STEVENS INTERNATIONAL AIRPORT, A...</td>\n",
       "      <td>ALBUQUERQUE INTERNATIONAL SUNPORT</td>\n",
       "    </tr>\n",
       "    <tr>\n",
       "      <th>3</th>\n",
       "      <td>ASHEVILLE AIRPORT, NC US</td>\n",
       "      <td>ANCHORAGE INTERNATIONAL</td>\n",
       "    </tr>\n",
       "    <tr>\n",
       "      <th>4</th>\n",
       "      <td>ASPEN PITKIN CO AIRPORT SARDY FIELD, CO US</td>\n",
       "      <td>ATLANTA MUNICIPAL</td>\n",
       "    </tr>\n",
       "    <tr>\n",
       "      <th>...</th>\n",
       "      <td>...</td>\n",
       "      <td>...</td>\n",
       "    </tr>\n",
       "    <tr>\n",
       "      <th>100</th>\n",
       "      <td>TRAVERSE CITY CHERRY CAPITAL AIRPORT, MI US</td>\n",
       "      <td>NaN</td>\n",
       "    </tr>\n",
       "    <tr>\n",
       "      <th>101</th>\n",
       "      <td>WASHINGTON DULLES INTERNATIONAL AIRPORT, VA US</td>\n",
       "      <td>NaN</td>\n",
       "    </tr>\n",
       "    <tr>\n",
       "      <th>102</th>\n",
       "      <td>WEST PALM BEACH INTERNATIONAL AIRPORT, FL US</td>\n",
       "      <td>NaN</td>\n",
       "    </tr>\n",
       "    <tr>\n",
       "      <th>103</th>\n",
       "      <td>WICHITA COLONEL JAMES JABARA AIRPORT, KS US</td>\n",
       "      <td>NaN</td>\n",
       "    </tr>\n",
       "    <tr>\n",
       "      <th>104</th>\n",
       "      <td>WILMINGTON INTERNATIONAL AIRPORT, NC US</td>\n",
       "      <td>NaN</td>\n",
       "    </tr>\n",
       "  </tbody>\n",
       "</table>\n",
       "<p>105 rows × 2 columns</p>\n",
       "</div>"
      ],
      "text/plain": [
       "                                         Airport Names  \\\n",
       "0                  ALBANY INTERNATIONAL AIRPORT, NY US   \n",
       "1             ALBUQUERQUE INTERNATIONAL AIRPORT, NM US   \n",
       "2    ANCHORAGE TED STEVENS INTERNATIONAL AIRPORT, A...   \n",
       "3                             ASHEVILLE AIRPORT, NC US   \n",
       "4           ASPEN PITKIN CO AIRPORT SARDY FIELD, CO US   \n",
       "..                                                 ...   \n",
       "100        TRAVERSE CITY CHERRY CAPITAL AIRPORT, MI US   \n",
       "101     WASHINGTON DULLES INTERNATIONAL AIRPORT, VA US   \n",
       "102       WEST PALM BEACH INTERNATIONAL AIRPORT, FL US   \n",
       "103        WICHITA COLONEL JAMES JABARA AIRPORT, KS US   \n",
       "104            WILMINGTON INTERNATIONAL AIRPORT, NC US   \n",
       "\n",
       "                    Departing Airports  \n",
       "0                          ADAMS FIELD  \n",
       "1                 ALBANY INTERNATIONAL  \n",
       "2    ALBUQUERQUE INTERNATIONAL SUNPORT  \n",
       "3              ANCHORAGE INTERNATIONAL  \n",
       "4                    ATLANTA MUNICIPAL  \n",
       "..                                 ...  \n",
       "100                                NaN  \n",
       "101                                NaN  \n",
       "102                                NaN  \n",
       "103                                NaN  \n",
       "104                                NaN  \n",
       "\n",
       "[105 rows x 2 columns]"
      ]
     },
     "metadata": {},
     "output_type": "display_data"
    }
   ],
   "source": [
    "#Do suboru output.csv si uložíme mená unikátnych letísk zoradených podľa abecedy, aby sa nám lepšie porovnavalo co treba este upravit aby nazvy sedeli\n",
    "distinct_airport_names = weather_df.select('NAME').distinct().rdd.flatMap(lambda x: x).collect()\n",
    "distinct_departing_airports = flight_delay_df.select('DEPARTING_AIRPORT').distinct().rdd.flatMap(lambda x: x).collect()\n",
    "\n",
    "df1 = pd.DataFrame(distinct_airport_names, columns=['Airport Names'])\n",
    "df2 = pd.DataFrame(distinct_departing_airports, columns=['Departing Airports'])\n",
    "\n",
    "df1 = df1.sort_values(by=['Airport Names'])\n",
    "df2 = df2.sort_values(by=['Departing Airports'])\n",
    "\n",
    "df1.reset_index(drop=True, inplace=True)\n",
    "df2.reset_index(drop=True, inplace=True)\n",
    "\n",
    "result = pd.concat([df1, df2], axis=1)\n",
    "\n",
    "display(result)\n",
    "result.to_csv('output.csv', index=False)"
   ]
  },
  {
   "cell_type": "code",
   "execution_count": 34,
   "metadata": {
    "ExecuteTime": {
     "end_time": "2024-04-30T17:52:00.396336Z",
     "start_time": "2024-04-30T17:51:53.322819Z"
    },
    "collapsed": false,
    "jupyter": {
     "outputs_hidden": false
    }
   },
   "outputs": [
    {
     "name": "stderr",
     "output_type": "stream",
     "text": [
      "[Stage 101:============================>                           (6 + 6) / 12]\r"
     ]
    },
    {
     "name": "stdout",
     "output_type": "stream",
     "text": [
      "Number of departing airports contained in airport names: 0\n"
     ]
    },
    {
     "name": "stderr",
     "output_type": "stream",
     "text": [
      "                                                                                \r"
     ]
    }
   ],
   "source": [
    "#porovname kolko letisk sa zhoduje v jednom aj druhom datasete\n",
    "distinct_airport_names = set(weather_df.select('NAME').distinct().rdd.flatMap(lambda x: x).collect())\n",
    "distinct_departing_airports = set(flight_delay_df.select('DEPARTING_AIRPORT').distinct().rdd.flatMap(lambda x: x).collect())\n",
    "\n",
    "common_airports = distinct_airport_names.intersection(distinct_departing_airports)\n",
    "\n",
    "num_common_airports = len(common_airports)\n",
    "\n",
    "print(f'Number of departing airports contained in airport names: {num_common_airports}')"
   ]
  },
  {
   "cell_type": "code",
   "execution_count": 35,
   "metadata": {
    "ExecuteTime": {
     "end_time": "2024-04-30T17:52:02.035795Z",
     "start_time": "2024-04-30T17:52:00.399575Z"
    },
    "collapsed": false,
    "jupyter": {
     "outputs_hidden": false
    }
   },
   "outputs": [
    {
     "name": "stderr",
     "output_type": "stream",
     "text": [
      "                                                                                \r"
     ]
    },
    {
     "data": {
      "text/plain": [
       "Row(MONTH=1, STATION='USW00013874', NAME='ATLANTA HARTSFIELD JACKSON INTERNATIONAL AIRPORT', DATE='2019-01-01', AWND='4.7', PRCP='0.14', SNOW='0.0', SNWD='0.0', TAVG='64.0', TMAX='66.0', TMIN='57.0', WDF2='310.0', WDF5='310.0', WSF2='15.0', WSF5='19.0', WT01='1.0', WT02='0', WT03='0', WT04='0', WT05='0', WT06='0', WT07='0', WT08='0', WT09='0', WT10='0', WT11='0', DAY_OF_WEEK=2)"
      ]
     },
     "execution_count": 35,
     "metadata": {},
     "output_type": "execute_result"
    }
   ],
   "source": [
    "#odstranime to co je za ciarkou(zbytocne)\n",
    "weather_df = weather_df.withColumn('NAME', split(col('NAME'), ',').getItem(0))\n",
    "weather_df.first()"
   ]
  },
  {
   "cell_type": "code",
   "execution_count": 36,
   "metadata": {
    "ExecuteTime": {
     "end_time": "2024-04-30T17:52:07.821694Z",
     "start_time": "2024-04-30T17:52:01.984649Z"
    },
    "collapsed": false,
    "jupyter": {
     "outputs_hidden": false
    }
   },
   "outputs": [
    {
     "name": "stderr",
     "output_type": "stream",
     "text": [
      "[Stage 114:=======================>                                (5 + 7) / 12]\r"
     ]
    },
    {
     "name": "stdout",
     "output_type": "stream",
     "text": [
      "Number of departing airports contained in airport names: 2\n"
     ]
    },
    {
     "name": "stderr",
     "output_type": "stream",
     "text": [
      "                                                                                \r"
     ]
    }
   ],
   "source": [
    "#znova pozrieme kolko sa ich rovna v datasetoch\n",
    "distinct_airport_names = set(weather_df.select('NAME').distinct().rdd.flatMap(lambda x: x).collect())\n",
    "distinct_departing_airports = set(flight_delay_df.select('DEPARTING_AIRPORT').distinct().rdd.flatMap(lambda x: x).collect())\n",
    "\n",
    "common_airports = distinct_airport_names.intersection(distinct_departing_airports)\n",
    "\n",
    "num_common_airports = len(common_airports)\n",
    "\n",
    "print(f'Number of departing airports contained in airport names: {num_common_airports}')"
   ]
  },
  {
   "cell_type": "code",
   "execution_count": 37,
   "metadata": {
    "ExecuteTime": {
     "end_time": "2024-04-30T17:52:08.463240Z",
     "start_time": "2024-04-30T17:52:07.819012Z"
    },
    "collapsed": false,
    "jupyter": {
     "outputs_hidden": false
    }
   },
   "outputs": [
    {
     "data": {
      "text/plain": [
       "Row(MONTH=1, STATION='USW00013874', NAME='ATLANTA HARTSFIELD JACKSON INTERNATIONAL', DATE='2019-01-01', AWND='4.7', PRCP='0.14', SNOW='0.0', SNWD='0.0', TAVG='64.0', TMAX='66.0', TMIN='57.0', WDF2='310.0', WDF5='310.0', WSF2='15.0', WSF5='19.0', WT01='1.0', WT02='0', WT03='0', WT04='0', WT05='0', WT06='0', WT07='0', WT08='0', WT09='0', WT10='0', WT11='0', DAY_OF_WEEK=2)"
      ]
     },
     "execution_count": 37,
     "metadata": {},
     "output_type": "execute_result"
    }
   ],
   "source": [
    "# Nahradime 'AIRPORT' pradznym retazcom v stlpci 'NAME'\n",
    "weather_df = weather_df.withColumn('NAME', regexp_replace(col('NAME'), ' AIRPORT', ''))\n",
    "\n",
    "weather_df.first()"
   ]
  },
  {
   "cell_type": "code",
   "execution_count": 38,
   "metadata": {
    "ExecuteTime": {
     "end_time": "2024-04-30T17:52:08.555811Z",
     "start_time": "2024-04-30T17:52:08.460033Z"
    },
    "collapsed": false,
    "jupyter": {
     "outputs_hidden": false
    }
   },
   "outputs": [],
   "source": [
    "#odstranime slovicka ako AIRPORT A SUNPORT\n",
    "weather_df = weather_df.withColumn('NAME', regexp_replace(col('NAME'), ' AIRPORT', ''))\n",
    "flight_delay_df = flight_delay_df.withColumn('DEPARTING_AIRPORT', regexp_replace(col('DEPARTING_AIRPORT'), ' SUNPORT', ''))\n"
   ]
  },
  {
   "cell_type": "code",
   "execution_count": 39,
   "metadata": {
    "ExecuteTime": {
     "end_time": "2024-04-30T17:52:14.826636Z",
     "start_time": "2024-04-30T17:52:08.499408Z"
    },
    "collapsed": false,
    "jupyter": {
     "outputs_hidden": false
    }
   },
   "outputs": [
    {
     "name": "stderr",
     "output_type": "stream",
     "text": [
      "[Stage 127:=====================================>                  (8 + 4) / 12]\r"
     ]
    },
    {
     "name": "stdout",
     "output_type": "stream",
     "text": [
      "Number of departing airports contained in airport names: 28\n"
     ]
    },
    {
     "name": "stderr",
     "output_type": "stream",
     "text": [
      "                                                                                \r"
     ]
    }
   ],
   "source": [
    "#znova pozrieme kolko sa ich rovna\n",
    "distinct_airport_names = set(weather_df.select('NAME').distinct().rdd.flatMap(lambda x: x).collect())\n",
    "distinct_departing_airports = set(flight_delay_df.select('DEPARTING_AIRPORT').distinct().rdd.flatMap(lambda x: x).collect())\n",
    "\n",
    "common_airports = distinct_airport_names.intersection(distinct_departing_airports)\n",
    "\n",
    "num_common_airports = len(common_airports)\n",
    "\n",
    "print(f'Number of departing airports contained in airport names: {num_common_airports}')"
   ]
  },
  {
   "cell_type": "code",
   "execution_count": 40,
   "metadata": {
    "ExecuteTime": {
     "end_time": "2024-04-30T17:52:14.826937Z",
     "start_time": "2024-04-30T17:52:14.815344Z"
    },
    "collapsed": false,
    "jupyter": {
     "outputs_hidden": false
    }
   },
   "outputs": [
    {
     "name": "stdout",
     "output_type": "stream",
     "text": [
      "['ALBANY INTERNATIONAL', 'ALBUQUERQUE INTERNATIONAL', 'BOISE AIR TERMINAL', 'EL PASO INTERNATIONAL', 'HONOLULU INTERNATIONAL', 'HOUSTON INTERCONTINENTAL', 'JACKSONVILLE INTERNATIONAL', 'KANSAS CITY INTERNATIONAL', 'LAGUARDIA', 'LOS ANGELES INTERNATIONAL', 'MCCARRAN INTERNATIONAL', 'MEMPHIS INTERNATIONAL', 'MIAMI INTERNATIONAL', 'NASHVILLE INTERNATIONAL', 'NEWARK LIBERTY INTERNATIONAL', 'NORFOLK INTERNATIONAL', 'ORLANDO INTERNATIONAL', 'PHILADELPHIA INTERNATIONAL', 'PORTLAND INTERNATIONAL', 'RICHMOND INTERNATIONAL', 'SALT LAKE CITY INTERNATIONAL', 'SAN ANTONIO INTERNATIONAL', 'SAN FRANCISCO INTERNATIONAL', 'SAN JOSE INTERNATIONAL', 'SPOKANE INTERNATIONAL', 'SYRACUSE HANCOCK INTERNATIONAL', 'TAMPA INTERNATIONAL', 'WASHINGTON DULLES INTERNATIONAL']\n"
     ]
    }
   ],
   "source": [
    "#tieto sa zatial zhoduju\n",
    "common_airports_list = list(common_airports)\n",
    "\n",
    "sorted_common_airports = sorted(common_airports_list)\n",
    "print(sorted_common_airports)"
   ]
  },
  {
   "cell_type": "code",
   "execution_count": 41,
   "metadata": {
    "ExecuteTime": {
     "end_time": "2024-04-30T17:52:14.957378Z",
     "start_time": "2024-04-30T17:52:14.837583Z"
    },
    "collapsed": false,
    "jupyter": {
     "outputs_hidden": false
    }
   },
   "outputs": [],
   "source": [
    "#odstranim pomlcky\n",
    "flight_delay_df = flight_delay_df.withColumn('DEPARTING_AIRPORT', regexp_replace(col('DEPARTING_AIRPORT'), '-', ' '))"
   ]
  },
  {
   "cell_type": "code",
   "execution_count": 42,
   "metadata": {
    "ExecuteTime": {
     "end_time": "2024-04-30T17:52:14.982695Z",
     "start_time": "2024-04-30T17:52:14.860036Z"
    },
    "collapsed": false,
    "jupyter": {
     "outputs_hidden": false
    }
   },
   "outputs": [],
   "source": [
    "#odstranim nadbytocne medzery\n",
    "flight_delay_df = flight_delay_df.withColumn('DEPARTING_AIRPORT', trim(col('DEPARTING_AIRPORT')))\n",
    "\n",
    "flight_delay_df = flight_delay_df.withColumn('DEPARTING_AIRPORT', regexp_replace(col('DEPARTING_AIRPORT'), '[ \\u00A0]+', ' '))\n",
    "\n",
    "weather_df = weather_df.withColumn('NAME', trim(col('NAME')))\n",
    "\n",
    "weather_df = weather_df.withColumn('NAME', regexp_replace(col('NAME'), '[ \\u00A0]+', ' '))"
   ]
  },
  {
   "cell_type": "code",
   "execution_count": 43,
   "metadata": {
    "ExecuteTime": {
     "end_time": "2024-04-30T17:52:23.751925Z",
     "start_time": "2024-04-30T17:52:14.919702Z"
    },
    "collapsed": false,
    "jupyter": {
     "outputs_hidden": false
    }
   },
   "outputs": [
    {
     "name": "stderr",
     "output_type": "stream",
     "text": [
      "[Stage 136:=============================================>         (10 + 2) / 12]\r"
     ]
    },
    {
     "name": "stdout",
     "output_type": "stream",
     "text": [
      "Number of departing airports contained in airport names: 30\n"
     ]
    },
    {
     "name": "stderr",
     "output_type": "stream",
     "text": [
      "                                                                                \r"
     ]
    }
   ],
   "source": [
    "#naposledy sa pozrieme kolko sa nam ich zhoduje\n",
    "distinct_airport_names = set(weather_df.select('NAME').distinct().rdd.flatMap(lambda x: x).collect())\n",
    "distinct_departing_airports = set(flight_delay_df.select('DEPARTING_AIRPORT').distinct().rdd.flatMap(lambda x: x).collect())\n",
    "\n",
    "common_airports = distinct_airport_names.intersection(distinct_departing_airports)\n",
    "\n",
    "num_common_airports = len(common_airports)\n",
    "\n",
    "print(f'Number of departing airports contained in airport names: {num_common_airports}')"
   ]
  },
  {
   "cell_type": "code",
   "execution_count": 44,
   "metadata": {
    "ExecuteTime": {
     "end_time": "2024-04-30T17:52:45.810145Z",
     "start_time": "2024-04-30T17:52:23.656608Z"
    },
    "collapsed": false,
    "jupyter": {
     "outputs_hidden": false
    }
   },
   "outputs": [
    {
     "name": "stderr",
     "output_type": "stream",
     "text": [
      "                                                                                \r"
     ]
    },
    {
     "data": {
      "text/plain": [
       "2135349"
      ]
     },
     "execution_count": 44,
     "metadata": {},
     "output_type": "execute_result"
    }
   ],
   "source": [
    "# vyfiltrujeme len udaje z tych letisk, ku ktorym mame aj data o pocasi\n",
    "filtered_flight_delay_df = flight_delay_df.filter(col('DEPARTING_AIRPORT').isin(common_airports))\n",
    "filtered_flight_delay_df.count()"
   ]
  },
  {
   "cell_type": "code",
   "execution_count": 45,
   "metadata": {
    "ExecuteTime": {
     "end_time": "2024-04-30T17:53:16.707964Z",
     "start_time": "2024-04-30T17:52:45.738837Z"
    },
    "collapsed": false,
    "jupyter": {
     "outputs_hidden": false
    }
   },
   "outputs": [
    {
     "name": "stderr",
     "output_type": "stream",
     "text": [
      "24/04/30 17:52:46 WARN CSVHeaderChecker: CSV header does not conform to the schema.\n",
      " Header: , MONTH, DAY_OF_WEEK, DEP_DEL15, DEP_TIME_BLK, DISTANCE_GROUP, SEGMENT_NUMBER, CONCURRENT_FLIGHTS, NUMBER_OF_SEATS, CARRIER_NAME, AIRPORT_FLIGHTS_MONTH, AIRLINE_FLIGHTS_MONTH, AIRLINE_AIRPORT_FLIGHTS_MONTH, AVG_MONTHLY_PASS_AIRPORT, AVG_MONTHLY_PASS_AIRLINE, FLT_ATTENDANTS_PER_PASS, GROUND_SERV_PER_PASS, PLANE_AGE, DEPARTING_AIRPORT, LATITUDE, LONGITUDE, PREVIOUS_AIRPORT\n",
      " Schema: _c0, MONTH, DAY_OF_WEEK, DEP_DEL15, DEP_TIME_BLK, DISTANCE_GROUP, SEGMENT_NUMBER, CONCURRENT_FLIGHTS, NUMBER_OF_SEATS, CARRIER_NAME, AIRPORT_FLIGHTS_MONTH, AIRLINE_FLIGHTS_MONTH, AIRLINE_AIRPORT_FLIGHTS_MONTH, AVG_MONTHLY_PASS_AIRPORT, AVG_MONTHLY_PASS_AIRLINE, FLT_ATTENDANTS_PER_PASS, GROUND_SERV_PER_PASS, PLANE_AGE, DEPARTING_AIRPORT, LATITUDE, LONGITUDE, PREVIOUS_AIRPORT\n",
      "Expected: _c0 but found: \n",
      "CSV file: file:///Users/A117792292/Documents/School/sparkzadanie/full_data_flightdelay.csv\n",
      "                                                                                \r"
     ]
    },
    {
     "data": {
      "text/plain": [
       "[Row(_c0='2436840', MONTH='5', DAY_OF_WEEK='1', DEP_DEL15='0', DEP_TIME_BLK='0600-0659', DISTANCE_GROUP='4.0', SEGMENT_NUMBER='1', CONCURRENT_FLIGHTS='6', NUMBER_OF_SEATS='76', CARRIER_NAME='SkyWest Airlines Inc.', AIRPORT_FLIGHTS_MONTH='1110', AIRLINE_FLIGHTS_MONTH='70878', AIRLINE_AIRPORT_FLIGHTS_MONTH='224.0', AVG_MONTHLY_PASS_AIRPORT='124691', AVG_MONTHLY_PASS_AIRLINE='3472966', FLT_ATTENDANTS_PER_PASS='3.419267401443636e-05', GROUND_SERV_PER_PASS='9.900278805864172e-05', PLANE_AGE='0', DEPARTING_AIRPORT='ALBANY INTERNATIONAL', LATITUDE='42.746', LONGITUDE='-73.805', PREVIOUS_AIRPORT='NONE'),\n",
       " Row(_c0='2446598', MONTH='5', DAY_OF_WEEK='2', DEP_DEL15='0', DEP_TIME_BLK='0600-0659', DISTANCE_GROUP='4.0', SEGMENT_NUMBER='1', CONCURRENT_FLIGHTS='6', NUMBER_OF_SEATS='76', CARRIER_NAME='SkyWest Airlines Inc.', AIRPORT_FLIGHTS_MONTH='1110', AIRLINE_FLIGHTS_MONTH='70878', AIRLINE_AIRPORT_FLIGHTS_MONTH='224.0', AVG_MONTHLY_PASS_AIRPORT='124691', AVG_MONTHLY_PASS_AIRLINE='3472966', FLT_ATTENDANTS_PER_PASS='3.419267401443636e-05', GROUND_SERV_PER_PASS='9.900278805864172e-05', PLANE_AGE='0', DEPARTING_AIRPORT='ALBANY INTERNATIONAL', LATITUDE='42.746', LONGITUDE='-73.805', PREVIOUS_AIRPORT='NONE'),\n",
       " Row(_c0='3127450', MONTH='6', DAY_OF_WEEK='1', DEP_DEL15='0', DEP_TIME_BLK='1300-1359', DISTANCE_GROUP='2.0', SEGMENT_NUMBER='4', CONCURRENT_FLIGHTS='5', NUMBER_OF_SEATS='76', CARRIER_NAME='SkyWest Airlines Inc.', AIRPORT_FLIGHTS_MONTH='1110', AIRLINE_FLIGHTS_MONTH='71188', AIRLINE_AIRPORT_FLIGHTS_MONTH='160.0', AVG_MONTHLY_PASS_AIRPORT='124691', AVG_MONTHLY_PASS_AIRLINE='3472966', FLT_ATTENDANTS_PER_PASS='3.419267401443636e-05', GROUND_SERV_PER_PASS='9.900278805864172e-05', PLANE_AGE='0', DEPARTING_AIRPORT='ALBANY INTERNATIONAL', LATITUDE='42.746', LONGITUDE='-73.805', PREVIOUS_AIRPORT='Detroit Metro Wayne County'),\n",
       " Row(_c0='1483220', MONTH='3', DAY_OF_WEEK='6', DEP_DEL15='1', DEP_TIME_BLK='0900-0959', DISTANCE_GROUP='5.0', SEGMENT_NUMBER='2', CONCURRENT_FLIGHTS='2', NUMBER_OF_SEATS='186', CARRIER_NAME='Frontier Airlines Inc.', AIRPORT_FLIGHTS_MONTH='1118', AIRLINE_FLIGHTS_MONTH='9663', AIRLINE_AIRPORT_FLIGHTS_MONTH='22.0', AVG_MONTHLY_PASS_AIRPORT='124691', AVG_MONTHLY_PASS_AIRLINE='1857122', FLT_ATTENDANTS_PER_PASS='0.0001157256482767', GROUND_SERV_PER_PASS='7.134694872433899e-06', PLANE_AGE='1', DEPARTING_AIRPORT='ALBANY INTERNATIONAL', LATITUDE='42.746', LONGITUDE='-73.805', PREVIOUS_AIRPORT='Orlando International'),\n",
       " Row(_c0='3754945', MONTH='8', DAY_OF_WEEK='5', DEP_DEL15='0', DEP_TIME_BLK='1100-1159', DISTANCE_GROUP='3.0', SEGMENT_NUMBER='2', CONCURRENT_FLIGHTS='4', NUMBER_OF_SEATS='90', CARRIER_NAME='Comair Inc.', AIRPORT_FLIGHTS_MONTH='1141', AIRLINE_FLIGHTS_MONTH='24496', AIRLINE_AIRPORT_FLIGHTS_MONTH='106.0', AVG_MONTHLY_PASS_AIRPORT='124691', AVG_MONTHLY_PASS_AIRLINE='1245396', FLT_ATTENDANTS_PER_PASS='0.0', GROUND_SERV_PER_PASS='8.999810569042966e-05', PLANE_AGE='0', DEPARTING_AIRPORT='ALBANY INTERNATIONAL', LATITUDE='42.746', LONGITUDE='-73.805', PREVIOUS_AIRPORT='Douglas Municipal')]"
      ]
     },
     "execution_count": 45,
     "metadata": {},
     "output_type": "execute_result"
    }
   ],
   "source": [
    "#zosortujeme podla mena letiska\n",
    "sorted_filtered_flight_delay_df = filtered_flight_delay_df.orderBy(\"DEPARTING_AIRPORT\")\n",
    "sorted_filtered_flight_delay_df.take(5)\n"
   ]
  },
  {
   "cell_type": "code",
   "execution_count": 46,
   "metadata": {
    "ExecuteTime": {
     "end_time": "2024-04-30T17:53:17.595926Z",
     "start_time": "2024-04-30T17:53:16.660564Z"
    },
    "collapsed": false,
    "jupyter": {
     "outputs_hidden": false
    }
   },
   "outputs": [
    {
     "data": {
      "text/plain": [
       "10908"
      ]
     },
     "execution_count": 46,
     "metadata": {},
     "output_type": "execute_result"
    }
   ],
   "source": [
    "#pocet riadkov z datasetu s pocasim ktore nam ostanu po filtrovani\n",
    "filtered_weather_df = weather_df.filter(col('NAME').isin(common_airports))\n",
    "filtered_weather_df.count()"
   ]
  },
  {
   "cell_type": "code",
   "execution_count": 47,
   "metadata": {
    "ExecuteTime": {
     "end_time": "2024-04-30T17:53:18.757351Z",
     "start_time": "2024-04-30T17:53:17.586328Z"
    },
    "collapsed": false,
    "jupyter": {
     "outputs_hidden": false
    }
   },
   "outputs": [
    {
     "name": "stderr",
     "output_type": "stream",
     "text": [
      "                                                                                \r"
     ]
    },
    {
     "data": {
      "text/plain": [
       "[Row(MONTH=1, STATION='USW00014735', NAME='ALBANY INTERNATIONAL', DATE='2019-01-01', AWND='15.21', PRCP='0.1', SNOW='0.0', SNWD='0.0', TAVG='42.0', TMAX='53.0', TMIN='27.0', WDF2='280.0', WDF5='280.0', WSF2='36.0', WSF5='55.0', WT01='1.0', WT02='0', WT03='0', WT04='0', WT05='0', WT06='0', WT07='0', WT08='0', WT09='0', WT10='0', WT11='0', DAY_OF_WEEK=2),\n",
       " Row(MONTH=1, STATION='USW00014735', NAME='ALBANY INTERNATIONAL', DATE='2019-01-05', AWND='4.7', PRCP='0.42', SNOW='0.0', SNWD='0.0', TAVG='36.0', TMAX='40.0', TMIN='29.0', WDF2='300.0', WDF5='280.0', WSF2='18.1', WSF5='23.0', WT01='1.0', WT02='0', WT03='0', WT04='0', WT05='0', WT06='1.0', WT07='0', WT08='0', WT09='0', WT10='0', WT11='0', DAY_OF_WEEK=6),\n",
       " Row(MONTH=1, STATION='USW00014735', NAME='ALBANY INTERNATIONAL', DATE='2019-01-02', AWND='3.8', PRCP='0.0', SNOW='0.0', SNWD='0.0', TAVG='28.0', TMAX='34.0', TMIN='20.0', WDF2='170.0', WDF5='160.0', WSF2='18.1', WSF5='23.9', WT01='0', WT02='0', WT03='0', WT04='0', WT05='0', WT06='0', WT07='0', WT08='0', WT09='0', WT10='0', WT11='0', DAY_OF_WEEK=3),\n",
       " Row(MONTH=1, STATION='USW00014735', NAME='ALBANY INTERNATIONAL', DATE='2019-01-03', AWND='9.62', PRCP='0.0', SNOW='0.1', SNWD='0.0', TAVG='35.0', TMAX='43.0', TMIN='32.0', WDF2='290.0', WDF5='280.0', WSF2='23.9', WSF5='34.0', WT01='0', WT02='0', WT03='0', WT04='0', WT05='0', WT06='0', WT07='0', WT08='0', WT09='0', WT10='0', WT11='0', DAY_OF_WEEK=4),\n",
       " Row(MONTH=1, STATION='USW00014735', NAME='ALBANY INTERNATIONAL', DATE='2019-01-04', AWND='6.93', PRCP='0.0', SNOW='0.0', SNWD='0.0', TAVG='36.0', TMAX='43.0', TMIN='30.0', WDF2='180.0', WDF5='190.0', WSF2='15.0', WSF5='19.0', WT01='0', WT02='0', WT03='0', WT04='0', WT05='0', WT06='0', WT07='0', WT08='0', WT09='0', WT10='0', WT11='0', DAY_OF_WEEK=5)]"
      ]
     },
     "execution_count": 47,
     "metadata": {},
     "output_type": "execute_result"
    }
   ],
   "source": [
    "#zosortujeme podla mena letiska\n",
    "sorted_filtered_weather_df = filtered_weather_df.orderBy(\"NAME\")\n",
    "sorted_filtered_weather_df.take(5)"
   ]
  },
  {
   "cell_type": "code",
   "execution_count": 48,
   "metadata": {
    "ExecuteTime": {
     "end_time": "2024-04-30T17:53:19.960259Z",
     "start_time": "2024-04-30T17:53:18.752814Z"
    },
    "collapsed": false,
    "jupyter": {
     "outputs_hidden": false
    }
   },
   "outputs": [
    {
     "name": "stdout",
     "output_type": "stream",
     "text": [
      "+--------------------+-----+\n",
      "|                NAME|count|\n",
      "+--------------------+-----+\n",
      "|CLEVELAND HOPKINS...|  364|\n",
      "|HOUSTON INTERCONT...|  364|\n",
      "|           LAGUARDIA|  364|\n",
      "| TAMPA INTERNATIONAL|  360|\n",
      "|HONOLULU INTERNAT...|  364|\n",
      "|MCCARRAN INTERNAT...|  365|\n",
      "|SAN ANTONIO INTER...|  364|\n",
      "|SALT LAKE CITY IN...|  365|\n",
      "|AUSTIN BERGSTROM ...|  365|\n",
      "|PORTLAND INTERNAT...|  365|\n",
      "| MIAMI INTERNATIONAL|  365|\n",
      "|KANSAS CITY INTER...|  365|\n",
      "|LOS ANGELES INTER...|  361|\n",
      "|SAN FRANCISCO INT...|  364|\n",
      "|PHILADELPHIA INTE...|  365|\n",
      "|JACKSONVILLE INTE...|  363|\n",
      "|SAN JOSE INTERNAT...|  360|\n",
      "|NASHVILLE INTERNA...|  362|\n",
      "|NEWARK LIBERTY IN...|  364|\n",
      "|WASHINGTON DULLES...|  365|\n",
      "+--------------------+-----+\n",
      "only showing top 20 rows\n",
      "\n"
     ]
    }
   ],
   "source": [
    "#zobrazime si pocetnosti zaznamov pre dane letiska v datasete o pocasi \n",
    "weather_counts = sorted_filtered_weather_df.groupBy('NAME').count()\n",
    "weather_counts.show()"
   ]
  },
  {
   "cell_type": "code",
   "execution_count": 49,
   "metadata": {
    "ExecuteTime": {
     "end_time": "2024-04-30T17:53:45.579953Z",
     "start_time": "2024-04-30T17:53:19.954772Z"
    },
    "collapsed": false,
    "jupyter": {
     "outputs_hidden": false
    }
   },
   "outputs": [
    {
     "name": "stderr",
     "output_type": "stream",
     "text": [
      "[Stage 166:==================================================>    (12 + 1) / 13]\r"
     ]
    },
    {
     "name": "stdout",
     "output_type": "stream",
     "text": [
      "+--------------------+------+\n",
      "|   DEPARTING_AIRPORT| count|\n",
      "+--------------------+------+\n",
      "|SYRACUSE HANCOCK ...| 10080|\n",
      "|CLEVELAND HOPKINS...| 44217|\n",
      "|HOUSTON INTERCONT...|168450|\n",
      "|SPOKANE INTERNATI...|  3117|\n",
      "|           LAGUARDIA|154678|\n",
      "| TAMPA INTERNATIONAL| 71333|\n",
      "|HONOLULU INTERNAT...| 40067|\n",
      "|  BOISE AIR TERMINAL| 15976|\n",
      "|MCCARRAN INTERNAT...|154495|\n",
      "|NORFOLK INTERNATI...| 21129|\n",
      "|SAN ANTONIO INTER...| 37123|\n",
      "|SALT LAKE CITY IN...|106374|\n",
      "|RICHMOND INTERNAT...| 21188|\n",
      "|ALBUQUERQUE INTER...| 21562|\n",
      "|MEMPHIS INTERNATI...| 22391|\n",
      "|AUSTIN BERGSTROM ...| 61877|\n",
      "|PORTLAND INTERNAT...| 58332|\n",
      "| MIAMI INTERNATIONAL| 82159|\n",
      "|KANSAS CITY INTER...| 50341|\n",
      "|LOS ANGELES INTER...|207589|\n",
      "+--------------------+------+\n",
      "only showing top 20 rows\n",
      "\n"
     ]
    },
    {
     "name": "stderr",
     "output_type": "stream",
     "text": [
      "                                                                                \r"
     ]
    }
   ],
   "source": [
    "#zobrazime si pocetnosti zaznamov pre dane letiska v datasete s letmi\n",
    "common_airports_list = list(common_airports)\n",
    "\n",
    "filtered_df = filtered_flight_delay_df.filter(filtered_flight_delay_df.DEPARTING_AIRPORT.isin(common_airports_list))\n",
    "\n",
    "airport_counts = filtered_df.groupBy('DEPARTING_AIRPORT').count()\n",
    "\n",
    "airport_counts.show()"
   ]
  },
  {
   "cell_type": "code",
   "execution_count": 50,
   "metadata": {
    "ExecuteTime": {
     "end_time": "2024-04-30T17:54:07.586365Z",
     "start_time": "2024-04-30T17:53:45.586329Z"
    },
    "collapsed": false,
    "jupyter": {
     "outputs_hidden": false
    }
   },
   "outputs": [
    {
     "name": "stderr",
     "output_type": "stream",
     "text": [
      "24/04/30 17:53:45 WARN CSVHeaderChecker: CSV header does not conform to the schema.\n",
      " Header: , MONTH, DAY_OF_WEEK, DEP_DEL15, DEP_TIME_BLK, DISTANCE_GROUP, SEGMENT_NUMBER, CONCURRENT_FLIGHTS, NUMBER_OF_SEATS, CARRIER_NAME, AIRPORT_FLIGHTS_MONTH, AIRLINE_FLIGHTS_MONTH, AIRLINE_AIRPORT_FLIGHTS_MONTH, AVG_MONTHLY_PASS_AIRPORT, AVG_MONTHLY_PASS_AIRLINE, FLT_ATTENDANTS_PER_PASS, GROUND_SERV_PER_PASS, PLANE_AGE, DEPARTING_AIRPORT, LATITUDE, LONGITUDE, PREVIOUS_AIRPORT\n",
      " Schema: _c0, MONTH, DAY_OF_WEEK, DEP_DEL15, DEP_TIME_BLK, DISTANCE_GROUP, SEGMENT_NUMBER, CONCURRENT_FLIGHTS, NUMBER_OF_SEATS, CARRIER_NAME, AIRPORT_FLIGHTS_MONTH, AIRLINE_FLIGHTS_MONTH, AIRLINE_AIRPORT_FLIGHTS_MONTH, AVG_MONTHLY_PASS_AIRPORT, AVG_MONTHLY_PASS_AIRLINE, FLT_ATTENDANTS_PER_PASS, GROUND_SERV_PER_PASS, PLANE_AGE, DEPARTING_AIRPORT, LATITUDE, LONGITUDE, PREVIOUS_AIRPORT\n",
      "Expected: _c0 but found: \n",
      "CSV file: file:///Users/A117792292/Documents/School/sparkzadanie/full_data_flightdelay.csv\n",
      "[Stage 172:==================================================>    (12 + 1) / 13]\r"
     ]
    },
    {
     "name": "stdout",
     "output_type": "stream",
     "text": [
      "+---+-----+-----------+---------+------------+--------------+--------------+------------------+---------------+------------+---------------------+---------------------+-----------------------------+------------------------+------------------------+-----------------------+--------------------+---------+-----------------+--------+---------+----------------+\n",
      "|_c0|MONTH|DAY_OF_WEEK|DEP_DEL15|DEP_TIME_BLK|DISTANCE_GROUP|SEGMENT_NUMBER|CONCURRENT_FLIGHTS|NUMBER_OF_SEATS|CARRIER_NAME|AIRPORT_FLIGHTS_MONTH|AIRLINE_FLIGHTS_MONTH|AIRLINE_AIRPORT_FLIGHTS_MONTH|AVG_MONTHLY_PASS_AIRPORT|AVG_MONTHLY_PASS_AIRLINE|FLT_ATTENDANTS_PER_PASS|GROUND_SERV_PER_PASS|PLANE_AGE|DEPARTING_AIRPORT|LATITUDE|LONGITUDE|PREVIOUS_AIRPORT|\n",
      "+---+-----+-----------+---------+------------+--------------+--------------+------------------+---------------+------------+---------------------+---------------------+-----------------------------+------------------------+------------------------+-----------------------+--------------------+---------+-----------------+--------+---------+----------------+\n",
      "|  0|    0|          0|        0|           0|         22692|             0|                 0|              0|           0|                    0|                    0|                        34163|                       0|                       0|                  11372|                   0|        0|                0|       0|        0|               0|\n",
      "+---+-----+-----------+---------+------------+--------------+--------------+------------------+---------------+------------+---------------------+---------------------+-----------------------------+------------------------+------------------------+-----------------------+--------------------+---------+-----------------+--------+---------+----------------+\n",
      "\n"
     ]
    },
    {
     "name": "stderr",
     "output_type": "stream",
     "text": [
      "                                                                                \r"
     ]
    }
   ],
   "source": [
    "#znova sa pozrieme na null hodnoty v novom datasete s letmi\n",
    "null_count_flights = sorted_filtered_flight_delay_df.select([sum(col(c).isNull().cast(\"int\")).alias(c) for c in flight_delay_df.columns])\n",
    "null_count_flights.show()"
   ]
  },
  {
   "cell_type": "code",
   "execution_count": 51,
   "metadata": {
    "ExecuteTime": {
     "end_time": "2024-04-30T17:54:07.586547Z",
     "start_time": "2024-04-30T17:54:07.545773Z"
    },
    "collapsed": false,
    "jupyter": {
     "outputs_hidden": false
    }
   },
   "outputs": [],
   "source": [
    "#dropneme null hodnoty - riadky\n",
    "sorted_filtered_flight_delay_df = sorted_filtered_flight_delay_df.na.drop(subset=[\"DISTANCE_GROUP\", \"FLT_ATTENDANTS_PER_PASS\", \"AIRLINE_AIRPORT_FLIGHTS_MONTH\"])"
   ]
  },
  {
   "cell_type": "markdown",
   "metadata": {},
   "source": []
  },
  {
   "cell_type": "code",
   "execution_count": 52,
   "metadata": {
    "ExecuteTime": {
     "end_time": "2024-04-30T17:54:31.336754Z",
     "start_time": "2024-04-30T17:54:07.558537Z"
    },
    "collapsed": false,
    "jupyter": {
     "outputs_hidden": false
    }
   },
   "outputs": [
    {
     "name": "stderr",
     "output_type": "stream",
     "text": [
      "24/04/30 17:54:07 WARN CSVHeaderChecker: CSV header does not conform to the schema.\n",
      " Header: , MONTH, DAY_OF_WEEK, DEP_DEL15, DEP_TIME_BLK, DISTANCE_GROUP, SEGMENT_NUMBER, CONCURRENT_FLIGHTS, NUMBER_OF_SEATS, CARRIER_NAME, AIRPORT_FLIGHTS_MONTH, AIRLINE_FLIGHTS_MONTH, AIRLINE_AIRPORT_FLIGHTS_MONTH, AVG_MONTHLY_PASS_AIRPORT, AVG_MONTHLY_PASS_AIRLINE, FLT_ATTENDANTS_PER_PASS, GROUND_SERV_PER_PASS, PLANE_AGE, DEPARTING_AIRPORT, LATITUDE, LONGITUDE, PREVIOUS_AIRPORT\n",
      " Schema: _c0, MONTH, DAY_OF_WEEK, DEP_DEL15, DEP_TIME_BLK, DISTANCE_GROUP, SEGMENT_NUMBER, CONCURRENT_FLIGHTS, NUMBER_OF_SEATS, CARRIER_NAME, AIRPORT_FLIGHTS_MONTH, AIRLINE_FLIGHTS_MONTH, AIRLINE_AIRPORT_FLIGHTS_MONTH, AVG_MONTHLY_PASS_AIRPORT, AVG_MONTHLY_PASS_AIRLINE, FLT_ATTENDANTS_PER_PASS, GROUND_SERV_PER_PASS, PLANE_AGE, DEPARTING_AIRPORT, LATITUDE, LONGITUDE, PREVIOUS_AIRPORT\n",
      "Expected: _c0 but found: \n",
      "CSV file: file:///Users/A117792292/Documents/School/sparkzadanie/full_data_flightdelay.csv\n",
      "[Stage 178:==================================================>    (12 + 1) / 13]\r"
     ]
    },
    {
     "name": "stdout",
     "output_type": "stream",
     "text": [
      "+---+-----+-----------+---------+------------+--------------+--------------+------------------+---------------+------------+---------------------+---------------------+-----------------------------+------------------------+------------------------+-----------------------+--------------------+---------+-----------------+--------+---------+----------------+\n",
      "|_c0|MONTH|DAY_OF_WEEK|DEP_DEL15|DEP_TIME_BLK|DISTANCE_GROUP|SEGMENT_NUMBER|CONCURRENT_FLIGHTS|NUMBER_OF_SEATS|CARRIER_NAME|AIRPORT_FLIGHTS_MONTH|AIRLINE_FLIGHTS_MONTH|AIRLINE_AIRPORT_FLIGHTS_MONTH|AVG_MONTHLY_PASS_AIRPORT|AVG_MONTHLY_PASS_AIRLINE|FLT_ATTENDANTS_PER_PASS|GROUND_SERV_PER_PASS|PLANE_AGE|DEPARTING_AIRPORT|LATITUDE|LONGITUDE|PREVIOUS_AIRPORT|\n",
      "+---+-----+-----------+---------+------------+--------------+--------------+------------------+---------------+------------+---------------------+---------------------+-----------------------------+------------------------+------------------------+-----------------------+--------------------+---------+-----------------+--------+---------+----------------+\n",
      "|  0|    0|          0|        0|           0|             0|             0|                 0|              0|           0|                    0|                    0|                            0|                       0|                       0|                      0|                   0|        0|                0|       0|        0|               0|\n",
      "+---+-----+-----------+---------+------------+--------------+--------------+------------------+---------------+------------+---------------------+---------------------+-----------------------------+------------------------+------------------------+-----------------------+--------------------+---------+-----------------+--------+---------+----------------+\n",
      "\n"
     ]
    },
    {
     "name": "stderr",
     "output_type": "stream",
     "text": [
      "                                                                                \r"
     ]
    }
   ],
   "source": [
    "#overime ci uz mame vsetky null hodnoty odstranene\n",
    "null_count_flights = sorted_filtered_flight_delay_df.select([sum(col(c).isNull().cast(\"int\")).alias(c) for c in sorted_filtered_flight_delay_df.columns])\n",
    "null_count_flights.show()"
   ]
  },
  {
   "cell_type": "code",
   "execution_count": 53,
   "metadata": {
    "ExecuteTime": {
     "end_time": "2024-04-30T17:54:51.286089Z",
     "start_time": "2024-04-30T17:54:31.319830Z"
    },
    "collapsed": false,
    "jupyter": {
     "outputs_hidden": false
    }
   },
   "outputs": [
    {
     "name": "stderr",
     "output_type": "stream",
     "text": [
      "[Stage 184:==================================================>    (12 + 1) / 13]\r"
     ]
    },
    {
     "name": "stdout",
     "output_type": "stream",
     "text": [
      "The DataFrame has 2067797 rows.\n"
     ]
    },
    {
     "name": "stderr",
     "output_type": "stream",
     "text": [
      "                                                                                \r"
     ]
    }
   ],
   "source": [
    "# pocet kolko riadkov nam zostalo po cisteni datasetu\n",
    "row_count = sorted_filtered_flight_delay_df.count()\n",
    "\n",
    "print(f\"The DataFrame has {row_count} rows.\")"
   ]
  },
  {
   "cell_type": "code",
   "execution_count": 54,
   "metadata": {
    "ExecuteTime": {
     "end_time": "2024-04-30T17:54:51.447779Z",
     "start_time": "2024-04-30T17:54:51.256585Z"
    },
    "collapsed": false,
    "jupyter": {
     "outputs_hidden": false
    }
   },
   "outputs": [],
   "source": [
    "#IDEME PRIEMEROVAT VSETKO PODLA MESIACA A DNIA V TYZDNI LEBO MAME 4 UDAJE PRE KAZDY DEN V MESIACI A CHCEME MAT LEN JEDEN aby sme to mohli joinut\n",
    "#cize vytvorime z kazdeho numerickeho atributu priemer a ten zapiseme do noveho atributu s nazvom mean_ + nazov atributu cize 4 riadky s rovnakym month a day of week budu mat rovnake hodnoty v mean_ + nazov atributu\n",
    "groupby_columns = [\"MONTH\",\"DAY_OF_WEEK\",\"NAME\"]\n",
    "replace_column = \"TAVG\"\n",
    "\n",
    "# vypočítajte priemer pre každú skupinu\n",
    "mean_df = sorted_filtered_weather_df.groupBy(groupby_columns).agg(\n",
    "  mean(replace_column).alias('mean_' + replace_column)\n",
    ")\n",
    "\n",
    "\n",
    "sorted_filtered_weather_df = sorted_filtered_weather_df.join(mean_df, on=groupby_columns)\n",
    "\n",
    "sorted_filtered_weather_df = sorted_filtered_weather_df.withColumn(\n",
    "  replace_column,\n",
    "  when(col(replace_column).isNull(), col('mean_' + replace_column)).otherwise(col(replace_column))\n",
    ")"
   ]
  },
  {
   "cell_type": "code",
   "execution_count": 55,
   "metadata": {
    "ExecuteTime": {
     "end_time": "2024-04-30T17:54:51.666208Z",
     "start_time": "2024-04-30T17:54:51.428435Z"
    },
    "collapsed": false,
    "jupyter": {
     "outputs_hidden": false
    }
   },
   "outputs": [],
   "source": [
    "\n",
    "groupby_columns = [\"MONTH\",\"DAY_OF_WEEK\",\"NAME\"]\n",
    "replace_column = \"SNWD\"\n",
    "\n",
    "# vypočítajte priemer pre každú skupinu\n",
    "mean_df = sorted_filtered_weather_df.groupBy(groupby_columns).agg(\n",
    "  mean(replace_column).alias('mean_' + replace_column)\n",
    ")\n",
    "\n",
    "\n",
    "sorted_filtered_weather_df = sorted_filtered_weather_df.join(mean_df, on=groupby_columns)\n",
    "\n",
    "sorted_filtered_weather_df = sorted_filtered_weather_df.withColumn(\n",
    "  replace_column,\n",
    "  when(col(replace_column).isNull(), col('mean_' + replace_column)).otherwise(col(replace_column))\n",
    ")"
   ]
  },
  {
   "cell_type": "code",
   "execution_count": 56,
   "metadata": {
    "ExecuteTime": {
     "end_time": "2024-04-30T17:54:52.086937Z",
     "start_time": "2024-04-30T17:54:51.675518Z"
    },
    "collapsed": false,
    "jupyter": {
     "outputs_hidden": false
    }
   },
   "outputs": [],
   "source": [
    "groupby_columns = [\"MONTH\",\"DAY_OF_WEEK\",\"NAME\"]\n",
    "replace_column = \"AWND\"\n",
    "\n",
    "# vypočítajte priemer pre každú skupinu\n",
    "mean_df = sorted_filtered_weather_df.groupBy(groupby_columns).agg(\n",
    "  mean(replace_column).alias('mean_' + replace_column)\n",
    ")\n",
    "\n",
    "sorted_filtered_weather_df = sorted_filtered_weather_df.join(mean_df, on=groupby_columns)\n",
    "\n",
    "sorted_filtered_weather_df = sorted_filtered_weather_df.withColumn(\n",
    "  replace_column,\n",
    "  when(col(replace_column).isNull(), col('mean_' + replace_column)).otherwise(col(replace_column))\n",
    ")"
   ]
  },
  {
   "cell_type": "code",
   "execution_count": 57,
   "metadata": {
    "ExecuteTime": {
     "end_time": "2024-04-30T17:54:52.749273Z",
     "start_time": "2024-04-30T17:54:52.092407Z"
    },
    "collapsed": false,
    "jupyter": {
     "outputs_hidden": false
    }
   },
   "outputs": [],
   "source": [
    "groupby_columns = [\"MONTH\",\"DAY_OF_WEEK\",\"NAME\"]\n",
    "replace_column = \"TMAX\"\n",
    "\n",
    "# vypočítajte priemer pre každú skupinu\n",
    "mean_df = sorted_filtered_weather_df.groupBy(groupby_columns).agg(\n",
    "  mean(replace_column).alias('mean_' + replace_column)\n",
    ")\n",
    "\n",
    "sorted_filtered_weather_df = sorted_filtered_weather_df.join(mean_df, on=groupby_columns)\n",
    "\n",
    "sorted_filtered_weather_df = sorted_filtered_weather_df.withColumn(\n",
    "  replace_column,\n",
    "  when(col(replace_column).isNull(), col('mean_' + replace_column)).otherwise(col(replace_column))\n",
    ")"
   ]
  },
  {
   "cell_type": "code",
   "execution_count": 58,
   "metadata": {
    "ExecuteTime": {
     "end_time": "2024-04-30T17:54:53.999360Z",
     "start_time": "2024-04-30T17:54:52.752028Z"
    },
    "collapsed": false,
    "jupyter": {
     "outputs_hidden": false
    }
   },
   "outputs": [],
   "source": [
    "groupby_columns = [\"MONTH\",\"DAY_OF_WEEK\",\"NAME\"]\n",
    "replace_column = \"TMIN\"\n",
    "\n",
    "# vypočítajte priemer pre každú skupinu\n",
    "mean_df = sorted_filtered_weather_df.groupBy(groupby_columns).agg(\n",
    "  mean(replace_column).alias('mean_' + replace_column)\n",
    ")\n",
    "\n",
    "sorted_filtered_weather_df = sorted_filtered_weather_df.join(mean_df, on=groupby_columns)\n",
    "\n",
    "sorted_filtered_weather_df = sorted_filtered_weather_df.withColumn(\n",
    "  replace_column,\n",
    "  when(col(replace_column).isNull(), col('mean_' + replace_column)).otherwise(col(replace_column))\n",
    ")"
   ]
  },
  {
   "cell_type": "code",
   "execution_count": 59,
   "metadata": {
    "ExecuteTime": {
     "end_time": "2024-04-30T17:54:56.342805Z",
     "start_time": "2024-04-30T17:54:54.000936Z"
    },
    "collapsed": false,
    "jupyter": {
     "outputs_hidden": false
    }
   },
   "outputs": [],
   "source": [
    "groupby_columns = [\"MONTH\",\"DAY_OF_WEEK\",\"NAME\"]\n",
    "replace_column = \"WDF2\"\n",
    "\n",
    "# vypočítajte priemer pre každú skupinu\n",
    "mean_df = sorted_filtered_weather_df.groupBy(groupby_columns).agg(\n",
    "  mean(replace_column).alias('mean_' + replace_column)\n",
    ")\n",
    "\n",
    "sorted_filtered_weather_df = sorted_filtered_weather_df.join(mean_df, on=groupby_columns)\n",
    "\n",
    "sorted_filtered_weather_df = sorted_filtered_weather_df.withColumn(\n",
    "  replace_column,\n",
    "  when(col(replace_column).isNull(), col('mean_' + replace_column)).otherwise(col(replace_column))\n",
    ")"
   ]
  },
  {
   "cell_type": "code",
   "execution_count": 60,
   "metadata": {
    "ExecuteTime": {
     "end_time": "2024-04-30T17:55:00.439428Z",
     "start_time": "2024-04-30T17:54:56.345349Z"
    },
    "collapsed": false,
    "jupyter": {
     "outputs_hidden": false
    }
   },
   "outputs": [],
   "source": [
    "groupby_columns = [\"MONTH\",\"DAY_OF_WEEK\",\"NAME\"]\n",
    "replace_column = \"WDF5\"\n",
    "\n",
    "# vypočítajte priemer pre každú skupinu\n",
    "mean_df = sorted_filtered_weather_df.groupBy(groupby_columns).agg(\n",
    "  mean(replace_column).alias('mean_' + replace_column)\n",
    ")\n",
    "\n",
    "sorted_filtered_weather_df = sorted_filtered_weather_df.join(mean_df, on=groupby_columns)\n",
    "\n",
    "sorted_filtered_weather_df = sorted_filtered_weather_df.withColumn(\n",
    "  replace_column,\n",
    "  when(col(replace_column).isNull(), col('mean_' + replace_column)).otherwise(col(replace_column))\n",
    ")"
   ]
  },
  {
   "cell_type": "code",
   "execution_count": 61,
   "metadata": {
    "ExecuteTime": {
     "end_time": "2024-04-30T17:55:08.260473Z",
     "start_time": "2024-04-30T17:55:00.444412Z"
    },
    "collapsed": false,
    "jupyter": {
     "outputs_hidden": false
    }
   },
   "outputs": [],
   "source": [
    "groupby_columns = [\"MONTH\",\"DAY_OF_WEEK\",\"NAME\"]\n",
    "replace_column = \"WSF5\"\n",
    "\n",
    "# vypočítajte priemer pre každú skupinu\n",
    "mean_df = sorted_filtered_weather_df.groupBy(groupby_columns).agg(\n",
    "  mean(replace_column).alias('mean_' + replace_column)\n",
    ")\n",
    "\n",
    "sorted_filtered_weather_df = sorted_filtered_weather_df.join(mean_df, on=groupby_columns)\n",
    "\n",
    "sorted_filtered_weather_df = sorted_filtered_weather_df.withColumn(\n",
    "  replace_column,\n",
    "  when(col(replace_column).isNull(), col('mean_' + replace_column)).otherwise(col(replace_column))\n",
    ")"
   ]
  },
  {
   "cell_type": "code",
   "execution_count": 62,
   "metadata": {
    "ExecuteTime": {
     "end_time": "2024-04-30T17:55:23.562634Z",
     "start_time": "2024-04-30T17:55:08.260154Z"
    },
    "collapsed": false,
    "jupyter": {
     "outputs_hidden": false
    }
   },
   "outputs": [],
   "source": [
    "groupby_columns = [\"MONTH\",\"DAY_OF_WEEK\",\"NAME\"]\n",
    "replace_column = \"WSF2\"\n",
    "\n",
    "# vypočítajte priemer pre každú skupinu\n",
    "mean_df = sorted_filtered_weather_df.groupBy(groupby_columns).agg(\n",
    "  mean(replace_column).alias('mean_' + replace_column)\n",
    ")\n",
    "\n",
    "sorted_filtered_weather_df = sorted_filtered_weather_df.join(mean_df, on=groupby_columns)\n",
    "\n",
    "sorted_filtered_weather_df = sorted_filtered_weather_df.withColumn(\n",
    "  replace_column,\n",
    "  when(col(replace_column).isNull(), col('mean_' + replace_column)).otherwise(col(replace_column))\n",
    ")\n"
   ]
  },
  {
   "cell_type": "code",
   "execution_count": 63,
   "metadata": {
    "ExecuteTime": {
     "end_time": "2024-04-30T17:55:53.450238Z",
     "start_time": "2024-04-30T17:55:23.563217Z"
    },
    "collapsed": false,
    "jupyter": {
     "outputs_hidden": false
    }
   },
   "outputs": [],
   "source": [
    "groupby_columns = [\"MONTH\",\"DAY_OF_WEEK\",\"NAME\"]\n",
    "replace_column = \"SNOW\"\n",
    "\n",
    "# vypočítajte priemer pre každú skupinu\n",
    "mean_df = sorted_filtered_weather_df.groupBy(groupby_columns).agg(\n",
    "  mean(replace_column).alias('mean_' + replace_column)\n",
    ")\n",
    "\n",
    "sorted_filtered_weather_df = sorted_filtered_weather_df.join(mean_df, on=groupby_columns)\n",
    "\n",
    "sorted_filtered_weather_df = sorted_filtered_weather_df.withColumn(\n",
    "  replace_column,\n",
    "  when(col(replace_column).isNull(), col('mean_' + replace_column)).otherwise(col(replace_column))\n",
    ")\n"
   ]
  },
  {
   "cell_type": "code",
   "execution_count": 64,
   "metadata": {
    "ExecuteTime": {
     "end_time": "2024-04-30T17:56:54.066807Z",
     "start_time": "2024-04-30T17:55:53.453738Z"
    },
    "collapsed": false,
    "jupyter": {
     "outputs_hidden": false
    }
   },
   "outputs": [],
   "source": [
    "groupby_columns = [\"MONTH\",\"DAY_OF_WEEK\",\"NAME\"]\n",
    "replace_column = \"PRCP\"\n",
    "\n",
    "# vypočítajte priemer pre každú skupinu\n",
    "mean_df = sorted_filtered_weather_df.groupBy(groupby_columns).agg(\n",
    "  mean(replace_column).alias('mean_' + replace_column)\n",
    ")\n",
    "\n",
    "sorted_filtered_weather_df = sorted_filtered_weather_df.join(mean_df, on=groupby_columns)\n",
    "\n",
    "sorted_filtered_weather_df = sorted_filtered_weather_df.withColumn(\n",
    "  replace_column,\n",
    "  when(col(replace_column).isNull(), col('mean_' + replace_column)).otherwise(col(replace_column))\n",
    ")"
   ]
  },
  {
   "cell_type": "code",
   "execution_count": 65,
   "metadata": {
    "ExecuteTime": {
     "end_time": "2024-04-30T17:02:00.140546Z",
     "start_time": "2024-04-30T16:39:26.243011Z"
    },
    "collapsed": false,
    "jupyter": {
     "outputs_hidden": false
    }
   },
   "outputs": [
    {
     "name": "stderr",
     "output_type": "stream",
     "text": [
      "                                                                                \r"
     ]
    },
    {
     "data": {
      "text/plain": [
       "[Row(MONTH=1, DAY_OF_WEEK=2, NAME='AUSTIN BERGSTROM INTERNATIONAL', STATION='USW00013904', DATE='2019-01-01', AWND='12.3', PRCP='0.0', SNOW='0.0', SNWD='0.0', TAVG='43.0', TMAX='46.0', TMIN='33.0', WDF2='20.0', WDF5='10.0', WSF2='23.0', WSF5='25.1', WT01='1.0', WT02='1.0', WT03='0', WT04='0', WT05='0', WT06='0', WT07='0', WT08='0', WT09='0', WT10='0', WT11='0', mean_TAVG=53.2, mean_SNWD=0.0, mean_AWND=9.306000000000001, mean_TMAX=59.4, mean_TMIN=41.6, mean_WDF2=116.0, mean_WDF5=114.0, mean_WSF5=26.439999999999998, mean_WSF2=22.64, mean_SNOW=0.0, mean_PRCP=0.02),\n",
       " Row(MONTH=1, DAY_OF_WEEK=3, NAME='AUSTIN BERGSTROM INTERNATIONAL', STATION='USW00013904', DATE='2019-01-02', AWND='10.96', PRCP='2.16', SNOW='0.0', SNWD='0.0', TAVG='39.0', TMAX='42.0', TMIN='37.0', WDF2='360.0', WDF5='350.0', WSF2='17.0', WSF5='21.9', WT01='1.0', WT02='0', WT03='0', WT04='0', WT05='0', WT06='0', WT07='0', WT08='0', WT09='0', WT10='0', WT11='0', mean_TAVG=48.6, mean_SNWD=0.0, mean_AWND=8.634, mean_TMAX=55.0, mean_TMIN=38.8, mean_WDF2=210.0, mean_WDF5=204.0, mean_WSF5=22.580000000000002, mean_WSF2=17.82, mean_SNOW=0.0, mean_PRCP=0.442),\n",
       " Row(MONTH=1, DAY_OF_WEEK=4, NAME='AUSTIN BERGSTROM INTERNATIONAL', STATION='USW00013904', DATE='2019-01-03', AWND='6.71', PRCP='0.22', SNOW='0.0', SNWD='0.0', TAVG='41.0', TMAX='53.0', TMIN='31.0', WDF2='320.0', WDF5='320.0', WSF2='18.1', WSF5='23.9', WT01='1.0', WT02='0', WT03='0', WT04='0', WT05='0', WT06='0', WT07='0', WT08='0', WT09='0', WT10='0', WT11='0', mean_TAVG=49.4, mean_SNWD=0.0, mean_AWND=4.744, mean_TMAX=63.4, mean_TMIN=38.0, mean_WDF2=190.0, mean_WDF5=180.0, mean_WSF5=18.2, mean_WSF2=15.040000000000001, mean_SNOW=0.0, mean_PRCP=0.046),\n",
       " Row(MONTH=1, DAY_OF_WEEK=5, NAME='AUSTIN BERGSTROM INTERNATIONAL', STATION='USW00013904', DATE='2019-01-04', AWND='3.8', PRCP='0.0', SNOW='0.0', SNWD='0.0', TAVG='44.0', TMAX='67.0', TMIN='29.0', WDF2='310.0', WDF5='310.0', WSF2='13.0', WSF5='16.1', WT01='0', WT02='0', WT03='0', WT04='0', WT05='0', WT06='0', WT07='0', WT08='0', WT09='0', WT10='0', WT11='0', mean_TAVG=50.25, mean_SNWD=0.0, mean_AWND=5.425000000000001, mean_TMAX=64.0, mean_TMIN=37.0, mean_WDF2=210.0, mean_WDF5=202.5, mean_WSF5=18.5, mean_WSF2=14.5, mean_SNOW=0.0, mean_PRCP=0.085),\n",
       " Row(MONTH=1, DAY_OF_WEEK=6, NAME='AUSTIN BERGSTROM INTERNATIONAL', STATION='USW00013904', DATE='2019-01-05', AWND='4.47', PRCP='0.0', SNOW='0.0', SNWD='0.0', TAVG='49.0', TMAX='73.0', TMIN='30.0', WDF2='180.0', WDF5='190.0', WSF2='15.0', WSF5='18.1', WT01='1.0', WT02='0', WT03='0', WT04='0', WT05='0', WT06='0', WT07='0', WT08='0', WT09='0', WT10='0', WT11='0', mean_TAVG=54.25, mean_SNWD=0.0, mean_AWND=9.17, mean_TMAX=66.75, mean_TMIN=35.75, mean_WDF2=220.0, mean_WDF5=215.0, mean_WSF5=28.85, mean_WSF2=20.25, mean_SNOW=0.0, mean_PRCP=0.0675)]"
      ]
     },
     "execution_count": 65,
     "metadata": {},
     "output_type": "execute_result"
    }
   ],
   "source": [
    "sorted_filtered_weather_df.take(5)"
   ]
  },
  {
   "cell_type": "code",
   "execution_count": 65,
   "metadata": {
    "ExecuteTime": {
     "end_time": "2024-04-30T17:56:58.492529Z",
     "start_time": "2024-04-30T17:56:54.080321Z"
    },
    "collapsed": false,
    "jupyter": {
     "outputs_hidden": false
    }
   },
   "outputs": [],
   "source": [
    "# Zoznam atributov, ktore dropneme\n",
    "columns_to_drop = ['SNWD', 'AWND','DATE', 'TAVG','TMAX', 'TMIN', 'WDF2','WDF5', 'WSF5', 'WSF2','SNOW', 'PRCP']\n",
    "\n",
    "# Dropneme stlpce \n",
    "sorted_filtered_weather_df = sorted_filtered_weather_df.drop(*columns_to_drop)"
   ]
  },
  {
   "cell_type": "code",
   "execution_count": 66,
   "metadata": {
    "ExecuteTime": {
     "end_time": "2024-04-30T17:57:31.401215Z",
     "start_time": "2024-04-30T17:56:58.494364Z"
    },
    "collapsed": false,
    "jupyter": {
     "outputs_hidden": false
    }
   },
   "outputs": [
    {
     "name": "stderr",
     "output_type": "stream",
     "text": [
      "24/04/30 17:56:58 WARN CSVHeaderChecker: CSV header does not conform to the schema.\n",
      " Header: , MONTH, DAY_OF_WEEK, DEP_DEL15, DEP_TIME_BLK, DISTANCE_GROUP, SEGMENT_NUMBER, CONCURRENT_FLIGHTS, NUMBER_OF_SEATS, CARRIER_NAME, AIRPORT_FLIGHTS_MONTH, AIRLINE_FLIGHTS_MONTH, AIRLINE_AIRPORT_FLIGHTS_MONTH, AVG_MONTHLY_PASS_AIRPORT, AVG_MONTHLY_PASS_AIRLINE, FLT_ATTENDANTS_PER_PASS, GROUND_SERV_PER_PASS, PLANE_AGE, DEPARTING_AIRPORT, LATITUDE, LONGITUDE, PREVIOUS_AIRPORT\n",
      " Schema: _c0, MONTH, DAY_OF_WEEK, DEP_DEL15, DEP_TIME_BLK, DISTANCE_GROUP, SEGMENT_NUMBER, CONCURRENT_FLIGHTS, NUMBER_OF_SEATS, CARRIER_NAME, AIRPORT_FLIGHTS_MONTH, AIRLINE_FLIGHTS_MONTH, AIRLINE_AIRPORT_FLIGHTS_MONTH, AVG_MONTHLY_PASS_AIRPORT, AVG_MONTHLY_PASS_AIRLINE, FLT_ATTENDANTS_PER_PASS, GROUND_SERV_PER_PASS, PLANE_AGE, DEPARTING_AIRPORT, LATITUDE, LONGITUDE, PREVIOUS_AIRPORT\n",
      "Expected: _c0 but found: \n",
      "CSV file: file:///Users/A117792292/Documents/School/sparkzadanie/full_data_flightdelay.csv\n",
      "                                                                                \r"
     ]
    }
   ],
   "source": [
    "sorted_filtered_flight_delay_df.write.options(header='True').csv('sorted_filtered_flight_delay_df_final.csv')"
   ]
  },
  {
   "cell_type": "code",
   "execution_count": 67,
   "metadata": {
    "ExecuteTime": {
     "end_time": "2024-04-30T18:14:02.868293Z",
     "start_time": "2024-04-30T17:57:31.403106Z"
    },
    "collapsed": false,
    "jupyter": {
     "outputs_hidden": false
    }
   },
   "outputs": [
    {
     "name": "stderr",
     "output_type": "stream",
     "text": [
      "                                                                                \r"
     ]
    }
   ],
   "source": [
    "sorted_filtered_weather_df.write.options(header='True').csv('sorted_filtered_avg_weather_df_final.csv')"
   ]
  },
  {
   "cell_type": "code",
   "execution_count": 3,
   "metadata": {
    "ExecuteTime": {
     "end_time": "2024-04-30T18:34:33.898617Z",
     "start_time": "2024-04-30T18:34:23.949241Z"
    },
    "collapsed": false,
    "jupyter": {
     "outputs_hidden": false
    }
   },
   "outputs": [
    {
     "name": "stderr",
     "output_type": "stream",
     "text": [
      "                                                                                \r"
     ]
    }
   ],
   "source": [
    "#nacitanie novych datasetov odznova - odporucam restart kernel lebo bude pc kaput\n",
    "sorted_filtered_flight_delay_df = spark.read.csv('sorted_filtered_flight_delay_df_final.csv', header=True)\n",
    "sorted_filtered_avg_weather_df = spark.read.csv('sorted_filtered_avg_weather_df_final.csv', header=True)"
   ]
  },
  {
   "cell_type": "code",
   "execution_count": 4,
   "metadata": {
    "ExecuteTime": {
     "end_time": "2024-04-30T18:34:49.119987Z",
     "start_time": "2024-04-30T18:34:33.788063Z"
    },
    "collapsed": false,
    "jupyter": {
     "outputs_hidden": false
    }
   },
   "outputs": [],
   "source": [
    "#este nam ostali vsetky WT-- atributy, ktore chceme zmenit na priemerne hodnoty\n",
    "groupby_columns = [\"MONTH\",\"DAY_OF_WEEK\",\"NAME\"]\n",
    "\n",
    "for i in range(1, 12):\n",
    "    replace_column = \"WT{:02d}\".format(i)\n",
    "\n",
    "    mean_df = sorted_filtered_avg_weather_df.groupBy(groupby_columns).agg(\n",
    "      mean(replace_column).alias('mean_' + replace_column)\n",
    "    )\n",
    "\n",
    "\n",
    "    sorted_filtered_avg_weather_df = sorted_filtered_avg_weather_df.join(mean_df, on=groupby_columns)\n",
    "\n",
    "    sorted_filtered_avg_weather_df = sorted_filtered_avg_weather_df.withColumn(\n",
    "      replace_column,\n",
    "      when(col(replace_column).isNull(), col('mean_' + replace_column)).otherwise(col(replace_column))\n",
    "    )"
   ]
  },
  {
   "cell_type": "code",
   "execution_count": 5,
   "metadata": {
    "ExecuteTime": {
     "end_time": "2024-04-30T18:34:49.713016Z",
     "start_time": "2024-04-30T18:34:49.121716Z"
    },
    "collapsed": false,
    "jupyter": {
     "outputs_hidden": false
    }
   },
   "outputs": [],
   "source": [
    "#dropneme uz nepotrebne atributy\n",
    "columns_to_drop = ['WT02', 'WT03', 'WT04','WT01','WT05', 'WT06', 'WT07','WT08','WT09', 'WT10', 'WT11']\n",
    "\n",
    "sorted_filtered_avg_weather_df = sorted_filtered_avg_weather_df.drop(*columns_to_drop)"
   ]
  },
  {
   "cell_type": "code",
   "execution_count": 6,
   "metadata": {
    "ExecuteTime": {
     "end_time": "2024-04-30T18:37:44.038655Z",
     "start_time": "2024-04-30T18:34:49.715048Z"
    },
    "collapsed": false,
    "jupyter": {
     "outputs_hidden": false
    }
   },
   "outputs": [
    {
     "name": "stderr",
     "output_type": "stream",
     "text": [
      "24/04/30 18:35:03 WARN SparkStringUtils: Truncated the string representation of a plan since it was too large. This behavior can be adjusted by setting 'spark.sql.debug.maxToStringFields'.\n",
      "                                                                                \r"
     ]
    },
    {
     "data": {
      "text/plain": [
       "[Row(MONTH='1', DAY_OF_WEEK='2', NAME='AUSTIN BERGSTROM INTERNATIONAL', STATION='USW00013904', mean_TAVG='53.2', mean_SNWD='0.0', mean_AWND='9.306000000000001', mean_TMAX='59.4', mean_TMIN='41.6', mean_WDF2='116.0', mean_WDF5='114.0', mean_WSF5='26.439999999999998', mean_WSF2='22.64', mean_SNOW='0.0', mean_PRCP='0.02', mean_WT01=0.6, mean_WT02=0.4, mean_WT03=0.0, mean_WT04=0.0, mean_WT05=0.0, mean_WT06=0.0, mean_WT07=0.0, mean_WT08=0.0, mean_WT09=0.0, mean_WT10=0.0, mean_WT11=0.0),\n",
       " Row(MONTH='1', DAY_OF_WEEK='3', NAME='AUSTIN BERGSTROM INTERNATIONAL', STATION='USW00013904', mean_TAVG='48.6', mean_SNWD='0.0', mean_AWND='8.634', mean_TMAX='55.0', mean_TMIN='38.8', mean_WDF2='210.0', mean_WDF5='204.0', mean_WSF5='22.580000000000002', mean_WSF2='17.82', mean_SNOW='0.0', mean_PRCP='0.442', mean_WT01=0.4, mean_WT02=0.0, mean_WT03=0.0, mean_WT04=0.2, mean_WT05=0.0, mean_WT06=0.0, mean_WT07=0.0, mean_WT08=0.0, mean_WT09=0.0, mean_WT10=0.0, mean_WT11=0.0),\n",
       " Row(MONTH='1', DAY_OF_WEEK='4', NAME='AUSTIN BERGSTROM INTERNATIONAL', STATION='USW00013904', mean_TAVG='49.4', mean_SNWD='0.0', mean_AWND='4.744', mean_TMAX='63.4', mean_TMIN='38.0', mean_WDF2='190.0', mean_WDF5='180.0', mean_WSF5='18.2', mean_WSF2='15.040000000000001', mean_SNOW='0.0', mean_PRCP='0.046', mean_WT01=0.6, mean_WT02=0.0, mean_WT03=0.0, mean_WT04=0.0, mean_WT05=0.0, mean_WT06=0.0, mean_WT07=0.0, mean_WT08=0.0, mean_WT09=0.0, mean_WT10=0.0, mean_WT11=0.0),\n",
       " Row(MONTH='1', DAY_OF_WEEK='5', NAME='AUSTIN BERGSTROM INTERNATIONAL', STATION='USW00013904', mean_TAVG='50.25', mean_SNWD='0.0', mean_AWND='5.425000000000001', mean_TMAX='64.0', mean_TMIN='37.0', mean_WDF2='210.0', mean_WDF5='202.5', mean_WSF5='18.5', mean_WSF2='14.5', mean_SNOW='0.0', mean_PRCP='0.085', mean_WT01=0.5, mean_WT02=0.25, mean_WT03=0.0, mean_WT04=0.0, mean_WT05=0.0, mean_WT06=0.0, mean_WT07=0.0, mean_WT08=0.0, mean_WT09=0.0, mean_WT10=0.0, mean_WT11=0.0),\n",
       " Row(MONTH='1', DAY_OF_WEEK='6', NAME='AUSTIN BERGSTROM INTERNATIONAL', STATION='USW00013904', mean_TAVG='54.25', mean_SNWD='0.0', mean_AWND='9.17', mean_TMAX='66.75', mean_TMIN='35.75', mean_WDF2='220.0', mean_WDF5='215.0', mean_WSF5='28.85', mean_WSF2='20.25', mean_SNOW='0.0', mean_PRCP='0.0675', mean_WT01=0.75, mean_WT02=0.25, mean_WT03=0.0, mean_WT04=0.0, mean_WT05=0.0, mean_WT06=0.0, mean_WT07=0.0, mean_WT08=0.0, mean_WT09=0.0, mean_WT10=0.0, mean_WT11=0.0)]"
      ]
     },
     "execution_count": 6,
     "metadata": {},
     "output_type": "execute_result"
    }
   ],
   "source": [
    "sorted_filtered_avg_weather_df.take(5)"
   ]
  },
  {
   "cell_type": "code",
   "execution_count": 7,
   "metadata": {
    "ExecuteTime": {
     "end_time": "2024-04-30T18:40:37.414184Z",
     "start_time": "2024-04-30T18:37:44.034271Z"
    },
    "collapsed": false,
    "jupyter": {
     "outputs_hidden": false
    }
   },
   "outputs": [
    {
     "name": "stderr",
     "output_type": "stream",
     "text": [
      "                                                                                \r"
     ]
    }
   ],
   "source": [
    "#znova zapiseme do uz finalneho finalneho datasetu s pocasim\n",
    "sorted_filtered_avg_weather_df.write.options(header='True').csv('sorted_filtered_avg_weather_df_final_final.csv')"
   ]
  },
  {
   "cell_type": "code",
   "execution_count": 8,
   "metadata": {
    "ExecuteTime": {
     "end_time": "2024-04-30T18:40:37.739939Z",
     "start_time": "2024-04-30T18:40:37.416411Z"
    },
    "collapsed": false,
    "jupyter": {
     "outputs_hidden": false
    }
   },
   "outputs": [],
   "source": [
    "#nacitame si finalny finalny dataset s pocasim\n",
    "sorted_filtered_avg_weather_df = spark.read.csv('sorted_filtered_avg_weather_df_final_final.csv', header=True)"
   ]
  },
  {
   "cell_type": "code",
   "execution_count": 9,
   "metadata": {
    "ExecuteTime": {
     "end_time": "2024-04-30T18:40:38.051017Z",
     "start_time": "2024-04-30T18:40:37.730461Z"
    },
    "collapsed": false,
    "jupyter": {
     "outputs_hidden": false
    }
   },
   "outputs": [
    {
     "data": {
      "text/plain": [
       "[Row(MONTH='1', DAY_OF_WEEK='7', NAME='ALBANY INTERNATIONAL', STATION='USW00014735', mean_TAVG='22.25', mean_SNWD='3.525', mean_AWND='9.8975', mean_TMAX='32.0', mean_TMIN='10.75', mean_WDF2='202.5', mean_WDF5='205.0', mean_WSF5='30.75', mean_WSF2='23.55', mean_SNOW='2.6750000000000003', mean_PRCP='0.32', mean_WT01='0.75', mean_WT02='0.25', mean_WT03='0.0', mean_WT04='0.25', mean_WT05='0.0', mean_WT06='0.25', mean_WT07='0.0', mean_WT08='0.0', mean_WT09='0.25', mean_WT10='0.0', mean_WT11='0.0'),\n",
       " Row(MONTH='1', DAY_OF_WEEK='7', NAME='ALBANY INTERNATIONAL', STATION='USW00014735', mean_TAVG='22.25', mean_SNWD='3.525', mean_AWND='9.8975', mean_TMAX='32.0', mean_TMIN='10.75', mean_WDF2='202.5', mean_WDF5='205.0', mean_WSF5='30.75', mean_WSF2='23.55', mean_SNOW='2.6750000000000003', mean_PRCP='0.32', mean_WT01='0.75', mean_WT02='0.25', mean_WT03='0.0', mean_WT04='0.25', mean_WT05='0.0', mean_WT06='0.25', mean_WT07='0.0', mean_WT08='0.0', mean_WT09='0.25', mean_WT10='0.0', mean_WT11='0.0'),\n",
       " Row(MONTH='1', DAY_OF_WEEK='7', NAME='ALBANY INTERNATIONAL', STATION='USW00014735', mean_TAVG='22.25', mean_SNWD='3.525', mean_AWND='9.8975', mean_TMAX='32.0', mean_TMIN='10.75', mean_WDF2='202.5', mean_WDF5='205.0', mean_WSF5='30.75', mean_WSF2='23.55', mean_SNOW='2.6750000000000003', mean_PRCP='0.32', mean_WT01='0.75', mean_WT02='0.25', mean_WT03='0.0', mean_WT04='0.25', mean_WT05='0.0', mean_WT06='0.25', mean_WT07='0.0', mean_WT08='0.0', mean_WT09='0.25', mean_WT10='0.0', mean_WT11='0.0'),\n",
       " Row(MONTH='1', DAY_OF_WEEK='7', NAME='ALBANY INTERNATIONAL', STATION='USW00014735', mean_TAVG='22.25', mean_SNWD='3.525', mean_AWND='9.8975', mean_TMAX='32.0', mean_TMIN='10.75', mean_WDF2='202.5', mean_WDF5='205.0', mean_WSF5='30.75', mean_WSF2='23.55', mean_SNOW='2.6750000000000003', mean_PRCP='0.32', mean_WT01='0.75', mean_WT02='0.25', mean_WT03='0.0', mean_WT04='0.25', mean_WT05='0.0', mean_WT06='0.25', mean_WT07='0.0', mean_WT08='0.0', mean_WT09='0.25', mean_WT10='0.0', mean_WT11='0.0')]"
      ]
     },
     "execution_count": 9,
     "metadata": {},
     "output_type": "execute_result"
    }
   ],
   "source": [
    "#pre kontrolu si zobrazime zaznamy a skontrolujeme ci tieto 4 riadky maju rovnake zaznamy\n",
    "fordays_atlanta = sorted_filtered_avg_weather_df.filter((col('MONTH') == 1) & (col('DAY_OF_WEEK') == 7)& (col('NAME') == 'ALBANY INTERNATIONAL'))\n",
    "\n",
    "\n",
    "# Display the filtered DataFrame\n",
    "fordays_atlanta.take(4)"
   ]
  },
  {
   "cell_type": "code",
   "execution_count": 10,
   "metadata": {
    "ExecuteTime": {
     "end_time": "2024-04-30T18:40:38.518192Z",
     "start_time": "2024-04-30T18:40:38.042503Z"
    },
    "collapsed": false,
    "jupyter": {
     "outputs_hidden": false
    }
   },
   "outputs": [
    {
     "name": "stdout",
     "output_type": "stream",
     "text": [
      "+--------------------+-----+\n",
      "|                NAME|count|\n",
      "+--------------------+-----+\n",
      "|CLEVELAND HOPKINS...|  364|\n",
      "|HOUSTON INTERCONT...|  364|\n",
      "|           LAGUARDIA|  364|\n",
      "| TAMPA INTERNATIONAL|  360|\n",
      "|HONOLULU INTERNAT...|  364|\n",
      "|MCCARRAN INTERNAT...|  365|\n",
      "|SAN ANTONIO INTER...|  364|\n",
      "|SALT LAKE CITY IN...|  365|\n",
      "|AUSTIN BERGSTROM ...|  365|\n",
      "|PORTLAND INTERNAT...|  365|\n",
      "| MIAMI INTERNATIONAL|  365|\n",
      "|KANSAS CITY INTER...|  365|\n",
      "|LOS ANGELES INTER...|  361|\n",
      "|SAN FRANCISCO INT...|  364|\n",
      "|PHILADELPHIA INTE...|  365|\n",
      "|JACKSONVILLE INTE...|  363|\n",
      "|SAN JOSE INTERNAT...|  360|\n",
      "|NASHVILLE INTERNA...|  362|\n",
      "|NEWARK LIBERTY IN...|  364|\n",
      "|WASHINGTON DULLES...|  365|\n",
      "+--------------------+-----+\n",
      "only showing top 20 rows\n",
      "\n"
     ]
    }
   ],
   "source": [
    "#tu mame pre kazdy den jeden zaznam\n",
    "sorted_filtered_avg_weather_df.groupBy('NAME').count().show()\n"
   ]
  },
  {
   "cell_type": "code",
   "execution_count": 11,
   "metadata": {
    "ExecuteTime": {
     "end_time": "2024-04-30T18:40:38.518514Z",
     "start_time": "2024-04-30T18:40:38.461069Z"
    },
    "collapsed": false,
    "jupyter": {
     "outputs_hidden": false
    }
   },
   "outputs": [],
   "source": [
    "#dropneme duplikaty a mali by nam ostat uz len 1/4 zaznamov, ktoré môžeme joinut s datasetom s letmi\n",
    "sorted_filtered_avg_weather_df = sorted_filtered_avg_weather_df.dropDuplicates()"
   ]
  },
  {
   "cell_type": "code",
   "execution_count": 12,
   "metadata": {
    "ExecuteTime": {
     "end_time": "2024-04-30T18:40:39.557864Z",
     "start_time": "2024-04-30T18:40:38.477961Z"
    },
    "collapsed": false,
    "jupyter": {
     "outputs_hidden": false
    }
   },
   "outputs": [
    {
     "name": "stderr",
     "output_type": "stream",
     "text": [
      "[Stage 136:======================================>                  (2 + 1) / 3]\r"
     ]
    },
    {
     "name": "stdout",
     "output_type": "stream",
     "text": [
      "+--------------------+-----+\n",
      "|                NAME|count|\n",
      "+--------------------+-----+\n",
      "|SYRACUSE HANCOCK ...|   84|\n",
      "|CLEVELAND HOPKINS...|   84|\n",
      "|HOUSTON INTERCONT...|   84|\n",
      "|SPOKANE INTERNATI...|   84|\n",
      "|           LAGUARDIA|   84|\n",
      "| TAMPA INTERNATIONAL|   84|\n",
      "|HONOLULU INTERNAT...|   84|\n",
      "|  BOISE AIR TERMINAL|   84|\n",
      "|MCCARRAN INTERNAT...|   84|\n",
      "|NORFOLK INTERNATI...|   84|\n",
      "|SAN ANTONIO INTER...|   84|\n",
      "|SALT LAKE CITY IN...|   84|\n",
      "|RICHMOND INTERNAT...|   84|\n",
      "|ALBUQUERQUE INTER...|   84|\n",
      "|MEMPHIS INTERNATI...|   84|\n",
      "|AUSTIN BERGSTROM ...|   84|\n",
      "|PORTLAND INTERNAT...|   84|\n",
      "| MIAMI INTERNATIONAL|   84|\n",
      "|KANSAS CITY INTER...|   84|\n",
      "|LOS ANGELES INTER...|   84|\n",
      "+--------------------+-----+\n",
      "only showing top 20 rows\n",
      "\n"
     ]
    },
    {
     "name": "stderr",
     "output_type": "stream",
     "text": [
      "                                                                                \r"
     ]
    }
   ],
   "source": [
    "#overenie\n",
    "sorted_filtered_avg_weather_df.groupBy('NAME').count().show()\n"
   ]
  },
  {
   "cell_type": "code",
   "execution_count": 13,
   "metadata": {
    "ExecuteTime": {
     "end_time": "2024-04-30T18:40:39.674431Z",
     "start_time": "2024-04-30T18:40:39.544062Z"
    },
    "collapsed": false,
    "jupyter": {
     "outputs_hidden": false
    }
   },
   "outputs": [],
   "source": [
    "#premenujeme tieto stlpce z dovodu mergovania\n",
    "sorted_filtered_avg_weather_df = sorted_filtered_avg_weather_df.withColumnRenamed('MONTH', 'MONTH_WEATHER')\n",
    "sorted_filtered_avg_weather_df = sorted_filtered_avg_weather_df.withColumnRenamed('DAY_OF_WEEK', 'DAY_OF_WEEK_WEATHER')"
   ]
  },
  {
   "cell_type": "code",
   "execution_count": 14,
   "metadata": {
    "ExecuteTime": {
     "end_time": "2024-04-30T18:40:39.693219Z",
     "start_time": "2024-04-30T18:40:39.569461Z"
    },
    "collapsed": false,
    "jupyter": {
     "outputs_hidden": false
    }
   },
   "outputs": [],
   "source": [
    "# vykoname spojenie datasetov\n",
    "result_df = sorted_filtered_flight_delay_df.alias('a').join(\n",
    "    sorted_filtered_avg_weather_df.alias('b'),\n",
    "    (col('a.DEPARTING_AIRPORT') == col('b.NAME')) &\n",
    "    (col('a.MONTH') == col('b.MONTH_WEATHER')) &\n",
    "    (col('a.DAY_OF_WEEK') == col('b.DAY_OF_WEEK_WEATHER'))  # specify 'a' or 'b' here\n",
    ")"
   ]
  },
  {
   "cell_type": "code",
   "execution_count": 15,
   "metadata": {
    "ExecuteTime": {
     "end_time": "2024-04-30T18:40:41.946852Z",
     "start_time": "2024-04-30T18:40:39.623339Z"
    },
    "collapsed": false,
    "jupyter": {
     "outputs_hidden": false
    }
   },
   "outputs": [
    {
     "name": "stderr",
     "output_type": "stream",
     "text": [
      "                                                                                \r"
     ]
    },
    {
     "data": {
      "text/plain": [
       "2067797"
      ]
     },
     "execution_count": 15,
     "metadata": {},
     "output_type": "execute_result"
    }
   ],
   "source": [
    "result_df.count()\n"
   ]
  },
  {
   "cell_type": "code",
   "execution_count": 16,
   "metadata": {
    "ExecuteTime": {
     "end_time": "2024-04-30T18:40:42.638115Z",
     "start_time": "2024-04-30T18:40:41.943820Z"
    },
    "collapsed": false,
    "jupyter": {
     "outputs_hidden": false
    }
   },
   "outputs": [
    {
     "data": {
      "text/plain": [
       "Row(_c0='5409064', MONTH='11', DAY_OF_WEEK='1', DEP_DEL15='0', DEP_TIME_BLK='1100-1159', DISTANCE_GROUP='4.0', SEGMENT_NUMBER='2', CONCURRENT_FLIGHTS='31', NUMBER_OF_SEATS='181', CARRIER_NAME='Alaska Airlines Inc.', AIRPORT_FLIGHTS_MONTH='17358', AIRLINE_FLIGHTS_MONTH='20832', AIRLINE_AIRPORT_FLIGHTS_MONTH='1558.0', AVG_MONTHLY_PASS_AIRPORT='2780593', AVG_MONTHLY_PASS_AIRLINE='2884187', FLT_ATTENDANTS_PER_PASS='3.233146156611231e-05', GROUND_SERV_PER_PASS='0.0001746014497265', PLANE_AGE='0', DEPARTING_AIRPORT='LOS ANGELES INTERNATIONAL', LATITUDE='33.942', LONGITUDE='-118.408', PREVIOUS_AIRPORT='Logan International', MONTH_WEATHER='11', DAY_OF_WEEK_WEATHER='1', NAME='LOS ANGELES INTERNATIONAL', STATION='USW00023174', mean_TAVG='66.75', mean_SNWD='0.22284840541721268', mean_AWND='6.2625', mean_TMAX='76.5', mean_TMIN='57.0', mean_WDF2='267.5', mean_WDF5='245.0', mean_WSF5='20.35', mean_WSF2='16.5', mean_SNOW='0.0', mean_PRCP='0.0', mean_WT01='0.5', mean_WT02='0.25', mean_WT03='0.0', mean_WT04='0.0', mean_WT05='0.0', mean_WT06='0.0', mean_WT07='0.0', mean_WT08='0.25', mean_WT09='0.0', mean_WT10='0.0', mean_WT11='0.0')"
      ]
     },
     "execution_count": 16,
     "metadata": {},
     "output_type": "execute_result"
    }
   ],
   "source": [
    "result_df.first()\n"
   ]
  },
  {
   "cell_type": "code",
   "execution_count": 17,
   "metadata": {
    "ExecuteTime": {
     "end_time": "2024-04-30T18:40:42.644620Z",
     "start_time": "2024-04-30T18:40:42.634568Z"
    },
    "collapsed": false,
    "jupyter": {
     "outputs_hidden": false
    }
   },
   "outputs": [],
   "source": [
    "#dropneme duplikatne atributy\n",
    "result_df = result_df.drop('NAME', 'MONTH_WEATHER', 'DAY_OF_WEEK_WEATHER','_c0')\n"
   ]
  },
  {
   "cell_type": "code",
   "execution_count": 18,
   "metadata": {
    "ExecuteTime": {
     "end_time": "2024-04-30T18:40:51.249391Z",
     "start_time": "2024-04-30T18:40:42.646434Z"
    },
    "collapsed": false,
    "jupyter": {
     "outputs_hidden": false
    }
   },
   "outputs": [
    {
     "name": "stderr",
     "output_type": "stream",
     "text": [
      "                                                                                \r"
     ]
    }
   ],
   "source": [
    "#ulozime dataset pre dalsiu pracu\n",
    "result_df.write.options(header='True').csv('joined_dataset_final.csv')\n"
   ]
  },
  {
   "cell_type": "code",
   "execution_count": 19,
   "metadata": {
    "ExecuteTime": {
     "end_time": "2024-04-30T18:40:51.478697Z",
     "start_time": "2024-04-30T18:40:51.253290Z"
    },
    "collapsed": false,
    "jupyter": {
     "outputs_hidden": false
    }
   },
   "outputs": [
    {
     "data": {
      "text/plain": [
       "Row(MONTH='11', DAY_OF_WEEK='1', DEP_DEL15='0', DEP_TIME_BLK='1100-1159', DISTANCE_GROUP='4.0', SEGMENT_NUMBER='2', CONCURRENT_FLIGHTS='31', NUMBER_OF_SEATS='181', CARRIER_NAME='Alaska Airlines Inc.', AIRPORT_FLIGHTS_MONTH='17358', AIRLINE_FLIGHTS_MONTH='20832', AIRLINE_AIRPORT_FLIGHTS_MONTH='1558.0', AVG_MONTHLY_PASS_AIRPORT='2780593', AVG_MONTHLY_PASS_AIRLINE='2884187', FLT_ATTENDANTS_PER_PASS='3.233146156611231e-05', GROUND_SERV_PER_PASS='0.0001746014497265', PLANE_AGE='0', DEPARTING_AIRPORT='LOS ANGELES INTERNATIONAL', LATITUDE='33.942', LONGITUDE='-118.408', PREVIOUS_AIRPORT='Logan International', STATION='USW00023174', mean_TAVG='66.75', mean_SNWD='0.22284840541721268', mean_AWND='6.2625', mean_TMAX='76.5', mean_TMIN='57.0', mean_WDF2='267.5', mean_WDF5='245.0', mean_WSF5='20.35', mean_WSF2='16.5', mean_SNOW='0.0', mean_PRCP='0.0', mean_WT01='0.5', mean_WT02='0.25', mean_WT03='0.0', mean_WT04='0.0', mean_WT05='0.0', mean_WT06='0.0', mean_WT07='0.0', mean_WT08='0.25', mean_WT09='0.0', mean_WT10='0.0', mean_WT11='0.0')"
      ]
     },
     "execution_count": 19,
     "metadata": {},
     "output_type": "execute_result"
    }
   ],
   "source": [
    "#restartujeme kernel a nacitame dataset\n",
    "joined_dataset = spark.read.csv('joined_dataset_final.csv', header=True)\n",
    "joined_dataset.first()\n"
   ]
  },
  {
   "cell_type": "markdown",
   "metadata": {
    "ExecuteTime": {
     "end_time": "2024-04-30T18:40:51.487832Z",
     "start_time": "2024-04-30T18:40:51.474763Z"
    },
    "jupyter": {
     "outputs_hidden": false
    }
   },
   "source": [
    "# MODELOVANIE A VIZUALIZÁCIA DÁT"
   ]
  },
  {
   "cell_type": "markdown",
   "metadata": {
    "ExecuteTime": {
     "end_time": "2024-04-30T18:40:51.488126Z",
     "start_time": "2024-04-30T18:40:51.482877Z"
    },
    "jupyter": {
     "outputs_hidden": false
    }
   },
   "source": [
    "#### V nasledujúcej časti si ešte ďalej pripravíme dáta na modelovanie"
   ]
  },
  {
   "cell_type": "code",
   "execution_count": 22,
   "metadata": {
    "ExecuteTime": {
     "end_time": "2024-04-30T18:40:51.593155Z",
     "start_time": "2024-04-30T18:40:51.489070Z"
    },
    "collapsed": false,
    "jupyter": {
     "outputs_hidden": false
    }
   },
   "outputs": [
    {
     "data": {
      "text/plain": [
       "[('MONTH', 'string'),\n",
       " ('DAY_OF_WEEK', 'string'),\n",
       " ('DEP_DEL15', 'string'),\n",
       " ('DEP_TIME_BLK', 'string'),\n",
       " ('DISTANCE_GROUP', 'string'),\n",
       " ('SEGMENT_NUMBER', 'string'),\n",
       " ('CONCURRENT_FLIGHTS', 'string'),\n",
       " ('NUMBER_OF_SEATS', 'string'),\n",
       " ('CARRIER_NAME', 'string'),\n",
       " ('AIRPORT_FLIGHTS_MONTH', 'string'),\n",
       " ('AIRLINE_FLIGHTS_MONTH', 'string'),\n",
       " ('AIRLINE_AIRPORT_FLIGHTS_MONTH', 'string'),\n",
       " ('AVG_MONTHLY_PASS_AIRPORT', 'string'),\n",
       " ('AVG_MONTHLY_PASS_AIRLINE', 'string'),\n",
       " ('FLT_ATTENDANTS_PER_PASS', 'string'),\n",
       " ('GROUND_SERV_PER_PASS', 'string'),\n",
       " ('PLANE_AGE', 'string'),\n",
       " ('DEPARTING_AIRPORT', 'string'),\n",
       " ('LATITUDE', 'string'),\n",
       " ('LONGITUDE', 'string'),\n",
       " ('PREVIOUS_AIRPORT', 'string'),\n",
       " ('STATION', 'string'),\n",
       " ('mean_TAVG', 'string'),\n",
       " ('mean_SNWD', 'string'),\n",
       " ('mean_AWND', 'string'),\n",
       " ('mean_TMAX', 'string'),\n",
       " ('mean_TMIN', 'string'),\n",
       " ('mean_WDF2', 'string'),\n",
       " ('mean_WDF5', 'string'),\n",
       " ('mean_WSF5', 'string'),\n",
       " ('mean_WSF2', 'string'),\n",
       " ('mean_SNOW', 'string'),\n",
       " ('mean_PRCP', 'string'),\n",
       " ('mean_WT01', 'string'),\n",
       " ('mean_WT02', 'string'),\n",
       " ('mean_WT03', 'string'),\n",
       " ('mean_WT04', 'string'),\n",
       " ('mean_WT05', 'string'),\n",
       " ('mean_WT06', 'string'),\n",
       " ('mean_WT07', 'string'),\n",
       " ('mean_WT08', 'string'),\n",
       " ('mean_WT09', 'string'),\n",
       " ('mean_WT10', 'string'),\n",
       " ('mean_WT11', 'string')]"
      ]
     },
     "execution_count": 22,
     "metadata": {},
     "output_type": "execute_result"
    }
   ],
   "source": [
    "joined_dataset.dtypes"
   ]
  },
  {
   "cell_type": "code",
   "execution_count": 23,
   "metadata": {
    "ExecuteTime": {
     "end_time": "2024-04-30T18:40:52.006466Z",
     "start_time": "2024-04-30T18:40:51.506423Z"
    },
    "collapsed": false,
    "jupyter": {
     "outputs_hidden": false
    }
   },
   "outputs": [
    {
     "name": "stdout",
     "output_type": "stream",
     "text": [
      "[('MONTH', 'string'), ('DAY_OF_WEEK', 'string'), ('DEP_DEL15', 'string'), ('DEP_TIME_BLK', 'string'), ('DISTANCE_GROUP', 'int'), ('SEGMENT_NUMBER', 'int'), ('CONCURRENT_FLIGHTS', 'int'), ('NUMBER_OF_SEATS', 'int'), ('CARRIER_NAME', 'string'), ('AIRPORT_FLIGHTS_MONTH', 'int'), ('AIRLINE_FLIGHTS_MONTH', 'int'), ('AIRLINE_AIRPORT_FLIGHTS_MONTH', 'int'), ('AVG_MONTHLY_PASS_AIRPORT', 'int'), ('AVG_MONTHLY_PASS_AIRLINE', 'int'), ('FLT_ATTENDANTS_PER_PASS', 'float'), ('GROUND_SERV_PER_PASS', 'float'), ('PLANE_AGE', 'float'), ('DEPARTING_AIRPORT', 'string'), ('LATITUDE', 'float'), ('LONGITUDE', 'float'), ('PREVIOUS_AIRPORT', 'string'), ('STATION', 'string'), ('mean_TAVG', 'float'), ('mean_SNWD', 'float'), ('mean_AWND', 'float'), ('mean_TMAX', 'float'), ('mean_TMIN', 'float'), ('mean_WDF2', 'float'), ('mean_WDF5', 'float'), ('mean_WSF5', 'float'), ('mean_WSF2', 'float'), ('mean_SNOW', 'float'), ('mean_PRCP', 'float'), ('mean_WT01', 'float'), ('mean_WT02', 'float'), ('mean_WT03', 'float'), ('mean_WT04', 'float'), ('mean_WT05', 'float'), ('mean_WT06', 'float'), ('mean_WT07', 'float'), ('mean_WT08', 'float'), ('mean_WT09', 'float'), ('mean_WT10', 'float'), ('mean_WT11', 'float')]\n"
     ]
    }
   ],
   "source": [
    "\n",
    "# Konverzia datovych typov\n",
    "joined_dataset = joined_dataset.withColumn('CONCURRENT_FLIGHTS', col('CONCURRENT_FLIGHTS').cast('int'))\n",
    "joined_dataset = joined_dataset.withColumn('NUMBER_OF_SEATS', col('NUMBER_OF_SEATS').cast('int'))\n",
    "joined_dataset = joined_dataset.withColumn('DISTANCE_GROUP', col('DISTANCE_GROUP').cast('int'))\n",
    "joined_dataset = joined_dataset.withColumn('SEGMENT_NUMBER', col('SEGMENT_NUMBER').cast('int'))\n",
    "\n",
    "joined_dataset = joined_dataset.withColumn('AIRPORT_FLIGHTS_MONTH', col('AIRPORT_FLIGHTS_MONTH').cast('int'))\n",
    "joined_dataset = joined_dataset.withColumn('AIRLINE_FLIGHTS_MONTH', col('AIRLINE_FLIGHTS_MONTH').cast('int'))\n",
    "joined_dataset = joined_dataset.withColumn('AIRLINE_AIRPORT_FLIGHTS_MONTH', col('AIRLINE_AIRPORT_FLIGHTS_MONTH').cast('int'))\n",
    "joined_dataset = joined_dataset.withColumn('AVG_MONTHLY_PASS_AIRPORT', col('AVG_MONTHLY_PASS_AIRPORT').cast('int'))\n",
    "joined_dataset = joined_dataset.withColumn('AVG_MONTHLY_PASS_AIRLINE', col('AVG_MONTHLY_PASS_AIRLINE').cast('int'))\n",
    "joined_dataset = joined_dataset.withColumn('FLT_ATTENDANTS_PER_PASS', col('FLT_ATTENDANTS_PER_PASS').cast('float'))\n",
    "joined_dataset = joined_dataset.withColumn('GROUND_SERV_PER_PASS', col('GROUND_SERV_PER_PASS').cast('float'))\n",
    "joined_dataset = joined_dataset.withColumn('PLANE_AGE', col('PLANE_AGE').cast('float'))\n",
    "joined_dataset = joined_dataset.withColumn('LATITUDE', col('LATITUDE').cast('float'))\n",
    "joined_dataset = joined_dataset.withColumn('LONGITUDE', col('LONGITUDE').cast('float'))\n",
    "\n",
    "columns_to_convert = ['mean_SNWD', 'mean_TAVG', 'mean_AWND', 'mean_TMAX', 'mean_TMIN', 'mean_WDF2', 'mean_WDF5', 'mean_WSF5', 'mean_WSF2', 'mean_SNOW', 'mean_PRCP', 'mean_WT01', 'mean_WT02', 'mean_WT03', 'mean_WT04', 'mean_WT05', 'mean_WT06', 'mean_WT07', 'mean_WT08', 'mean_WT09', 'mean_WT10', 'mean_WT11']\n",
    "\n",
    "for column in columns_to_convert:\n",
    "    joined_dataset = joined_dataset.withColumn(column, col(column).cast('float'))\n",
    "\n",
    "print(joined_dataset.dtypes)"
   ]
  },
  {
   "cell_type": "code",
   "execution_count": 26,
   "metadata": {
    "ExecuteTime": {
     "end_time": "2024-04-30T19:08:17.068096Z",
     "start_time": "2024-04-30T19:08:16.973936Z"
    },
    "collapsed": false,
    "jupyter": {
     "outputs_hidden": false
    }
   },
   "outputs": [],
   "source": [
    "joined_dataset = joined_dataset.withColumn('DEP_DEL15', col('DEP_DEL15').cast('boolean'))"
   ]
  },
  {
   "cell_type": "code",
   "execution_count": 27,
   "metadata": {
    "ExecuteTime": {
     "end_time": "2024-04-30T19:08:18.342144Z",
     "start_time": "2024-04-30T19:08:18.310468Z"
    },
    "collapsed": false,
    "jupyter": {
     "outputs_hidden": false
    }
   },
   "outputs": [
    {
     "data": {
      "text/plain": [
       "[('MONTH', 'string'),\n",
       " ('DAY_OF_WEEK', 'string'),\n",
       " ('DEP_DEL15', 'boolean'),\n",
       " ('DEP_TIME_BLK', 'string'),\n",
       " ('DISTANCE_GROUP', 'int'),\n",
       " ('SEGMENT_NUMBER', 'int'),\n",
       " ('CONCURRENT_FLIGHTS', 'int'),\n",
       " ('NUMBER_OF_SEATS', 'int'),\n",
       " ('CARRIER_NAME', 'string'),\n",
       " ('AIRPORT_FLIGHTS_MONTH', 'int'),\n",
       " ('AIRLINE_FLIGHTS_MONTH', 'int'),\n",
       " ('AIRLINE_AIRPORT_FLIGHTS_MONTH', 'int'),\n",
       " ('AVG_MONTHLY_PASS_AIRPORT', 'int'),\n",
       " ('AVG_MONTHLY_PASS_AIRLINE', 'int'),\n",
       " ('FLT_ATTENDANTS_PER_PASS', 'float'),\n",
       " ('GROUND_SERV_PER_PASS', 'float'),\n",
       " ('PLANE_AGE', 'float'),\n",
       " ('DEPARTING_AIRPORT', 'string'),\n",
       " ('LATITUDE', 'float'),\n",
       " ('LONGITUDE', 'float'),\n",
       " ('PREVIOUS_AIRPORT', 'string'),\n",
       " ('STATION', 'string'),\n",
       " ('mean_TAVG', 'float'),\n",
       " ('mean_SNWD', 'float'),\n",
       " ('mean_AWND', 'float'),\n",
       " ('mean_TMAX', 'float'),\n",
       " ('mean_TMIN', 'float'),\n",
       " ('mean_WDF2', 'float'),\n",
       " ('mean_WDF5', 'float'),\n",
       " ('mean_WSF5', 'float'),\n",
       " ('mean_WSF2', 'float'),\n",
       " ('mean_SNOW', 'float'),\n",
       " ('mean_PRCP', 'float'),\n",
       " ('mean_WT01', 'float'),\n",
       " ('mean_WT02', 'float'),\n",
       " ('mean_WT03', 'float'),\n",
       " ('mean_WT04', 'float'),\n",
       " ('mean_WT05', 'float'),\n",
       " ('mean_WT06', 'float'),\n",
       " ('mean_WT07', 'float'),\n",
       " ('mean_WT08', 'float'),\n",
       " ('mean_WT09', 'float'),\n",
       " ('mean_WT10', 'float'),\n",
       " ('mean_WT11', 'float')]"
      ]
     },
     "execution_count": 27,
     "metadata": {},
     "output_type": "execute_result"
    }
   ],
   "source": [
    "joined_dataset.dtypes\n"
   ]
  },
  {
   "cell_type": "code",
   "execution_count": 30,
   "metadata": {
    "ExecuteTime": {
     "end_time": "2024-04-30T19:13:11.717990Z",
     "start_time": "2024-04-30T19:13:06.443225Z"
    },
    "collapsed": false,
    "jupyter": {
     "outputs_hidden": false
    }
   },
   "outputs": [
    {
     "name": "stderr",
     "output_type": "stream",
     "text": [
      "[Stage 163:===============================================>       (12 + 2) / 14]\r"
     ]
    },
    {
     "name": "stdout",
     "output_type": "stream",
     "text": [
      "+--------------+\n",
      "|DISTANCE_GROUP|\n",
      "+--------------+\n",
      "|             1|\n",
      "|             6|\n",
      "|             3|\n",
      "|             5|\n",
      "|             9|\n",
      "|             4|\n",
      "|             8|\n",
      "|             7|\n",
      "|            10|\n",
      "|            11|\n",
      "|             2|\n",
      "+--------------+\n",
      "\n"
     ]
    },
    {
     "name": "stderr",
     "output_type": "stream",
     "text": [
      "                                                                                \r"
     ]
    }
   ],
   "source": [
    "#zobrazime si unikatne hodnoty atributu DISTANCE_GROUP\n",
    "unique_values = joined_dataset.select('DISTANCE_GROUP').distinct()\n",
    "unique_values.show()"
   ]
  },
  {
   "cell_type": "code",
   "execution_count": 32,
   "metadata": {
    "ExecuteTime": {
     "end_time": "2024-04-30T19:43:57.949992Z",
     "start_time": "2024-04-30T19:43:57.828694Z"
    },
    "collapsed": false,
    "jupyter": {
     "outputs_hidden": false
    }
   },
   "outputs": [],
   "source": [
    "#aplikujeme binning na atribut DISTANCE_GROUP\n",
    "joined_dataset = joined_dataset.withColumn('DISTANCE_GROUP',\n",
    "                                           when(col('DISTANCE_GROUP') <= 5, 'Short')\n",
    "                                           .otherwise('Long'))"
   ]
  },
  {
   "cell_type": "code",
   "execution_count": 33,
   "metadata": {
    "ExecuteTime": {
     "end_time": "2024-04-30T19:44:13.561869Z",
     "start_time": "2024-04-30T19:43:59.027329Z"
    },
    "collapsed": false,
    "jupyter": {
     "outputs_hidden": false
    }
   },
   "outputs": [
    {
     "name": "stderr",
     "output_type": "stream",
     "text": [
      "                                                                                \r"
     ]
    },
    {
     "data": {
      "image/png": "[encoded data removed]",
      "text/plain": [
       "<Figure size 640x480 with 1 Axes>"
      ]
     },
     "metadata": {},
     "output_type": "display_data"
    }
   ],
   "source": [
    "#zobrazime si histogram pre atribut DISTANCE_GROUP s rozdelovacim atributom DEP_DEL15\n",
    "data_target_0 = joined_dataset.filter(col('DEP_DEL15') == 0).select('DISTANCE_GROUP').rdd.flatMap(lambda x: x).collect()\n",
    "data_target_1 = joined_dataset.filter(col('DEP_DEL15') == 1).select('DISTANCE_GROUP').rdd.flatMap(lambda x: x).collect()\n",
    "\n",
    "plt.hist([data_target_0, data_target_1], bins=2, stacked=True, color=['blue', 'red'], edgecolor='black')\n",
    "plt.title('Histogram of DISTANCE_GROUP with Target Value')\n",
    "plt.xlabel('DISTANCE_GROUP')\n",
    "plt.ylabel('Frequency')\n",
    "plt.legend(['DEP_DEL15 = 0', 'DEP_DEL15 = 1'])\n",
    "plt.show()"
   ]
  },
  {
   "cell_type": "code",
   "execution_count": null,
   "metadata": {
    "collapsed": false,
    "jupyter": {
     "outputs_hidden": false
    }
   },
   "outputs": [],
   "source": [
    "#unikatne hodnoty pre atribut SEGMENT_NUMBER\n",
    "unique_values = joined_dataset.select('SEGMENT_NUMBER').distinct()\n",
    "unique_values.show()"
   ]
  },
  {
   "cell_type": "code",
   "execution_count": 34,
   "metadata": {
    "ExecuteTime": {
     "end_time": "2024-04-30T19:46:33.407558Z",
     "start_time": "2024-04-30T19:46:25.726621Z"
    },
    "collapsed": false,
    "jupyter": {
     "outputs_hidden": false
    }
   },
   "outputs": [
    {
     "name": "stderr",
     "output_type": "stream",
     "text": [
      "                                                                                \r"
     ]
    },
    {
     "data": {
      "image/png": "[encoded data removed]",
      "text/plain": [
       "<Figure size 640x480 with 1 Axes>"
      ]
     },
     "metadata": {},
     "output_type": "display_data"
    }
   ],
   "source": [
    "#histogram pre atribut segment number s rozdelovacim atributom DEP_DEL15\n",
    "data_target_0 = joined_dataset.filter(col('DEP_DEL15') == 0).select('SEGMENT_NUMBER').rdd.flatMap(lambda x: x).collect()\n",
    "data_target_1 = joined_dataset.filter(col('DEP_DEL15') == 1).select('SEGMENT_NUMBER').rdd.flatMap(lambda x: x).collect()\n",
    "\n",
    "plt.hist([data_target_0, data_target_1], bins=14, stacked=True, color=['blue', 'red'], edgecolor='black')\n",
    "plt.title('Histogram of SEGMENT_NUMBER with Target Value')\n",
    "plt.xlabel('SEGMENT_NUMBER')\n",
    "plt.ylabel('Frequency')\n",
    "plt.legend(['DEP_DEL15 = 0', 'DEP_DEL15 = 1'])\n",
    "plt.show()"
   ]
  },
  {
   "cell_type": "code",
   "execution_count": 35,
   "metadata": {
    "ExecuteTime": {
     "end_time": "2024-04-30T19:47:06.871886Z",
     "start_time": "2024-04-30T19:47:01.522656Z"
    },
    "collapsed": false,
    "jupyter": {
     "outputs_hidden": false
    }
   },
   "outputs": [
    {
     "name": "stderr",
     "output_type": "stream",
     "text": [
      "[Stage 172:===============================================>       (12 + 2) / 14]\r"
     ]
    },
    {
     "name": "stdout",
     "output_type": "stream",
     "text": [
      "+---------+------+\n",
      "|PLANE_AGE| count|\n",
      "+---------+------+\n",
      "|      0.0| 33723|\n",
      "|      1.0| 96320|\n",
      "|      2.0|114840|\n",
      "|      3.0|130812|\n",
      "|      4.0|117722|\n",
      "|      5.0|129297|\n",
      "|      6.0| 75848|\n",
      "|      7.0| 53096|\n",
      "|      8.0| 41892|\n",
      "|      9.0| 44308|\n",
      "|     10.0| 52851|\n",
      "|     11.0|164246|\n",
      "|     12.0| 82950|\n",
      "|     13.0| 86574|\n",
      "|     14.0| 87432|\n",
      "|     15.0| 97818|\n",
      "|     16.0| 75067|\n",
      "|     17.0| 91375|\n",
      "|     18.0|137850|\n",
      "|     19.0|100191|\n",
      "+---------+------+\n",
      "only showing top 20 rows\n",
      "\n"
     ]
    },
    {
     "name": "stderr",
     "output_type": "stream",
     "text": [
      "                                                                                \r"
     ]
    }
   ],
   "source": [
    "#unikatne hodnoty pre atribut plane age\n",
    "plane_age_counts = joined_dataset.groupBy('PLANE_AGE').count().orderBy('PLANE_AGE')\n",
    "\n",
    "plane_age_counts.show()"
   ]
  },
  {
   "cell_type": "markdown",
   "metadata": {},
   "source": [
    "# TRANSFORMÁCIA Z NUMERICKÝCH ATRIBÚTOV NA KATEGORICKÉ"
   ]
  },
  {
   "cell_type": "code",
   "execution_count": 36,
   "metadata": {
    "ExecuteTime": {
     "end_time": "2024-04-30T20:03:40.254552Z",
     "start_time": "2024-04-30T20:03:40.101919Z"
    },
    "collapsed": false,
    "jupyter": {
     "outputs_hidden": false
    }
   },
   "outputs": [],
   "source": [
    "#vykoname binning pre atribut plane age\n",
    "joined_dataset = joined_dataset.withColumn('PLANE_AGE',\n",
    "                                           when(col('PLANE_AGE') < 5, 'New')\n",
    "                                           .when((col('PLANE_AGE') >= 5) & (col('PLANE_AGE') < 16), 'Young')\n",
    "                                           .when((col('PLANE_AGE') >= 16) & (col('PLANE_AGE') < 26), 'Middle-aged')\n",
    "                                           .otherwise('Old'))"
   ]
  },
  {
   "cell_type": "code",
   "execution_count": 37,
   "metadata": {
    "ExecuteTime": {
     "end_time": "2024-04-30T20:04:23.479104Z",
     "start_time": "2024-04-30T20:04:08.855209Z"
    },
    "collapsed": false,
    "jupyter": {
     "outputs_hidden": false
    }
   },
   "outputs": [
    {
     "name": "stderr",
     "output_type": "stream",
     "text": [
      "                                                                                \r"
     ]
    },
    {
     "data": {
      "image/png": "[encoded data removed]",
      "text/plain": [
       "<Figure size 640x480 with 1 Axes>"
      ]
     },
     "metadata": {},
     "output_type": "display_data"
    }
   ],
   "source": [
    "#histogram pre atribut plane age s rozdelovacim atributom DEP_DEL15\n",
    "data_target_0 = joined_dataset.filter(col('DEP_DEL15') == 0).select('PLANE_AGE').rdd.flatMap(lambda x: x).collect()\n",
    "data_target_1 = joined_dataset.filter(col('DEP_DEL15') == 1).select('PLANE_AGE').rdd.flatMap(lambda x: x).collect()\n",
    "\n",
    "plt.hist([data_target_0, data_target_1], bins=4, stacked=True, color=['blue', 'red'], edgecolor='black')\n",
    "plt.title('Histogram of PLANE_AGE with Target Value')\n",
    "plt.xlabel('PLANE_AGE')\n",
    "plt.ylabel('Frequency')\n",
    "plt.legend(['DEP_DEL15 = 0', 'DEP_DEL15 = 1'])\n",
    "plt.show()"
   ]
  },
  {
   "cell_type": "code",
   "execution_count": 38,
   "metadata": {
    "ExecuteTime": {
     "end_time": "2024-04-30T20:05:44.690044Z",
     "start_time": "2024-04-30T20:05:44.509508Z"
    },
    "collapsed": false,
    "jupyter": {
     "outputs_hidden": false
    }
   },
   "outputs": [],
   "source": [
    "# binning pre atribut number of seats - prevedieme ho na plane size a dropneme numberofseats\n",
    "joined_dataset = joined_dataset.withColumn('PLANE_SIZE',\n",
    "                                           when(col('NUMBER_OF_SEATS') <= 100, 'SMALL')\n",
    "                                           .when((col('NUMBER_OF_SEATS') > 100) & (col('NUMBER_OF_SEATS') <= 200), 'MEDIUM')\n",
    "                                           .otherwise('LARGE'))\n",
    "joined_dataset = joined_dataset.drop('NUMBER_OF_SEATS')"
   ]
  },
  {
   "cell_type": "code",
   "execution_count": 39,
   "metadata": {
    "ExecuteTime": {
     "end_time": "2024-04-30T20:16:28.684645Z",
     "start_time": "2024-04-30T20:16:10.938564Z"
    },
    "collapsed": false,
    "jupyter": {
     "outputs_hidden": false
    }
   },
   "outputs": [
    {
     "name": "stderr",
     "output_type": "stream",
     "text": [
      "                                                                                \r"
     ]
    },
    {
     "data": {
      "image/png": "[encoded data removed]",
      "text/plain": [
       "<Figure size 640x480 with 1 Axes>"
      ]
     },
     "metadata": {},
     "output_type": "display_data"
    }
   ],
   "source": [
    "# histogram pre Plane size\n",
    "data_target_0 = joined_dataset.filter(col('DEP_DEL15') == 0).select('PLANE_SIZE').rdd.flatMap(lambda x: x).collect()\n",
    "data_target_1 = joined_dataset.filter(col('DEP_DEL15') == 1).select('PLANE_SIZE').rdd.flatMap(lambda x: x).collect()\n",
    "\n",
    "plt.hist([data_target_0, data_target_1], bins=3, stacked=True, color=['blue', 'red'], edgecolor='black')\n",
    "plt.title('Histogram of PLANE_SIZE with Target Value')\n",
    "plt.xlabel('PLANE_SIZE')\n",
    "plt.ylabel('Frequency')\n",
    "plt.legend(['DEP_DEL15 = 0', 'DEP_DEL15 = 1'])\n",
    "plt.show()"
   ]
  },
  {
   "cell_type": "markdown",
   "metadata": {},
   "source": [
    "# ZÁKLADNÉ ŠTATISTIKY PRE NUMERICKÉ ATRIBÚTY"
   ]
  },
  {
   "cell_type": "code",
   "execution_count": 40,
   "metadata": {
    "ExecuteTime": {
     "end_time": "2024-04-30T20:18:08.002998Z",
     "start_time": "2024-04-30T20:16:59.396996Z"
    },
    "collapsed": false,
    "jupyter": {
     "outputs_hidden": false
    }
   },
   "outputs": [
    {
     "name": "stderr",
     "output_type": "stream",
     "text": [
      "                                                                                \r"
     ]
    },
    {
     "name": "stdout",
     "output_type": "stream",
     "text": [
      "+-------+------------------+\n",
      "|summary|    SEGMENT_NUMBER|\n",
      "+-------+------------------+\n",
      "|  count|           2067797|\n",
      "|   mean|2.9429866664861204|\n",
      "| stddev|1.7066717954460542|\n",
      "|    min|                 1|\n",
      "|    max|                14|\n",
      "+-------+------------------+\n",
      "\n"
     ]
    },
    {
     "name": "stderr",
     "output_type": "stream",
     "text": [
      "                                                                                \r"
     ]
    },
    {
     "name": "stdout",
     "output_type": "stream",
     "text": [
      "+-------+------------------+\n",
      "|summary|CONCURRENT_FLIGHTS|\n",
      "+-------+------------------+\n",
      "|  count|           2067797|\n",
      "|   mean|22.493251997173804|\n",
      "| stddev| 12.88884209300727|\n",
      "|    min|                 1|\n",
      "|    max|                66|\n",
      "+-------+------------------+\n",
      "\n"
     ]
    },
    {
     "name": "stderr",
     "output_type": "stream",
     "text": [
      "                                                                                \r"
     ]
    },
    {
     "name": "stdout",
     "output_type": "stream",
     "text": [
      "+-------+---------------------+\n",
      "|summary|AIRPORT_FLIGHTS_MONTH|\n",
      "+-------+---------------------+\n",
      "|  count|              2067797|\n",
      "|   mean|   10207.306574097942|\n",
      "| stddev|    4846.174055981782|\n",
      "|    min|                 1105|\n",
      "|    max|                19667|\n",
      "+-------+---------------------+\n",
      "\n"
     ]
    },
    {
     "name": "stderr",
     "output_type": "stream",
     "text": [
      "                                                                                \r"
     ]
    },
    {
     "name": "stdout",
     "output_type": "stream",
     "text": [
      "+-------+---------------------+\n",
      "|summary|AIRLINE_FLIGHTS_MONTH|\n",
      "+-------+---------------------+\n",
      "|  count|              2067797|\n",
      "|   mean|    61387.19118849674|\n",
      "| stddev|    34179.38367883243|\n",
      "|    min|                 5582|\n",
      "|    max|               117728|\n",
      "+-------+---------------------+\n",
      "\n"
     ]
    },
    {
     "name": "stderr",
     "output_type": "stream",
     "text": [
      "                                                                                \r"
     ]
    },
    {
     "name": "stdout",
     "output_type": "stream",
     "text": [
      "+-------+-----------------------------+\n",
      "|summary|AIRLINE_AIRPORT_FLIGHTS_MONTH|\n",
      "+-------+-----------------------------+\n",
      "|  count|                      2067797|\n",
      "|   mean|           2114.7967121530787|\n",
      "| stddev|            1607.764097150521|\n",
      "|    min|                            1|\n",
      "|    max|                         6234|\n",
      "+-------+-----------------------------+\n",
      "\n"
     ]
    },
    {
     "name": "stderr",
     "output_type": "stream",
     "text": [
      "                                                                                \r"
     ]
    },
    {
     "name": "stdout",
     "output_type": "stream",
     "text": [
      "+-------+------------------------+\n",
      "|summary|AVG_MONTHLY_PASS_AIRPORT|\n",
      "+-------+------------------------+\n",
      "|  count|                 2067797|\n",
      "|   mean|      1357804.4627195029|\n",
      "| stddev|       714999.1924115292|\n",
      "|    min|                  105972|\n",
      "|    max|                 2780593|\n",
      "+-------+------------------------+\n",
      "\n"
     ]
    },
    {
     "name": "stderr",
     "output_type": "stream",
     "text": [
      "                                                                                \r"
     ]
    },
    {
     "name": "stdout",
     "output_type": "stream",
     "text": [
      "+-------+------------------------+\n",
      "|summary|AVG_MONTHLY_PASS_AIRLINE|\n",
      "+-------+------------------------+\n",
      "|  count|                 2067797|\n",
      "|   mean|       7742474.528022335|\n",
      "| stddev|        4901027.35546546|\n",
      "|    min|                  473794|\n",
      "|    max|                13382999|\n",
      "+-------+------------------------+\n",
      "\n"
     ]
    },
    {
     "name": "stderr",
     "output_type": "stream",
     "text": [
      "                                                                                \r"
     ]
    },
    {
     "name": "stdout",
     "output_type": "stream",
     "text": [
      "+-------+-----------------------+\n",
      "|summary|FLT_ATTENDANTS_PER_PASS|\n",
      "+-------+-----------------------+\n",
      "|  count|                2067797|\n",
      "|   mean|   1.002748937222938...|\n",
      "| stddev|    8.72649038815402E-5|\n",
      "|    min|                    0.0|\n",
      "|    max|           3.4840766E-4|\n",
      "+-------+-----------------------+\n",
      "\n"
     ]
    },
    {
     "name": "stderr",
     "output_type": "stream",
     "text": [
      "                                                                                \r"
     ]
    },
    {
     "name": "stdout",
     "output_type": "stream",
     "text": [
      "+-------+--------------------+\n",
      "|summary|GROUND_SERV_PER_PASS|\n",
      "+-------+--------------------+\n",
      "|  count|             2067797|\n",
      "|   mean|1.425178883263404...|\n",
      "| stddev|5.153126966878823...|\n",
      "|    min|         7.134695E-6|\n",
      "|    max|        2.2898547E-4|\n",
      "+-------+--------------------+\n",
      "\n"
     ]
    },
    {
     "name": "stderr",
     "output_type": "stream",
     "text": [
      "                                                                                \r"
     ]
    },
    {
     "name": "stdout",
     "output_type": "stream",
     "text": [
      "+-------+------------------+\n",
      "|summary|          LATITUDE|\n",
      "+-------+------------------+\n",
      "|  count|           2067797|\n",
      "|   mean|35.422613559181684|\n",
      "| stddev|5.3652914584670315|\n",
      "|    min|            21.319|\n",
      "|    max|             47.62|\n",
      "+-------+------------------+\n",
      "\n"
     ]
    },
    {
     "name": "stderr",
     "output_type": "stream",
     "text": [
      "                                                                                \r"
     ]
    },
    {
     "name": "stdout",
     "output_type": "stream",
     "text": [
      "+-------+------------------+\n",
      "|summary|         LONGITUDE|\n",
      "+-------+------------------+\n",
      "|  count|           2067797|\n",
      "|   mean| -97.3901030650353|\n",
      "| stddev|20.008050767221498|\n",
      "|    min|          -157.922|\n",
      "|    max|           -73.805|\n",
      "+-------+------------------+\n",
      "\n"
     ]
    },
    {
     "name": "stderr",
     "output_type": "stream",
     "text": [
      "                                                                                \r"
     ]
    },
    {
     "name": "stdout",
     "output_type": "stream",
     "text": [
      "+-------+------------------+\n",
      "|summary|         mean_TAVG|\n",
      "+-------+------------------+\n",
      "|  count|           2067797|\n",
      "|   mean| 63.58433522395056|\n",
      "| stddev|14.931458926903046|\n",
      "|    min|             21.75|\n",
      "|    max|              96.0|\n",
      "+-------+------------------+\n",
      "\n"
     ]
    },
    {
     "name": "stderr",
     "output_type": "stream",
     "text": [
      "                                                                                \r"
     ]
    },
    {
     "name": "stdout",
     "output_type": "stream",
     "text": [
      "+-------+------------------+\n",
      "|summary|         mean_SNWD|\n",
      "+-------+------------------+\n",
      "|  count|           2067797|\n",
      "|   mean|0.1184257181657991|\n",
      "| stddev|0.3297344627948895|\n",
      "|    min|               0.0|\n",
      "|    max|              3.78|\n",
      "+-------+------------------+\n",
      "\n"
     ]
    },
    {
     "name": "stderr",
     "output_type": "stream",
     "text": [
      "                                                                                \r"
     ]
    },
    {
     "name": "stdout",
     "output_type": "stream",
     "text": [
      "+-------+-----------------+\n",
      "|summary|        mean_AWND|\n",
      "+-------+-----------------+\n",
      "|  count|          2067797|\n",
      "|   mean|8.293304673235781|\n",
      "| stddev|2.271047780324123|\n",
      "|    min|           2.6275|\n",
      "|    max|           17.615|\n",
      "+-------+-----------------+\n",
      "\n"
     ]
    },
    {
     "name": "stderr",
     "output_type": "stream",
     "text": [
      "                                                                                \r"
     ]
    },
    {
     "name": "stdout",
     "output_type": "stream",
     "text": [
      "+-------+------------------+\n",
      "|summary|         mean_TMAX|\n",
      "+-------+------------------+\n",
      "|  count|           2067797|\n",
      "|   mean| 72.91238625593164|\n",
      "| stddev|15.807541146608045|\n",
      "|    min|              26.8|\n",
      "|    max|            108.25|\n",
      "+-------+------------------+\n",
      "\n"
     ]
    },
    {
     "name": "stderr",
     "output_type": "stream",
     "text": [
      "                                                                                \r"
     ]
    },
    {
     "name": "stdout",
     "output_type": "stream",
     "text": [
      "+-------+------------------+\n",
      "|summary|         mean_TMIN|\n",
      "+-------+------------------+\n",
      "|  count|           2067797|\n",
      "|   mean| 55.12788008810622|\n",
      "| stddev|14.809936558465226|\n",
      "|    min|              14.5|\n",
      "|    max|              84.4|\n",
      "+-------+------------------+\n",
      "\n"
     ]
    },
    {
     "name": "stderr",
     "output_type": "stream",
     "text": [
      "                                                                                \r"
     ]
    },
    {
     "name": "stdout",
     "output_type": "stream",
     "text": [
      "+-------+------------------+\n",
      "|summary|         mean_WDF2|\n",
      "+-------+------------------+\n",
      "|  count|           2067797|\n",
      "|   mean|203.88946230811092|\n",
      "| stddev|60.208216680057966|\n",
      "|    min|              35.0|\n",
      "|    max|             342.5|\n",
      "+-------+------------------+\n",
      "\n"
     ]
    },
    {
     "name": "stderr",
     "output_type": "stream",
     "text": [
      "                                                                                \r"
     ]
    },
    {
     "name": "stdout",
     "output_type": "stream",
     "text": [
      "+-------+------------------+\n",
      "|summary|         mean_WDF5|\n",
      "+-------+------------------+\n",
      "|  count|           2067797|\n",
      "|   mean|203.88540006182447|\n",
      "| stddev| 60.24006856389594|\n",
      "|    min|              42.5|\n",
      "|    max|             350.0|\n",
      "+-------+------------------+\n",
      "\n"
     ]
    },
    {
     "name": "stderr",
     "output_type": "stream",
     "text": [
      "                                                                                \r"
     ]
    },
    {
     "name": "stdout",
     "output_type": "stream",
     "text": [
      "+-------+------------------+\n",
      "|summary|         mean_WSF5|\n",
      "+-------+------------------+\n",
      "|  count|           2067797|\n",
      "|   mean|25.009051758196943|\n",
      "| stddev| 4.640427214304968|\n",
      "|    min|            10.825|\n",
      "|    max|              46.8|\n",
      "+-------+------------------+\n",
      "\n"
     ]
    },
    {
     "name": "stderr",
     "output_type": "stream",
     "text": [
      "                                                                                \r"
     ]
    },
    {
     "name": "stdout",
     "output_type": "stream",
     "text": [
      "+-------+------------------+\n",
      "|summary|         mean_WSF2|\n",
      "+-------+------------------+\n",
      "|  count|           2067797|\n",
      "|   mean|19.277724494709346|\n",
      "| stddev| 3.615060720055884|\n",
      "|    min|             9.425|\n",
      "|    max|            35.775|\n",
      "+-------+------------------+\n",
      "\n"
     ]
    },
    {
     "name": "stderr",
     "output_type": "stream",
     "text": [
      "                                                                                \r"
     ]
    },
    {
     "name": "stdout",
     "output_type": "stream",
     "text": [
      "+-------+-------------------+\n",
      "|summary|          mean_SNOW|\n",
      "+-------+-------------------+\n",
      "|  count|            2067797|\n",
      "|   mean|0.02126037750644542|\n",
      "| stddev| 0.1155600725352196|\n",
      "|    min|                0.0|\n",
      "|    max|              2.175|\n",
      "+-------+-------------------+\n",
      "\n"
     ]
    },
    {
     "name": "stderr",
     "output_type": "stream",
     "text": [
      "                                                                                \r"
     ]
    },
    {
     "name": "stdout",
     "output_type": "stream",
     "text": [
      "+-------+-------------------+\n",
      "|summary|          mean_PRCP|\n",
      "+-------+-------------------+\n",
      "|  count|            2067797|\n",
      "|   mean|0.10223433218577824|\n",
      "| stddev|0.16834283201945388|\n",
      "|    min|                0.0|\n",
      "|    max|              2.315|\n",
      "+-------+-------------------+\n",
      "\n"
     ]
    },
    {
     "name": "stderr",
     "output_type": "stream",
     "text": [
      "                                                                                \r"
     ]
    },
    {
     "name": "stdout",
     "output_type": "stream",
     "text": [
      "+-------+-------------------+\n",
      "|summary|          mean_WT01|\n",
      "+-------+-------------------+\n",
      "|  count|            2067797|\n",
      "|   mean|0.32875438099551835|\n",
      "| stddev| 0.2627474899589411|\n",
      "|    min|                0.0|\n",
      "|    max|                1.0|\n",
      "+-------+-------------------+\n",
      "\n"
     ]
    },
    {
     "name": "stderr",
     "output_type": "stream",
     "text": [
      "                                                                                \r"
     ]
    },
    {
     "name": "stdout",
     "output_type": "stream",
     "text": [
      "+-------+-------------------+\n",
      "|summary|          mean_WT02|\n",
      "+-------+-------------------+\n",
      "|  count|            2067797|\n",
      "|   mean|0.03196039084990115|\n",
      "| stddev|0.09014421515394043|\n",
      "|    min|                0.0|\n",
      "|    max|               0.75|\n",
      "+-------+-------------------+\n",
      "\n"
     ]
    },
    {
     "name": "stderr",
     "output_type": "stream",
     "text": [
      "                                                                                \r"
     ]
    },
    {
     "name": "stdout",
     "output_type": "stream",
     "text": [
      "+-------+-------------------+\n",
      "|summary|          mean_WT03|\n",
      "+-------+-------------------+\n",
      "|  count|            2067797|\n",
      "|   mean|0.11519897832922245|\n",
      "| stddev|0.19984751772307632|\n",
      "|    min|                0.0|\n",
      "|    max|                1.0|\n",
      "+-------+-------------------+\n",
      "\n"
     ]
    },
    {
     "name": "stderr",
     "output_type": "stream",
     "text": [
      "                                                                                \r"
     ]
    },
    {
     "name": "stdout",
     "output_type": "stream",
     "text": [
      "+-------+--------------------+\n",
      "|summary|           mean_WT04|\n",
      "+-------+--------------------+\n",
      "|  count|             2067797|\n",
      "|   mean|0.005336669932798075|\n",
      "| stddev|0.035800685660511145|\n",
      "|    min|                 0.0|\n",
      "|    max|                 0.5|\n",
      "+-------+--------------------+\n",
      "\n"
     ]
    },
    {
     "name": "stderr",
     "output_type": "stream",
     "text": [
      "                                                                                \r"
     ]
    },
    {
     "name": "stdout",
     "output_type": "stream",
     "text": [
      "+-------+--------------------+\n",
      "|summary|           mean_WT05|\n",
      "+-------+--------------------+\n",
      "|  count|             2067797|\n",
      "|   mean|0.002333763917737...|\n",
      "| stddev|0.023499434169223114|\n",
      "|    min|                 0.0|\n",
      "|    max|                 0.5|\n",
      "+-------+--------------------+\n",
      "\n"
     ]
    },
    {
     "name": "stderr",
     "output_type": "stream",
     "text": [
      "                                                                                \r"
     ]
    },
    {
     "name": "stdout",
     "output_type": "stream",
     "text": [
      "+-------+--------------------+\n",
      "|summary|           mean_WT06|\n",
      "+-------+--------------------+\n",
      "|  count|             2067797|\n",
      "|   mean|0.005114887994355791|\n",
      "| stddev|0.040137959087038426|\n",
      "|    min|                 0.0|\n",
      "|    max|                0.75|\n",
      "+-------+--------------------+\n",
      "\n"
     ]
    },
    {
     "name": "stderr",
     "output_type": "stream",
     "text": [
      "                                                                                \r"
     ]
    },
    {
     "name": "stdout",
     "output_type": "stream",
     "text": [
      "+-------+--------------------+\n",
      "|summary|           mean_WT07|\n",
      "+-------+--------------------+\n",
      "|  count|             2067797|\n",
      "|   mean|3.715790301940392...|\n",
      "| stddev| 0.00978471180223809|\n",
      "|    min|                 0.0|\n",
      "|    max|                 0.5|\n",
      "+-------+--------------------+\n",
      "\n"
     ]
    },
    {
     "name": "stderr",
     "output_type": "stream",
     "text": [
      "                                                                                \r"
     ]
    },
    {
     "name": "stdout",
     "output_type": "stream",
     "text": [
      "+-------+-------------------+\n",
      "|summary|          mean_WT08|\n",
      "+-------+-------------------+\n",
      "|  count|            2067797|\n",
      "|   mean|0.14452097352461232|\n",
      "| stddev|0.20937174735292086|\n",
      "|    min|                0.0|\n",
      "|    max|                1.0|\n",
      "+-------+-------------------+\n",
      "\n"
     ]
    },
    {
     "name": "stderr",
     "output_type": "stream",
     "text": [
      "                                                                                \r"
     ]
    },
    {
     "name": "stdout",
     "output_type": "stream",
     "text": [
      "+-------+--------------------+\n",
      "|summary|           mean_WT09|\n",
      "+-------+--------------------+\n",
      "|  count|             2067797|\n",
      "|   mean|0.002136597558718...|\n",
      "| stddev| 0.02397164611112354|\n",
      "|    min|                 0.0|\n",
      "|    max|                 0.5|\n",
      "+-------+--------------------+\n",
      "\n"
     ]
    },
    {
     "name": "stderr",
     "output_type": "stream",
     "text": [
      "                                                                                \r"
     ]
    },
    {
     "name": "stdout",
     "output_type": "stream",
     "text": [
      "+-------+---------+\n",
      "|summary|mean_WT10|\n",
      "+-------+---------+\n",
      "|  count|  2067797|\n",
      "|   mean|      0.0|\n",
      "| stddev|      0.0|\n",
      "|    min|      0.0|\n",
      "|    max|      0.0|\n",
      "+-------+---------+\n",
      "\n"
     ]
    },
    {
     "name": "stderr",
     "output_type": "stream",
     "text": [
      "[Stage 275:===============================================>       (12 + 2) / 14]\r"
     ]
    },
    {
     "name": "stdout",
     "output_type": "stream",
     "text": [
      "+-------+---------+\n",
      "|summary|mean_WT11|\n",
      "+-------+---------+\n",
      "|  count|  2067797|\n",
      "|   mean|      0.0|\n",
      "| stddev|      0.0|\n",
      "|    min|      0.0|\n",
      "|    max|      0.0|\n",
      "+-------+---------+\n",
      "\n"
     ]
    },
    {
     "name": "stderr",
     "output_type": "stream",
     "text": [
      "                                                                                \r"
     ]
    }
   ],
   "source": [
    "#zakladne informacie o kazdom numerickom atribute\n",
    "column_data_types = joined_dataset.dtypes\n",
    "\n",
    "numerical_columns = [column for column, dtype in column_data_types if dtype in ['int', 'float']]\n",
    "\n",
    "for column in numerical_columns:\n",
    "    joined_dataset.describe(column).show()"
   ]
  },
  {
   "cell_type": "code",
   "execution_count": 41,
   "metadata": {
    "ExecuteTime": {
     "end_time": "2024-04-30T20:18:24.633909Z",
     "start_time": "2024-04-30T20:18:20.195601Z"
    },
    "collapsed": false,
    "jupyter": {
     "outputs_hidden": false
    }
   },
   "outputs": [
    {
     "name": "stderr",
     "output_type": "stream",
     "text": [
      "[Stage 278:===================================================>   (13 + 1) / 14]\r"
     ]
    },
    {
     "name": "stdout",
     "output_type": "stream",
     "text": [
      "+---------+-------+\n",
      "|DEP_DEL15|  count|\n",
      "+---------+-------+\n",
      "|     true| 408262|\n",
      "|    false|1659535|\n",
      "+---------+-------+\n",
      "\n"
     ]
    },
    {
     "name": "stderr",
     "output_type": "stream",
     "text": [
      "                                                                                \r"
     ]
    }
   ],
   "source": [
    "#rozdelenie target atributu\n",
    "rows_count = joined_dataset.groupBy('DEP_DEL15').count()\n",
    "rows_count.show()"
   ]
  },
  {
   "cell_type": "markdown",
   "metadata": {},
   "source": [
    "# HISTOGRAMY"
   ]
  },
  {
   "cell_type": "code",
   "execution_count": 42,
   "metadata": {
    "ExecuteTime": {
     "end_time": "2024-04-30T20:19:52.077346Z",
     "start_time": "2024-04-30T20:19:41.366946Z"
    },
    "collapsed": false,
    "jupyter": {
     "outputs_hidden": false
    }
   },
   "outputs": [
    {
     "name": "stderr",
     "output_type": "stream",
     "text": [
      "                                                                                \r"
     ]
    },
    {
     "data": {
      "image/png": "[encoded data removed]",
      "text/plain": [
       "<Figure size 640x480 with 1 Axes>"
      ]
     },
     "metadata": {},
     "output_type": "display_data"
    }
   ],
   "source": [
    "#histogram pre atribut MONTH\n",
    "data_target_0 = joined_dataset.filter(col('DEP_DEL15') == 0).select('MONTH').rdd.flatMap(lambda x: x).collect()\n",
    "data_target_1 = joined_dataset.filter(col('DEP_DEL15') == 1).select('MONTH').rdd.flatMap(lambda x: x).collect()\n",
    "\n",
    "plt.hist([data_target_0, data_target_1], bins=12, stacked=True, color=['blue', 'red'], edgecolor='black')\n",
    "plt.title('Histogram of MONTH with Target Value')\n",
    "plt.xlabel('MONTH')\n",
    "plt.ylabel('Frequency')\n",
    "plt.legend(['DEP_DEL15 = 0', 'DEP_DEL15 = 1'])\n",
    "plt.show()"
   ]
  },
  {
   "cell_type": "code",
   "execution_count": 43,
   "metadata": {
    "ExecuteTime": {
     "end_time": "2024-04-30T20:32:16.053427Z",
     "start_time": "2024-04-30T20:31:57.829456Z"
    },
    "collapsed": false,
    "jupyter": {
     "outputs_hidden": false
    }
   },
   "outputs": [
    {
     "name": "stderr",
     "output_type": "stream",
     "text": [
      "                                                                                \r"
     ]
    },
    {
     "data": {
      "image/png": "[encoded data removed]",
      "text/plain": [
       "<Figure size 640x480 with 1 Axes>"
      ]
     },
     "metadata": {},
     "output_type": "display_data"
    }
   ],
   "source": [
    "#histogram pre atribut DAY_OF_WEEK\n",
    "data_target_0 = joined_dataset.filter(col('DEP_DEL15') == 0).select('DAY_OF_WEEK').rdd.flatMap(lambda x: x).collect()\n",
    "data_target_1 = joined_dataset.filter(col('DEP_DEL15') == 1).select('DAY_OF_WEEK').rdd.flatMap(lambda x: x).collect()\n",
    "\n",
    "plt.hist([data_target_0, data_target_1], bins=7, stacked=True, color=['blue', 'red'], edgecolor='black')\n",
    "plt.title('Histogram of DAY_OF_WEEK with Target Value')\n",
    "plt.xlabel('DAY_OF_WEEK')\n",
    "plt.ylabel('Frequency')\n",
    "plt.legend(['DEP_DEL15 = 0', 'DEP_DEL15 = 1'])\n",
    "plt.show()"
   ]
  },
  {
   "cell_type": "code",
   "execution_count": 44,
   "metadata": {
    "ExecuteTime": {
     "end_time": "2024-04-30T20:32:29.395137Z",
     "start_time": "2024-04-30T20:32:20.293245Z"
    },
    "collapsed": false,
    "jupyter": {
     "outputs_hidden": false
    }
   },
   "outputs": [
    {
     "name": "stderr",
     "output_type": "stream",
     "text": [
      "                                                                                \r"
     ]
    },
    {
     "data": {
      "image/png": "[encoded data removed]",
      "text/plain": [
       "<Figure size 640x480 with 1 Axes>"
      ]
     },
     "metadata": {},
     "output_type": "display_data"
    }
   ],
   "source": [
    "#histogram pre atribut COnCURRENT_FLIGHTS\n",
    "data_target_0 = joined_dataset.filter(col('DEP_DEL15') == 0).select('CONCURRENT_FLIGHTS').rdd.flatMap(lambda x: x).collect()\n",
    "data_target_1 = joined_dataset.filter(col('DEP_DEL15') == 1).select('CONCURRENT_FLIGHTS').rdd.flatMap(lambda x: x).collect()\n",
    "\n",
    "plt.hist([data_target_0, data_target_1], bins=60, stacked=True, color=['blue', 'red'], edgecolor='black')\n",
    "plt.title('Histogram of CONCURRENT_FLIGHTS with Target Value')\n",
    "plt.xlabel('CONCURRENT_FLIGHTS')\n",
    "plt.ylabel('Frequency')\n",
    "plt.legend(['DEP_DEL15 = 0', 'DEP_DEL15 = 1'])\n",
    "plt.show()"
   ]
  },
  {
   "cell_type": "markdown",
   "metadata": {},
   "source": [
    "# SAMPLING"
   ]
  },
  {
   "cell_type": "code",
   "execution_count": 46,
   "metadata": {
    "ExecuteTime": {
     "end_time": "2024-04-30T20:54:33.257509Z",
     "start_time": "2024-04-30T20:54:24.680803Z"
    },
    "collapsed": false,
    "jupyter": {
     "outputs_hidden": false
    }
   },
   "outputs": [
    {
     "name": "stderr",
     "output_type": "stream",
     "text": [
      "[Stage 296:===============================================>       (12 + 2) / 14]\r"
     ]
    },
    {
     "name": "stdout",
     "output_type": "stream",
     "text": [
      "+---------+------+\n",
      "|DEP_DEL15| count|\n",
      "+---------+------+\n",
      "|        1| 40486|\n",
      "|        0|165616|\n",
      "+---------+------+\n",
      "\n"
     ]
    },
    {
     "name": "stderr",
     "output_type": "stream",
     "text": [
      "                                                                                \r"
     ]
    }
   ],
   "source": [
    "#vytvorenie 10%vzorky z povodneho datasetu na modelovacie ucely\n",
    "joined_dataset = joined_dataset.withColumn('DEP_DEL15', col('DEP_DEL15').cast('int'))\n",
    "\n",
    "unique_values = joined_dataset.select('DEP_DEL15').distinct().rdd.flatMap(lambda x: x).collect()\n",
    "\n",
    "fractions = {value: 0.1 for value in unique_values}\n",
    "\n",
    "sampled_data = joined_dataset.sampleBy('DEP_DEL15', fractions)\n",
    "\n",
    "sampled_data.groupBy('DEP_DEL15').count().show()"
   ]
  },
  {
   "cell_type": "code",
   "execution_count": 48,
   "metadata": {
    "ExecuteTime": {
     "end_time": "2024-04-30T20:54:46.813237Z",
     "start_time": "2024-04-30T20:54:43.013664Z"
    },
    "collapsed": false,
    "jupyter": {
     "outputs_hidden": false
    }
   },
   "outputs": [
    {
     "name": "stderr",
     "output_type": "stream",
     "text": [
      "[Stage 299:===============================================>       (12 + 2) / 14]\r"
     ]
    },
    {
     "name": "stdout",
     "output_type": "stream",
     "text": [
      "+-----+-----+\n",
      "|MONTH|count|\n",
      "+-----+-----+\n",
      "|    7|18099|\n",
      "|   11|17062|\n",
      "|    3|17754|\n",
      "|    8|18773|\n",
      "|    5|17333|\n",
      "|    6|17623|\n",
      "|    9|16078|\n",
      "|    1|16301|\n",
      "|   10|17381|\n",
      "|    4|16701|\n",
      "|   12|17764|\n",
      "|    2|15233|\n",
      "+-----+-----+\n",
      "\n"
     ]
    },
    {
     "name": "stderr",
     "output_type": "stream",
     "text": [
      "                                                                                \r"
     ]
    }
   ],
   "source": [
    "#rozlozenie mesiacov v datasete\n",
    "month_counts = sampled_data.groupBy('MONTH').count()\n",
    "month_counts.show()"
   ]
  },
  {
   "cell_type": "code",
   "execution_count": 49,
   "metadata": {
    "ExecuteTime": {
     "end_time": "2024-04-30T20:55:13.480142Z",
     "start_time": "2024-04-30T20:55:09.889704Z"
    },
    "collapsed": false,
    "jupyter": {
     "outputs_hidden": false
    }
   },
   "outputs": [
    {
     "name": "stderr",
     "output_type": "stream",
     "text": [
      "[Stage 302:===================================================>   (13 + 1) / 14]\r"
     ]
    },
    {
     "name": "stdout",
     "output_type": "stream",
     "text": [
      "+-----------+-----+\n",
      "|DAY_OF_WEEK|count|\n",
      "+-----------+-----+\n",
      "|          7|29553|\n",
      "|          3|29575|\n",
      "|          5|30546|\n",
      "|          6|25237|\n",
      "|          1|30826|\n",
      "|          4|30578|\n",
      "|          2|29787|\n",
      "+-----------+-----+\n",
      "\n"
     ]
    },
    {
     "name": "stderr",
     "output_type": "stream",
     "text": [
      "                                                                                \r"
     ]
    }
   ],
   "source": [
    "#rozlozenie dni v datasete\n",
    "days_counts = sampled_data.groupBy('DAY_OF_WEEK').count()\n",
    "days_counts.show()"
   ]
  },
  {
   "cell_type": "code",
   "execution_count": 51,
   "metadata": {
    "ExecuteTime": {
     "end_time": "2024-04-30T21:06:37.023490Z",
     "start_time": "2024-04-30T21:06:01.767704Z"
    },
    "collapsed": false,
    "jupyter": {
     "outputs_hidden": false
    }
   },
   "outputs": [
    {
     "name": "stderr",
     "output_type": "stream",
     "text": [
      "                                                                                \r"
     ]
    }
   ],
   "source": [
    "#one hot encoding kategorickych atriburov\n",
    "columns_to_encode = ['MONTH', 'DAY_OF_WEEK', 'DEP_TIME_BLK', 'DISTANCE_GROUP', 'CARRIER_NAME', 'PLANE_AGE', 'DEPARTING_AIRPORT', 'PREVIOUS_AIRPORT', 'STATION', 'PLANE_SIZE']\n",
    "\n",
    "for column in columns_to_encode:\n",
    "    indexer = StringIndexer(inputCol=column, outputCol=column + \"_index\")\n",
    "\n",
    "    sampled_data = indexer.fit(sampled_data).transform(sampled_data)\n",
    "\n",
    "    encoder = OneHotEncoder(inputCols=[column + \"_index\"], outputCols=[column + \"_vec\"])\n",
    "\n",
    "    model = encoder.fit(sampled_data)\n",
    "\n",
    "    sampled_data = model.transform(sampled_data)"
   ]
  },
  {
   "cell_type": "code",
   "execution_count": 52,
   "metadata": {
    "ExecuteTime": {
     "end_time": "2024-04-30T21:06:37.692752Z",
     "start_time": "2024-04-30T21:06:37.016527Z"
    },
    "collapsed": false,
    "jupyter": {
     "outputs_hidden": false
    }
   },
   "outputs": [],
   "source": [
    "#dropneme uz nepotrebne stplce, ktore sme uz zakodovli\n",
    "columns_to_drop = ['MONTH', 'DAY_OF_WEEK', 'DEP_TIME_BLK', 'DISTANCE_GROUP', 'CARRIER_NAME', 'PLANE_AGE', 'DEPARTING_AIRPORT', 'PREVIOUS_AIRPORT', 'STATION', 'PLANE_SIZE', 'MONTH_index', 'DAY_OF_WEEK_index', 'DEP_TIME_BLK_index', 'DISTANCE_GROUP_index', 'CARRIER_NAME_index', 'PLANE_AGE_index', 'DEPARTING_AIRPORT_index', 'PREVIOUS_AIRPORT_index', 'STATION_index', 'PLANE_SIZE_index']\n",
    "\n",
    "for column in columns_to_drop:\n",
    "    sampled_data = sampled_data.drop(column)"
   ]
  },
  {
   "cell_type": "code",
   "execution_count": 53,
   "metadata": {
    "ExecuteTime": {
     "end_time": "2024-04-30T21:07:02.212989Z",
     "start_time": "2024-04-30T21:07:00.150145Z"
    },
    "collapsed": false,
    "jupyter": {
     "outputs_hidden": false
    }
   },
   "outputs": [
    {
     "name": "stderr",
     "output_type": "stream",
     "text": [
      "                                                                                \r"
     ]
    },
    {
     "data": {
      "text/plain": [
       "[Row(DEP_DEL15=0, SEGMENT_NUMBER=3, CONCURRENT_FLIGHTS=30, AIRPORT_FLIGHTS_MONTH=17615, AIRLINE_FLIGHTS_MONTH=21620, AIRLINE_AIRPORT_FLIGHTS_MONTH=1655, AVG_MONTHLY_PASS_AIRPORT=2780593, AVG_MONTHLY_PASS_AIRLINE=2884187, FLT_ATTENDANTS_PER_PASS=3.23314598063007e-05, GROUND_SERV_PER_PASS=0.00017460144590586424, LATITUDE=33.94200134277344, LONGITUDE=-118.40799713134766, mean_TAVG=73.25, mean_SNWD=0.0014358499320223927, mean_AWND=7.769999980926514, mean_TMAX=80.25, mean_TMIN=65.75, mean_WDF2=257.5, mean_WDF5=265.0, mean_WSF5=22.75, mean_WSF2=18.575000762939453, mean_SNOW=0.0, mean_PRCP=0.0, mean_WT01=0.0, mean_WT02=0.0, mean_WT03=0.0, mean_WT04=0.0, mean_WT05=0.0, mean_WT06=0.0, mean_WT07=0.0, mean_WT08=0.0, mean_WT09=0.0, mean_WT10=0.0, mean_WT11=0.0, MONTH_vec=SparseVector(11, {10: 1.0}), DAY_OF_WEEK_vec=SparseVector(6, {}), DEP_TIME_BLK_vec=SparseVector(18, {11: 1.0}), DISTANCE_GROUP_vec=SparseVector(1, {0: 1.0}), CARRIER_NAME_vec=SparseVector(16, {6: 1.0}), PLANE_AGE_vec=SparseVector(3, {2: 1.0}), DEPARTING_AIRPORT_vec=SparseVector(29, {0: 1.0}), PREVIOUS_AIRPORT_vec=SparseVector(249, {31: 1.0}), STATION_vec=SparseVector(29, {0: 1.0}), PLANE_SIZE_vec=SparseVector(2, {0: 1.0})),\n",
       " Row(DEP_DEL15=0, SEGMENT_NUMBER=2, CONCURRENT_FLIGHTS=33, AIRPORT_FLIGHTS_MONTH=19609, AIRLINE_FLIGHTS_MONTH=24460, AIRLINE_AIRPORT_FLIGHTS_MONTH=1816, AVG_MONTHLY_PASS_AIRPORT=2780593, AVG_MONTHLY_PASS_AIRLINE=2884187, FLT_ATTENDANTS_PER_PASS=3.23314598063007e-05, GROUND_SERV_PER_PASS=0.00017460144590586424, LATITUDE=33.94200134277344, LONGITUDE=-118.40799713134766, mean_TAVG=69.5, mean_SNWD=0.0, mean_AWND=7.607500076293945, mean_TMAX=75.5, mean_TMIN=64.75, mean_WDF2=262.5, mean_WDF5=252.5, mean_WSF5=22.225000381469727, mean_WSF2=17.274999618530273, mean_SNOW=0.0, mean_PRCP=0.0, mean_WT01=0.25, mean_WT02=0.25, mean_WT03=0.0, mean_WT04=0.0, mean_WT05=0.0, mean_WT06=0.0, mean_WT07=0.0, mean_WT08=0.5, mean_WT09=0.0, mean_WT10=0.0, mean_WT11=0.0, MONTH_vec=SparseVector(11, {0: 1.0}), DAY_OF_WEEK_vec=SparseVector(6, {3: 1.0}), DEP_TIME_BLK_vec=SparseVector(18, {11: 1.0}), DISTANCE_GROUP_vec=SparseVector(1, {0: 1.0}), CARRIER_NAME_vec=SparseVector(16, {6: 1.0}), PLANE_AGE_vec=SparseVector(3, {2: 1.0}), DEPARTING_AIRPORT_vec=SparseVector(29, {0: 1.0}), PREVIOUS_AIRPORT_vec=SparseVector(249, {14: 1.0}), STATION_vec=SparseVector(29, {0: 1.0}), PLANE_SIZE_vec=SparseVector(2, {0: 1.0})),\n",
       " Row(DEP_DEL15=0, SEGMENT_NUMBER=2, CONCURRENT_FLIGHTS=32, AIRPORT_FLIGHTS_MONTH=18013, AIRLINE_FLIGHTS_MONTH=53980, AIRLINE_AIRPORT_FLIGHTS_MONTH=2299, AVG_MONTHLY_PASS_AIRPORT=2780593, AVG_MONTHLY_PASS_AIRLINE=8501631, FLT_ATTENDANTS_PER_PASS=0.0002538042317610234, GROUND_SERV_PER_PASS=0.00022898547467775643, LATITUDE=33.94200134277344, LONGITUDE=-118.40799713134766, mean_TAVG=61.25, mean_SNWD=0.0037087290547788143, mean_AWND=8.725000381469727, mean_TMAX=66.75, mean_TMIN=57.5, mean_WDF2=260.0, mean_WDF5=257.5, mean_WSF5=25.700000762939453, mean_WSF2=19.524999618530273, mean_SNOW=0.0, mean_PRCP=0.0, mean_WT01=0.0, mean_WT02=0.0, mean_WT03=0.0, mean_WT04=0.0, mean_WT05=0.0, mean_WT06=0.0, mean_WT07=0.0, mean_WT08=0.25, mean_WT09=0.0, mean_WT10=0.0, mean_WT11=0.0, MONTH_vec=SparseVector(11, {6: 1.0}), DAY_OF_WEEK_vec=SparseVector(6, {3: 1.0}), DEP_TIME_BLK_vec=SparseVector(18, {9: 1.0}), DISTANCE_GROUP_vec=SparseVector(1, {}), CARRIER_NAME_vec=SparseVector(16, {1: 1.0}), PLANE_AGE_vec=SparseVector(3, {2: 1.0}), DEPARTING_AIRPORT_vec=SparseVector(29, {0: 1.0}), PREVIOUS_AIRPORT_vec=SparseVector(249, {13: 1.0}), STATION_vec=SparseVector(29, {0: 1.0}), PLANE_SIZE_vec=SparseVector(2, {})),\n",
       " Row(DEP_DEL15=1, SEGMENT_NUMBER=2, CONCURRENT_FLIGHTS=31, AIRPORT_FLIGHTS_MONTH=18105, AIRLINE_FLIGHTS_MONTH=54923, AIRLINE_AIRPORT_FLIGHTS_MONTH=2328, AVG_MONTHLY_PASS_AIRPORT=2780593, AVG_MONTHLY_PASS_AIRLINE=8501631, FLT_ATTENDANTS_PER_PASS=0.0002538042317610234, GROUND_SERV_PER_PASS=0.00022898547467775643, LATITUDE=33.94200134277344, LONGITUDE=-118.40799713134766, mean_TAVG=68.25, mean_SNWD=0.026030465960502625, mean_AWND=6.320000171661377, mean_TMAX=77.25, mean_TMIN=59.5, mean_WDF2=240.0, mean_WDF5=225.0, mean_WSF5=22.174999237060547, mean_WSF2=16.549999237060547, mean_SNOW=0.0, mean_PRCP=0.0, mean_WT01=0.25, mean_WT02=0.0, mean_WT03=0.0, mean_WT04=0.0, mean_WT05=0.0, mean_WT06=0.0, mean_WT07=0.0, mean_WT08=0.25, mean_WT09=0.0, mean_WT10=0.0, mean_WT11=0.0, MONTH_vec=SparseVector(11, {5: 1.0}), DAY_OF_WEEK_vec=SparseVector(6, {5: 1.0}), DEP_TIME_BLK_vec=SparseVector(18, {15: 1.0}), DISTANCE_GROUP_vec=SparseVector(1, {}), CARRIER_NAME_vec=SparseVector(16, {1: 1.0}), PLANE_AGE_vec=SparseVector(3, {2: 1.0}), DEPARTING_AIRPORT_vec=SparseVector(29, {0: 1.0}), PREVIOUS_AIRPORT_vec=SparseVector(249, {17: 1.0}), STATION_vec=SparseVector(29, {0: 1.0}), PLANE_SIZE_vec=SparseVector(2, {})),\n",
       " Row(DEP_DEL15=0, SEGMENT_NUMBER=2, CONCURRENT_FLIGHTS=33, AIRPORT_FLIGHTS_MONTH=19609, AIRLINE_FLIGHTS_MONTH=55706, AIRLINE_AIRPORT_FLIGHTS_MONTH=2571, AVG_MONTHLY_PASS_AIRPORT=2780593, AVG_MONTHLY_PASS_AIRLINE=8501631, FLT_ATTENDANTS_PER_PASS=0.0002538042317610234, GROUND_SERV_PER_PASS=0.00022898547467775643, LATITUDE=33.94200134277344, LONGITUDE=-118.40799713134766, mean_TAVG=69.0, mean_SNWD=0.0, mean_AWND=7.607500076293945, mean_TMAX=76.5, mean_TMIN=64.75, mean_WDF2=267.5, mean_WDF5=275.0, mean_WSF5=22.549999237060547, mean_WSF2=18.0, mean_SNOW=0.0, mean_PRCP=0.0, mean_WT01=0.5, mean_WT02=0.0, mean_WT03=0.0, mean_WT04=0.0, mean_WT05=0.0, mean_WT06=0.0, mean_WT07=0.0, mean_WT08=0.25, mean_WT09=0.0, mean_WT10=0.0, mean_WT11=0.0, MONTH_vec=SparseVector(11, {0: 1.0}), DAY_OF_WEEK_vec=SparseVector(6, {0: 1.0}), DEP_TIME_BLK_vec=SparseVector(18, {15: 1.0}), DISTANCE_GROUP_vec=SparseVector(1, {}), CARRIER_NAME_vec=SparseVector(16, {1: 1.0}), PLANE_AGE_vec=SparseVector(3, {2: 1.0}), DEPARTING_AIRPORT_vec=SparseVector(29, {0: 1.0}), PREVIOUS_AIRPORT_vec=SparseVector(249, {17: 1.0}), STATION_vec=SparseVector(29, {0: 1.0}), PLANE_SIZE_vec=SparseVector(2, {}))]"
      ]
     },
     "execution_count": 53,
     "metadata": {},
     "output_type": "execute_result"
    }
   ],
   "source": [
    "sampled_data.take(5)\n"
   ]
  },
  {
   "cell_type": "code",
   "execution_count": 54,
   "metadata": {
    "ExecuteTime": {
     "end_time": "2024-04-30T21:08:13.902084Z",
     "start_time": "2024-04-30T21:08:13.699585Z"
    },
    "collapsed": false,
    "jupyter": {
     "outputs_hidden": false
    }
   },
   "outputs": [
    {
     "name": "stdout",
     "output_type": "stream",
     "text": [
      "['SEGMENT_NUMBER', 'CONCURRENT_FLIGHTS', 'AIRPORT_FLIGHTS_MONTH', 'AIRLINE_FLIGHTS_MONTH', 'AIRLINE_AIRPORT_FLIGHTS_MONTH', 'AVG_MONTHLY_PASS_AIRPORT', 'AVG_MONTHLY_PASS_AIRLINE', 'FLT_ATTENDANTS_PER_PASS', 'GROUND_SERV_PER_PASS', 'LATITUDE', 'LONGITUDE', 'mean_TAVG', 'mean_SNWD', 'mean_AWND', 'mean_TMAX', 'mean_TMIN', 'mean_WDF2', 'mean_WDF5', 'mean_WSF5', 'mean_WSF2', 'mean_SNOW', 'mean_PRCP', 'mean_WT01', 'mean_WT02', 'mean_WT03', 'mean_WT04', 'mean_WT05', 'mean_WT06', 'mean_WT07', 'mean_WT08', 'mean_WT09', 'mean_WT10', 'mean_WT11', 'MONTH_vec', 'DAY_OF_WEEK_vec', 'DEP_TIME_BLK_vec', 'DISTANCE_GROUP_vec', 'CARRIER_NAME_vec', 'PLANE_AGE_vec', 'DEPARTING_AIRPORT_vec', 'PREVIOUS_AIRPORT_vec', 'STATION_vec', 'PLANE_SIZE_vec']\n"
     ]
    }
   ],
   "source": [
    "#zvektorizujeme vstupne atributy okrem targetu\n",
    "columns = sampled_data.columns\n",
    "columns.remove('DEP_DEL15')\n",
    "print(columns)\n",
    "vecAssembler = VectorAssembler(inputCols=columns, outputCol=\"features\")\n",
    "vector_data = vecAssembler.transform(sampled_data)"
   ]
  },
  {
   "cell_type": "markdown",
   "metadata": {},
   "source": [
    "# Rozdelenie datasetu na trénovaciu a testovaciu množinu"
   ]
  },
  {
   "cell_type": "code",
   "execution_count": 55,
   "metadata": {
    "ExecuteTime": {
     "end_time": "2024-04-30T21:10:15.430682Z",
     "start_time": "2024-04-30T21:09:57.589495Z"
    },
    "collapsed": false,
    "jupyter": {
     "outputs_hidden": false
    }
   },
   "outputs": [
    {
     "name": "stderr",
     "output_type": "stream",
     "text": [
      "                                                                                \r"
     ]
    },
    {
     "name": "stdout",
     "output_type": "stream",
     "text": [
      "Train data count: 123612\n"
     ]
    },
    {
     "name": "stderr",
     "output_type": "stream",
     "text": [
      "[Stage 339:===================================================>   (13 + 1) / 14]\r"
     ]
    },
    {
     "name": "stdout",
     "output_type": "stream",
     "text": [
      "Test data count: 82490\n"
     ]
    },
    {
     "name": "stderr",
     "output_type": "stream",
     "text": [
      "                                                                                \r"
     ]
    }
   ],
   "source": [
    "#train test split\n",
    "train_data, test_data = vector_data.randomSplit([0.6, 0.4],seed=1234)\n",
    "\n",
    "print(\"Train data count:\", train_data.count())\n",
    "print(\"Test data count:\", test_data.count())"
   ]
  },
  {
   "cell_type": "code",
   "execution_count": null,
   "metadata": {
    "collapsed": false,
    "jupyter": {
     "outputs_hidden": false
    }
   },
   "outputs": [],
   "source": [
    "#distribucia target atributu v train a test sete\n",
    "train_distribution = train_data.groupBy('DEP_DEL15').count()\n",
    "print(\"Training data distribution:\")\n",
    "train_distribution.show()\n",
    "\n",
    "test_distribution = test_data.groupBy('DEP_DEL15').count()\n",
    "print(\"Testing data distribution:\")\n",
    "test_distribution.show()"
   ]
  },
  {
   "cell_type": "code",
   "execution_count": 56,
   "metadata": {
    "ExecuteTime": {
     "end_time": "2024-04-30T21:11:00.615336Z",
     "start_time": "2024-04-30T21:10:49.392898Z"
    },
    "collapsed": false,
    "jupyter": {
     "outputs_hidden": false
    }
   },
   "outputs": [
    {
     "name": "stderr",
     "output_type": "stream",
     "text": [
      "[Stage 342:===================================================>   (13 + 1) / 14]\r"
     ]
    },
    {
     "name": "stdout",
     "output_type": "stream",
     "text": [
      "+---------+-----+\n",
      "|DEP_DEL15|count|\n",
      "+---------+-----+\n",
      "|        1|24253|\n",
      "|        0|39847|\n",
      "+---------+-----+\n",
      "\n"
     ]
    },
    {
     "name": "stderr",
     "output_type": "stream",
     "text": [
      "                                                                                \r"
     ]
    }
   ],
   "source": [
    "#undersampling majoritnej triedy v trenovacej sade\n",
    "majority_class_fraction = 0.4\n",
    "fractions = {0: majority_class_fraction, 1: 1}\n",
    "\n",
    "undersampled_data = train_data.sampleBy(\"DEP_DEL15\", fractions)\n",
    "\n",
    "undersampled_data.groupBy('DEP_DEL15').count().show()"
   ]
  },
  {
   "cell_type": "markdown",
   "metadata": {
    "jupyter": {
     "outputs_hidden": false
    }
   },
   "source": [
    "# MODELOVANIE\n",
    "### Decision Tree Model\n",
    "#### Natrénovanie klasifikačného modelu na trénovacej množine a jeho evaluáciu na testovacej množine."
   ]
  },
  {
   "cell_type": "code",
   "execution_count": 58,
   "metadata": {
    "ExecuteTime": {
     "end_time": "2024-04-30T21:18:07.345506Z",
     "start_time": "2024-04-30T21:17:07.859783Z"
    },
    "collapsed": false,
    "jupyter": {
     "outputs_hidden": false
    }
   },
   "outputs": [
    {
     "name": "stderr",
     "output_type": "stream",
     "text": [
      "24/04/30 21:18:01 WARN DAGScheduler: Broadcasting large task binary with size 1111.7 KiB\n",
      "24/04/30 21:18:02 WARN DAGScheduler: Broadcasting large task binary with size 1271.2 KiB\n",
      "24/04/30 21:18:02 WARN DAGScheduler: Broadcasting large task binary with size 1442.6 KiB\n",
      "24/04/30 21:18:03 WARN DAGScheduler: Broadcasting large task binary with size 1625.1 KiB\n",
      "24/04/30 21:18:05 WARN DAGScheduler: Broadcasting large task binary with size 1817.7 KiB\n",
      "24/04/30 21:18:06 WARN DAGScheduler: Broadcasting large task binary with size 2018.1 KiB\n",
      "                                                                                \r"
     ]
    }
   ],
   "source": [
    "from pyspark.ml.classification import DecisionTreeClassifier, DecisionTreeClassificationModel\n",
    "\n",
    "tree_classifier = DecisionTreeClassifier(\n",
    "        featuresCol=\"features\",                 # dátový stĺpec obsahujúci vektor vstupných atribútov\n",
    "        labelCol=\"DEP_DEL15\",           # dátový stĺpec obsahujúci cieľový atribút (indexy tried)\n",
    "        impurity=\"entropy\",                     # pre výber atribútov pri delení sa použije kritérium informačného zisku\n",
    "        maxDepth=20)                             # ohraničíme maximálnu hĺbku generovaného stromu\n",
    "\n",
    "# klasifikačný model vytvoríme volaním funkcie ‘fit’ na trénovacích dátach\n",
    "tree_model = tree_classifier.fit(undersampled_data)"
   ]
  },
  {
   "cell_type": "code",
   "execution_count": 59,
   "metadata": {
    "ExecuteTime": {
     "end_time": "2024-04-30T21:18:19.573405Z",
     "start_time": "2024-04-30T21:18:07.344273Z"
    },
    "collapsed": false,
    "jupyter": {
     "outputs_hidden": false
    }
   },
   "outputs": [
    {
     "name": "stderr",
     "output_type": "stream",
     "text": [
      "24/04/30 21:18:08 WARN DAGScheduler: Broadcasting large task binary with size 1491.6 KiB\n",
      "[Stage 401:===================================================>   (13 + 1) / 14]\r"
     ]
    },
    {
     "name": "stdout",
     "output_type": "stream",
     "text": [
      "Testing error: 0.3272\n"
     ]
    },
    {
     "name": "stderr",
     "output_type": "stream",
     "text": [
      "                                                                                \r"
     ]
    }
   ],
   "source": [
    "# presnosť klasifikácie vyhodnotíme na testovacích dátach pomocou funkcie ‘transform’\n",
    "# po klasifikácii sa do dátového rámca pridajú nové stĺpce, ktoré obsahujú predikovanú triedu a pravdepodobnosti\n",
    "predictions = tree_model.transform(test_data)\n",
    "# predikovaná trieda je uložená v stĺpci ‘prediction’, spočítame počet chybne klasifikovaných príkladov\n",
    "# pri ktorých sa ‘prediction’ nerovná cieľovému atribútu ‘attack_type_index’\n",
    "test_error = predictions.filter(predictions[\"prediction\"] != predictions[\"DEP_DEL15\"]).count() / float(test_data.count())\n",
    "print(\"Testing error: {0:.4f}\".format(test_error))"
   ]
  },
  {
   "cell_type": "markdown",
   "metadata": {},
   "source": [
    "### Vyhodnotenie modelu použitím kontigenčnej tabuľky a vypočítaním metrík presnosti, návratnosti, F1 a MCC (Matthews Correlation Coefficient)"
   ]
  },
  {
   "cell_type": "code",
   "execution_count": 60,
   "metadata": {
    "ExecuteTime": {
     "end_time": "2024-04-30T21:19:44.329976Z",
     "start_time": "2024-04-30T21:19:04.973418Z"
    },
    "collapsed": false,
    "jupyter": {
     "outputs_hidden": false
    }
   },
   "outputs": [
    {
     "name": "stderr",
     "output_type": "stream",
     "text": [
      "24/04/30 21:19:06 WARN DAGScheduler: Broadcasting large task binary with size 1491.5 KiB\n",
      "24/04/30 21:19:16 WARN DAGScheduler: Broadcasting large task binary with size 1491.5 KiB\n",
      "24/04/30 21:19:25 WARN DAGScheduler: Broadcasting large task binary with size 1491.5 KiB\n",
      "24/04/30 21:19:35 WARN DAGScheduler: Broadcasting large task binary with size 1491.5 KiB\n",
      "[Stage 413:===================================================>   (13 + 1) / 14]\r"
     ]
    },
    {
     "name": "stdout",
     "output_type": "stream",
     "text": [
      "True Positives: 6336\n",
      "False Positives: 17095\n",
      "True Negatives: 49162\n",
      "False Negatives: 9897\n"
     ]
    },
    {
     "name": "stderr",
     "output_type": "stream",
     "text": [
      "                                                                                \r"
     ]
    }
   ],
   "source": [
    "#vypocitanie confusion matrix\n",
    "condition_tp = (col(\"DEP_DEL15\") == 1) & (col(\"prediction\") == 1)\n",
    "condition_fp = (col(\"DEP_DEL15\") == 0) & (col(\"prediction\") == 1)\n",
    "condition_tn = (col(\"DEP_DEL15\") == 0) & (col(\"prediction\") == 0)\n",
    "condition_fn = (col(\"DEP_DEL15\") == 1) & (col(\"prediction\") == 0)\n",
    "\n",
    "predictions = predictions.withColumn(\"TP\", when(condition_tp, 1).otherwise(0))\n",
    "predictions = predictions.withColumn(\"FP\", when(condition_fp, 1).otherwise(0))\n",
    "predictions = predictions.withColumn(\"TN\", when(condition_tn, 1).otherwise(0))\n",
    "predictions = predictions.withColumn(\"FN\", when(condition_fn, 1).otherwise(0))\n",
    "\n",
    "TP_count = predictions.filter(col(\"TP\") == 1).count()\n",
    "FP_count = predictions.filter(col(\"FP\") == 1).count()\n",
    "TN_count = predictions.filter(col(\"TN\") == 1).count()\n",
    "FN_count = predictions.filter(col(\"FN\") == 1).count()\n",
    "\n",
    "print(\"True Positives:\", TP_count)\n",
    "print(\"False Positives:\", FP_count)\n",
    "print(\"True Negatives:\", TN_count)\n",
    "print(\"False Negatives:\", FN_count)"
   ]
  },
  {
   "cell_type": "code",
   "execution_count": 61,
   "metadata": {
    "ExecuteTime": {
     "end_time": "2024-04-30T21:19:59.925748Z",
     "start_time": "2024-04-30T21:19:59.711854Z"
    },
    "collapsed": false,
    "jupyter": {
     "outputs_hidden": false
    }
   },
   "outputs": [
    {
     "name": "stdout",
     "output_type": "stream",
     "text": [
      "Precision: 0.2704109939823311\n",
      "Recall: 0.39031602291628165\n",
      "F1 Score: 0.3194836627672448\n",
      "Accuracy: 0.6727845799490847\n",
      "Matthews Correlation Coefficient: 0.11664197899562236\n"
     ]
    }
   ],
   "source": [
    "#vypocitanie metrik\n",
    "precision = TP_count / (TP_count + FP_count)\n",
    "print(\"Precision:\", precision)\n",
    "\n",
    "recall = TP_count / (TP_count + FN_count)\n",
    "print(\"Recall:\", recall)\n",
    "\n",
    "F1_score = 2 * (precision * recall) / (precision + recall)\n",
    "print(\"F1 Score:\", F1_score)\n",
    "\n",
    "accuracy = (TP_count + TN_count) / (TP_count + FP_count + TN_count + FN_count)\n",
    "print(\"Accuracy:\", accuracy)\n",
    "from math import sqrt\n",
    "\n",
    "# Matthews Correlation Coefficient (MCC)\n",
    "MCC = (TP_count * TN_count - FP_count * FN_count) / sqrt((TP_count + FP_count) * (TP_count + FN_count) * (TN_count + FP_count) * (TN_count + FN_count))\n",
    "\n",
    "print(\"Matthews Correlation Coefficient:\", MCC)"
   ]
  },
  {
   "cell_type": "markdown",
   "metadata": {},
   "source": [
    "### Linear SVM Model\n",
    "#### Natrénovanie klasifikačného modelu na trénovacej množine a jeho evaluáciu na testovacej množine."
   ]
  },
  {
   "cell_type": "code",
   "execution_count": 62,
   "metadata": {
    "ExecuteTime": {
     "end_time": "2024-04-30T21:22:12.518417Z",
     "start_time": "2024-04-30T21:20:56.646547Z"
    },
    "collapsed": false,
    "jupyter": {
     "outputs_hidden": false
    }
   },
   "outputs": [
    {
     "name": "stderr",
     "output_type": "stream",
     "text": [
      "24/04/30 21:21:11 WARN InstanceBuilder: Failed to load implementation from:dev.ludovic.netlib.blas.JNIBLAS\n",
      "                                                                                \r"
     ]
    }
   ],
   "source": [
    "from pyspark.ml.classification import LinearSVC\n",
    "\n",
    "svm_classifier = LinearSVC(featuresCol=\"features\", labelCol=\"DEP_DEL15\")\n",
    "\n",
    "svm_model = svm_classifier.fit(undersampled_data)"
   ]
  },
  {
   "cell_type": "code",
   "execution_count": 63,
   "metadata": {
    "ExecuteTime": {
     "end_time": "2024-04-30T21:22:29.470471Z",
     "start_time": "2024-04-30T21:22:12.524059Z"
    },
    "collapsed": false,
    "jupyter": {
     "outputs_hidden": false
    }
   },
   "outputs": [
    {
     "name": "stderr",
     "output_type": "stream",
     "text": [
      "[Stage 829:===================================================>   (13 + 1) / 14]\r"
     ]
    },
    {
     "name": "stdout",
     "output_type": "stream",
     "text": [
      "Testing error: 0.2385\n"
     ]
    },
    {
     "name": "stderr",
     "output_type": "stream",
     "text": [
      "                                                                                \r"
     ]
    }
   ],
   "source": [
    "predictions = svm_model.transform(test_data)\n",
    "test_error = predictions.filter(predictions[\"prediction\"] != predictions[\"DEP_DEL15\"]).count() / float(test_data.count())\n",
    "print(\"Testing error: {0:.4f}\".format(test_error))"
   ]
  },
  {
   "cell_type": "markdown",
   "metadata": {},
   "source": [
    "### Vyhodnotenie modelu použitím kontigenčnej tabuľky a vypočítaním metrík presnosti, návratnosti, F1 a MCC (Matthews Correlation Coefficient)"
   ]
  },
  {
   "cell_type": "code",
   "execution_count": 64,
   "metadata": {
    "ExecuteTime": {
     "end_time": "2024-04-30T21:23:21.702777Z",
     "start_time": "2024-04-30T21:22:47.049478Z"
    },
    "collapsed": false,
    "jupyter": {
     "outputs_hidden": false
    }
   },
   "outputs": [
    {
     "name": "stderr",
     "output_type": "stream",
     "text": [
      "[Stage 841:===================================================>   (13 + 1) / 14]\r"
     ]
    },
    {
     "name": "stdout",
     "output_type": "stream",
     "text": [
      "True Positives: 2547\n",
      "False Positives: 5988\n",
      "True Negatives: 60269\n",
      "False Negatives: 13686\n"
     ]
    },
    {
     "name": "stderr",
     "output_type": "stream",
     "text": [
      "                                                                                \r"
     ]
    }
   ],
   "source": [
    "#vypocitanie confusion matrix\n",
    "condition_tp = (col(\"DEP_DEL15\") == 1) & (col(\"prediction\") == 1)\n",
    "condition_fp = (col(\"DEP_DEL15\") == 0) & (col(\"prediction\") == 1)\n",
    "condition_tn = (col(\"DEP_DEL15\") == 0) & (col(\"prediction\") == 0)\n",
    "condition_fn = (col(\"DEP_DEL15\") == 1) & (col(\"prediction\") == 0)\n",
    "\n",
    "predictions = predictions.withColumn(\"TP\", when(condition_tp, 1).otherwise(0))\n",
    "predictions = predictions.withColumn(\"FP\", when(condition_fp, 1).otherwise(0))\n",
    "predictions = predictions.withColumn(\"TN\", when(condition_tn, 1).otherwise(0))\n",
    "predictions = predictions.withColumn(\"FN\", when(condition_fn, 1).otherwise(0))\n",
    "\n",
    "TP_count = predictions.filter(col(\"TP\") == 1).count()\n",
    "FP_count = predictions.filter(col(\"FP\") == 1).count()\n",
    "TN_count = predictions.filter(col(\"TN\") == 1).count()\n",
    "FN_count = predictions.filter(col(\"FN\") == 1).count()\n",
    "\n",
    "print(\"True Positives:\", TP_count)\n",
    "print(\"False Positives:\", FP_count)\n",
    "print(\"True Negatives:\", TN_count)\n",
    "print(\"False Negatives:\", FN_count)"
   ]
  },
  {
   "cell_type": "code",
   "execution_count": 65,
   "metadata": {
    "ExecuteTime": {
     "end_time": "2024-04-30T21:23:21.719556Z",
     "start_time": "2024-04-30T21:23:21.706447Z"
    },
    "collapsed": false,
    "jupyter": {
     "outputs_hidden": false
    }
   },
   "outputs": [
    {
     "name": "stdout",
     "output_type": "stream",
     "text": [
      "Precision: 0.2984182776801406\n",
      "Recall: 0.1569026058029939\n",
      "F1 Score: 0.2056686046511628\n",
      "Accuracy: 0.7614983634379925\n",
      "Matthews Correlation Coefficient: 0.08684189895044557\n"
     ]
    }
   ],
   "source": [
    "#vypocitanie metrik\n",
    "precision = TP_count / (TP_count + FP_count)\n",
    "print(\"Precision:\", precision)\n",
    "\n",
    "recall = TP_count / (TP_count + FN_count)\n",
    "print(\"Recall:\", recall)\n",
    "\n",
    "F1_score = 2 * (precision * recall) / (precision + recall)\n",
    "print(\"F1 Score:\", F1_score)\n",
    "\n",
    "accuracy = (TP_count + TN_count) / (TP_count + FP_count + TN_count + FN_count)\n",
    "print(\"Accuracy:\", accuracy)\n",
    "from math import sqrt\n",
    "\n",
    "# Matthews Correlation Coefficient (MCC)\n",
    "MCC = (TP_count * TN_count - FP_count * FN_count) / sqrt((TP_count + FP_count) * (TP_count + FN_count) * (TN_count + FP_count) * (TN_count + FN_count))\n",
    "\n",
    "print(\"Matthews Correlation Coefficient:\", MCC)"
   ]
  },
  {
   "cell_type": "markdown",
   "metadata": {},
   "source": [
    "### Random Forests Model\n",
    "#### Natrénovanie klasifikačného modelu na trénovacej množine a jeho evaluáciu na testovacej množine."
   ]
  },
  {
   "cell_type": "code",
   "execution_count": 70,
   "metadata": {
    "ExecuteTime": {
     "end_time": "2024-04-30T21:27:38.762447Z",
     "start_time": "2024-04-30T21:26:33.901876Z"
    },
    "collapsed": false,
    "jupyter": {
     "outputs_hidden": false
    }
   },
   "outputs": [
    {
     "name": "stderr",
     "output_type": "stream",
     "text": [
      "24/04/30 21:27:13 WARN DAGScheduler: Broadcasting large task binary with size 1036.3 KiB\n",
      "24/04/30 21:27:13 WARN DAGScheduler: Broadcasting large task binary with size 1309.1 KiB\n",
      "24/04/30 21:27:14 WARN DAGScheduler: Broadcasting large task binary with size 1678.1 KiB\n",
      "24/04/30 21:27:15 WARN DAGScheduler: Broadcasting large task binary with size 2.1 MiB\n",
      "24/04/30 21:27:17 WARN DAGScheduler: Broadcasting large task binary with size 2.7 MiB\n",
      "24/04/30 21:27:18 WARN DAGScheduler: Broadcasting large task binary with size 3.5 MiB\n",
      "24/04/30 21:27:21 WARN DAGScheduler: Broadcasting large task binary with size 4.3 MiB\n",
      "24/04/30 21:27:23 WARN DAGScheduler: Broadcasting large task binary with size 5.4 MiB\n",
      "24/04/30 21:27:25 WARN DAGScheduler: Broadcasting large task binary with size 6.6 MiB\n",
      "24/04/30 21:27:28 WARN DAGScheduler: Broadcasting large task binary with size 8.0 MiB\n",
      "24/04/30 21:27:31 WARN DAGScheduler: Broadcasting large task binary with size 9.4 MiB\n",
      "24/04/30 21:27:34 WARN DAGScheduler: Broadcasting large task binary with size 11.0 MiB\n",
      "                                                                                \r"
     ]
    }
   ],
   "source": [
    "from pyspark.ml.classification import RandomForestClassifier\n",
    "\n",
    "rf_classifier = RandomForestClassifier(featuresCol=\"features\", labelCol=\"DEP_DEL15\", numTrees=10, maxDepth=20)\n",
    "\n",
    "rf_model = rf_classifier.fit(undersampled_data)"
   ]
  },
  {
   "cell_type": "code",
   "execution_count": 71,
   "metadata": {
    "ExecuteTime": {
     "end_time": "2024-04-30T21:27:51.926951Z",
     "start_time": "2024-04-30T21:27:38.768453Z"
    },
    "collapsed": false,
    "jupyter": {
     "outputs_hidden": false
    }
   },
   "outputs": [
    {
     "name": "stderr",
     "output_type": "stream",
     "text": [
      "24/04/30 21:27:39 WARN DAGScheduler: Broadcasting large task binary with size 6.4 MiB\n",
      "[Stage 929:===================================================>   (13 + 1) / 14]\r"
     ]
    },
    {
     "name": "stdout",
     "output_type": "stream",
     "text": [
      "Testing error: 0.2453\n"
     ]
    },
    {
     "name": "stderr",
     "output_type": "stream",
     "text": [
      "                                                                                \r"
     ]
    }
   ],
   "source": [
    "predictions = rf_model.transform(test_data)\n",
    "# predikovaná trieda je uložená v stĺpci ‘prediction’, spočítame počet chybne klasifikovaných príkladov\n",
    "# pri ktorých sa ‘prediction’ nerovná cieľovému atribútu ‘attack_type_index’\n",
    "test_error = predictions.filter(predictions[\"prediction\"] != predictions[\"DEP_DEL15\"]).count() / float(test_data.count())\n",
    "print(\"Testing error: {0:.4f}\".format(test_error))"
   ]
  },
  {
   "cell_type": "markdown",
   "metadata": {},
   "source": [
    "### Vyhodnotenie modelu použitím kontigenčnej tabuľky a vypočítaním metrík presnosti, návratnosti, F1 a MCC (Matthews Correlation Coefficient)"
   ]
  },
  {
   "cell_type": "code",
   "execution_count": 72,
   "metadata": {
    "ExecuteTime": {
     "end_time": "2024-04-30T21:28:16.996353Z",
     "start_time": "2024-04-30T21:27:51.930498Z"
    },
    "collapsed": false,
    "jupyter": {
     "outputs_hidden": false
    }
   },
   "outputs": [
    {
     "name": "stderr",
     "output_type": "stream",
     "text": [
      "24/04/30 21:27:52 WARN DAGScheduler: Broadcasting large task binary with size 6.4 MiB\n",
      "24/04/30 21:27:59 WARN DAGScheduler: Broadcasting large task binary with size 6.4 MiB\n",
      "24/04/30 21:28:04 WARN DAGScheduler: Broadcasting large task binary with size 6.4 MiB\n",
      "24/04/30 21:28:11 WARN DAGScheduler: Broadcasting large task binary with size 6.4 MiB\n",
      "[Stage 941:===================================================>   (13 + 1) / 14]\r"
     ]
    },
    {
     "name": "stdout",
     "output_type": "stream",
     "text": [
      "True Positives: 4389\n",
      "False Positives: 8393\n",
      "True Negatives: 57864\n",
      "False Negatives: 11844\n"
     ]
    },
    {
     "name": "stderr",
     "output_type": "stream",
     "text": [
      "                                                                                \r"
     ]
    }
   ],
   "source": [
    "#vypocitanie confusion matrix\n",
    "condition_tp = (col(\"DEP_DEL15\") == 1) & (col(\"prediction\") == 1)\n",
    "condition_fp = (col(\"DEP_DEL15\") == 0) & (col(\"prediction\") == 1)\n",
    "condition_tn = (col(\"DEP_DEL15\") == 0) & (col(\"prediction\") == 0)\n",
    "condition_fn = (col(\"DEP_DEL15\") == 1) & (col(\"prediction\") == 0)\n",
    "\n",
    "predictions = predictions.withColumn(\"TP\", when(condition_tp, 1).otherwise(0))\n",
    "predictions = predictions.withColumn(\"FP\", when(condition_fp, 1).otherwise(0))\n",
    "predictions = predictions.withColumn(\"TN\", when(condition_tn, 1).otherwise(0))\n",
    "predictions = predictions.withColumn(\"FN\", when(condition_fn, 1).otherwise(0))\n",
    "\n",
    "TP_count = predictions.filter(col(\"TP\") == 1).count()\n",
    "FP_count = predictions.filter(col(\"FP\") == 1).count()\n",
    "TN_count = predictions.filter(col(\"TN\") == 1).count()\n",
    "FN_count = predictions.filter(col(\"FN\") == 1).count()\n",
    "\n",
    "print(\"True Positives:\", TP_count)\n",
    "print(\"False Positives:\", FP_count)\n",
    "print(\"True Negatives:\", TN_count)\n",
    "print(\"False Negatives:\", FN_count)"
   ]
  },
  {
   "cell_type": "code",
   "execution_count": 73,
   "metadata": {
    "ExecuteTime": {
     "end_time": "2024-04-30T21:28:17.004560Z",
     "start_time": "2024-04-30T21:28:17.002101Z"
    },
    "collapsed": false,
    "jupyter": {
     "outputs_hidden": false
    }
   },
   "outputs": [
    {
     "name": "stdout",
     "output_type": "stream",
     "text": [
      "Precision: 0.3433734939759036\n",
      "Recall: 0.2703751617076326\n",
      "F1 Score: 0.3025331724969843\n",
      "Accuracy: 0.7546732937325736\n",
      "Matthews Correlation Coefficient: 0.15788345745242213\n"
     ]
    }
   ],
   "source": [
    "#vypocitanie metrik\n",
    "precision = TP_count / (TP_count + FP_count)\n",
    "print(\"Precision:\", precision)\n",
    "\n",
    "recall = TP_count / (TP_count + FN_count)\n",
    "print(\"Recall:\", recall)\n",
    "\n",
    "F1_score = 2 * (precision * recall) / (precision + recall)\n",
    "print(\"F1 Score:\", F1_score)\n",
    "\n",
    "accuracy = (TP_count + TN_count) / (TP_count + FP_count + TN_count + FN_count)\n",
    "print(\"Accuracy:\", accuracy)\n",
    "from math import sqrt\n",
    "\n",
    "# Matthews Correlation Coefficient (MCC)\n",
    "MCC = (TP_count * TN_count - FP_count * FN_count) / sqrt((TP_count + FP_count) * (TP_count + FN_count) * (TN_count + FP_count) * (TN_count + FN_count))\n",
    "\n",
    "print(\"Matthews Correlation Coefficient:\", MCC)"
   ]
  },
  {
   "cell_type": "code",
   "execution_count": null,
   "metadata": {
    "collapsed": false,
    "jupyter": {
     "outputs_hidden": false
    }
   },
   "outputs": [],
   "source": []
  }
 ],
 "metadata": {
  "kernelspec": {
   "display_name": "Python 3 (ipykernel)",
   "language": "python",
   "name": "python3"
  },
  "language_info": {
   "codemirror_mode": {
    "name": "ipython",
    "version": 3
   },
   "file_extension": ".py",
   "mimetype": "text/x-python",
   "name": "python",
   "nbconvert_exporter": "python",
   "pygments_lexer": "ipython3",
   "version": "3.10.6"
  }
 },
 "nbformat": 4,
 "nbformat_minor": 4
}
